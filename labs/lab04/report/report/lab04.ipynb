{
 "cells": [
  {
   "cell_type": "markdown",
   "id": "e5aeb921-e700-4c50-b096-f201c07ea80c",
   "metadata": {
    "tags": []
   },
   "source": [
    "# Лабораторная работа № 4. Линейная алгебра"
   ]
  },
  {
   "cell_type": "markdown",
   "id": "62824228-d9a6-4e21-84e1-9dfedc35b350",
   "metadata": {},
   "source": [
    "## Повторение примеров"
   ]
  },
  {
   "cell_type": "markdown",
   "id": "3057f61f-82bb-4399-90a3-37b3c604a2ee",
   "metadata": {},
   "source": [
    "### 4.2.1. Поэлементные операции над многомерными массивами"
   ]
  },
  {
   "cell_type": "code",
   "execution_count": 1,
   "id": "cce926ea-3400-454f-a534-5c8339824e05",
   "metadata": {},
   "outputs": [
    {
     "data": {
      "text/plain": [
       "4×3 Matrix{Int64}:\n",
       " 15  18  12\n",
       "  9   8  12\n",
       "  9  17  19\n",
       "  6  11  10"
      ]
     },
     "execution_count": 1,
     "metadata": {},
     "output_type": "execute_result"
    }
   ],
   "source": [
    "# Массив 4x3 со случайными целыми числами (от 1 до 20):\n",
    "a = rand(1:20,(4,3))"
   ]
  },
  {
   "cell_type": "code",
   "execution_count": 2,
   "id": "43b4be76-4476-4a8a-babb-978a7e83d19c",
   "metadata": {
    "tags": []
   },
   "outputs": [
    {
     "data": {
      "text/plain": [
       "146"
      ]
     },
     "execution_count": 2,
     "metadata": {},
     "output_type": "execute_result"
    }
   ],
   "source": [
    "# Поэлементная сумма:\n",
    "sum(a)"
   ]
  },
  {
   "cell_type": "code",
   "execution_count": 3,
   "id": "d2b25357-8027-4280-87f1-7c9f419f9d32",
   "metadata": {
    "tags": []
   },
   "outputs": [
    {
     "data": {
      "text/plain": [
       "1×3 Matrix{Int64}:\n",
       " 39  54  53"
      ]
     },
     "execution_count": 3,
     "metadata": {},
     "output_type": "execute_result"
    }
   ],
   "source": [
    "# Поэлементная сумма по столбцам:\n",
    "sum(a,dims=1)"
   ]
  },
  {
   "cell_type": "code",
   "execution_count": 4,
   "id": "f531ead9-6c5e-4572-a86d-12b0ad85fe4b",
   "metadata": {
    "tags": []
   },
   "outputs": [
    {
     "data": {
      "text/plain": [
       "4×1 Matrix{Int64}:\n",
       " 45\n",
       " 29\n",
       " 45\n",
       " 27"
      ]
     },
     "execution_count": 4,
     "metadata": {},
     "output_type": "execute_result"
    }
   ],
   "source": [
    "# Поэлементная сумма по строкам:\n",
    "sum(a,dims=2)"
   ]
  },
  {
   "cell_type": "code",
   "execution_count": 5,
   "id": "8ac54fcd-ac0d-492d-ace8-a8e7659e4928",
   "metadata": {
    "tags": []
   },
   "outputs": [
    {
     "data": {
      "text/plain": [
       "5370908083200"
      ]
     },
     "execution_count": 5,
     "metadata": {},
     "output_type": "execute_result"
    }
   ],
   "source": [
    "# Поэлементное произведение:\n",
    "prod(a)"
   ]
  },
  {
   "cell_type": "code",
   "execution_count": 6,
   "id": "eaf17bf6-faba-485a-93e6-9c1de1e960e1",
   "metadata": {
    "tags": []
   },
   "outputs": [
    {
     "data": {
      "text/plain": [
       "1×3 Matrix{Int64}:\n",
       " 7290  26928  27360"
      ]
     },
     "execution_count": 6,
     "metadata": {},
     "output_type": "execute_result"
    }
   ],
   "source": [
    "# Поэлементное произведение по столбцам:\n",
    "prod(a,dims=1)"
   ]
  },
  {
   "cell_type": "code",
   "execution_count": 7,
   "id": "0b282691-a9e4-46dc-953f-323a0983c12e",
   "metadata": {},
   "outputs": [
    {
     "data": {
      "text/plain": [
       "4×1 Matrix{Int64}:\n",
       " 3240\n",
       "  864\n",
       " 2907\n",
       "  660"
      ]
     },
     "execution_count": 7,
     "metadata": {},
     "output_type": "execute_result"
    }
   ],
   "source": [
    "# Поэлементное произведение по строкам:\n",
    "prod(a,dims=2)"
   ]
  },
  {
   "cell_type": "markdown",
   "id": "d129fb96-5cef-4ec2-9b9d-4e81a1cb9489",
   "metadata": {},
   "source": [
    "Для работы со средними значениями можно воспользоваться возможностями пакета\n",
    "Statistics:"
   ]
  },
  {
   "cell_type": "code",
   "execution_count": 8,
   "id": "3ef7250c-79f4-443f-bb60-ec1c5aa06a26",
   "metadata": {
    "tags": []
   },
   "outputs": [
    {
     "name": "stderr",
     "output_type": "stream",
     "text": [
      "\u001b[32m\u001b[1m    Updating\u001b[22m\u001b[39m registry at `C:\\Users\\User\\.julia\\registries\\General.toml`\n",
      "\u001b[32m\u001b[1m   Resolving\u001b[22m\u001b[39m package versions...\n",
      "\u001b[32m\u001b[1m    Updating\u001b[22m\u001b[39m `C:\\Users\\User\\.julia\\environments\\v1.8\\Project.toml`\n",
      " \u001b[90m [10745b16] \u001b[39m\u001b[92m+ Statistics\u001b[39m\n",
      "\u001b[32m\u001b[1m  No Changes\u001b[22m\u001b[39m to `C:\\Users\\User\\.julia\\environments\\v1.8\\Manifest.toml`\n"
     ]
    }
   ],
   "source": [
    "# Подключение пакета Statistics:\n",
    "import Pkg\n",
    "Pkg.add(\"Statistics\")"
   ]
  },
  {
   "cell_type": "code",
   "execution_count": 9,
   "id": "6c080464-3f46-4b8a-aea0-6b47548745b5",
   "metadata": {
    "tags": []
   },
   "outputs": [],
   "source": [
    "using Statistics"
   ]
  },
  {
   "cell_type": "code",
   "execution_count": 10,
   "id": "a1f2b39c-58b5-4176-94de-6e3a2aa90f82",
   "metadata": {
    "tags": []
   },
   "outputs": [
    {
     "data": {
      "text/plain": [
       "12.166666666666666"
      ]
     },
     "execution_count": 10,
     "metadata": {},
     "output_type": "execute_result"
    }
   ],
   "source": [
    "# Вычисление среднего значения массива:\n",
    "mean(a)"
   ]
  },
  {
   "cell_type": "code",
   "execution_count": 11,
   "id": "291af3ae-dd67-4155-b69f-a6df656243de",
   "metadata": {
    "tags": []
   },
   "outputs": [
    {
     "data": {
      "text/plain": [
       "1×3 Matrix{Float64}:\n",
       " 9.75  13.5  13.25"
      ]
     },
     "execution_count": 11,
     "metadata": {},
     "output_type": "execute_result"
    }
   ],
   "source": [
    "# Среднее по столбцам:\n",
    "mean(a,dims=1)"
   ]
  },
  {
   "cell_type": "code",
   "execution_count": 12,
   "id": "b1585de7-7c16-4646-aeae-cdffbac7fa9f",
   "metadata": {
    "tags": []
   },
   "outputs": [
    {
     "data": {
      "text/plain": [
       "4×1 Matrix{Float64}:\n",
       " 15.0\n",
       "  9.666666666666666\n",
       " 15.0\n",
       "  9.0"
      ]
     },
     "execution_count": 12,
     "metadata": {},
     "output_type": "execute_result"
    }
   ],
   "source": [
    "# Среднее по строкам:\n",
    "mean(a,dims=2)"
   ]
  },
  {
   "cell_type": "markdown",
   "id": "ff6535d9-2206-4bc4-b98c-011f7d6456d6",
   "metadata": {},
   "source": [
    "### 4.2.2. Транспонирование, след, ранг, определитель и инверсия матрицы"
   ]
  },
  {
   "cell_type": "code",
   "execution_count": 13,
   "id": "ef68474a-6e2d-4c16-8f97-7d2025151c2d",
   "metadata": {},
   "outputs": [
    {
     "name": "stderr",
     "output_type": "stream",
     "text": [
      "\u001b[32m\u001b[1m   Resolving\u001b[22m\u001b[39m package versions...\n",
      "\u001b[32m\u001b[1m  No Changes\u001b[22m\u001b[39m to `C:\\Users\\User\\.julia\\environments\\v1.8\\Project.toml`\n",
      "\u001b[32m\u001b[1m  No Changes\u001b[22m\u001b[39m to `C:\\Users\\User\\.julia\\environments\\v1.8\\Manifest.toml`\n"
     ]
    }
   ],
   "source": [
    "# Подключение пакета LinearAlgebra:\n",
    "import Pkg\n",
    "Pkg.add(\"LinearAlgebra\")"
   ]
  },
  {
   "cell_type": "code",
   "execution_count": 15,
   "id": "6d25e71f-ba1e-4c30-b024-080963340ae5",
   "metadata": {
    "tags": []
   },
   "outputs": [],
   "source": [
    "using LinearAlgebra"
   ]
  },
  {
   "cell_type": "code",
   "execution_count": 16,
   "id": "6f48c3f7-e3b6-45e9-a4ac-f7a069a927b0",
   "metadata": {
    "tags": []
   },
   "outputs": [
    {
     "data": {
      "text/plain": [
       "4×4 Matrix{Int64}:\n",
       " 9   1  13   3\n",
       " 6  18   8  17\n",
       " 9  12  10  19\n",
       " 1  19  20   9"
      ]
     },
     "execution_count": 16,
     "metadata": {},
     "output_type": "execute_result"
    }
   ],
   "source": [
    "# Массив 4x4 со случайными целыми числами (от 1 до 20):\n",
    "b = rand(1:20,(4,4))"
   ]
  },
  {
   "cell_type": "code",
   "execution_count": 17,
   "id": "5894a709-c964-4ff0-a3fe-1170f2cdd8c9",
   "metadata": {
    "tags": []
   },
   "outputs": [
    {
     "data": {
      "text/plain": [
       "4×4 transpose(::Matrix{Int64}) with eltype Int64:\n",
       "  9   6   9   1\n",
       "  1  18  12  19\n",
       " 13   8  10  20\n",
       "  3  17  19   9"
      ]
     },
     "execution_count": 17,
     "metadata": {},
     "output_type": "execute_result"
    }
   ],
   "source": [
    "# Транспонирование:\n",
    "transpose(b)"
   ]
  },
  {
   "cell_type": "code",
   "execution_count": 18,
   "id": "535848f6-0358-431a-9a26-eb07f83e83ae",
   "metadata": {
    "tags": []
   },
   "outputs": [
    {
     "data": {
      "text/plain": [
       "46"
      ]
     },
     "execution_count": 18,
     "metadata": {},
     "output_type": "execute_result"
    }
   ],
   "source": [
    "# След матрицы (сумма диагональных элементов):\n",
    "tr(b)"
   ]
  },
  {
   "cell_type": "code",
   "execution_count": 19,
   "id": "1741144f-e9ba-4a55-92ce-5345e398ff5c",
   "metadata": {
    "tags": []
   },
   "outputs": [
    {
     "data": {
      "text/plain": [
       "4-element Vector{Int64}:\n",
       "  9\n",
       " 18\n",
       " 10\n",
       "  9"
      ]
     },
     "execution_count": 19,
     "metadata": {},
     "output_type": "execute_result"
    }
   ],
   "source": [
    "# Извлечение диагональных элементов как массив:\n",
    "diag(b)"
   ]
  },
  {
   "cell_type": "code",
   "execution_count": 20,
   "id": "34e3cd37-39e0-4e3c-a7bf-2ad4cde3d08d",
   "metadata": {
    "tags": []
   },
   "outputs": [
    {
     "data": {
      "text/plain": [
       "4"
      ]
     },
     "execution_count": 20,
     "metadata": {},
     "output_type": "execute_result"
    }
   ],
   "source": [
    "# Ранг матрицы:\n",
    "rank(b)"
   ]
  },
  {
   "cell_type": "code",
   "execution_count": 21,
   "id": "2e281a07-0344-46d6-9661-aae2791c491d",
   "metadata": {
    "tags": []
   },
   "outputs": [
    {
     "data": {
      "text/plain": [
       "4×4 Matrix{Float64}:\n",
       "  0.142988     0.19193   -0.149266   -0.0950814\n",
       "  0.039861     0.17712   -0.155848   -0.0188334\n",
       " -0.00420552  -0.113488   0.0730176   0.06162\n",
       " -0.090693    -0.143049   0.183336    0.0245017"
      ]
     },
     "execution_count": 21,
     "metadata": {},
     "output_type": "execute_result"
    }
   ],
   "source": [
    "# Инверсия матрицы (определение обратной матрицы):\n",
    "inv(b)"
   ]
  },
  {
   "cell_type": "code",
   "execution_count": 22,
   "id": "54aed354-4e38-4cc8-bc10-2bc94e8ce955",
   "metadata": {
    "tags": []
   },
   "outputs": [
    {
     "data": {
      "text/plain": [
       "-16406.999999999996"
      ]
     },
     "execution_count": 22,
     "metadata": {},
     "output_type": "execute_result"
    }
   ],
   "source": [
    "# Определитель матрицы:\n",
    "det(b)"
   ]
  },
  {
   "cell_type": "code",
   "execution_count": 23,
   "id": "b6cab36a-92af-4a49-becd-518b00eab64e",
   "metadata": {
    "tags": []
   },
   "outputs": [
    {
     "data": {
      "text/plain": [
       "3×4 Matrix{Float64}:\n",
       "  0.0681024   0.133993  -0.0948392  -0.0623202\n",
       "  0.052915   -0.174364   0.041201    0.0674566\n",
       " -0.0838008   0.096607   0.0501025  -0.0105621"
      ]
     },
     "execution_count": 23,
     "metadata": {},
     "output_type": "execute_result"
    }
   ],
   "source": [
    "# Псевдобратная функция для прямоугольных матриц:\n",
    "pinv(a)"
   ]
  },
  {
   "cell_type": "markdown",
   "id": "1316823d-dc74-48e8-a8d0-506f72abddb8",
   "metadata": {},
   "source": [
    "### 4.2.3. Вычисление нормы векторов и матриц, повороты, вращения"
   ]
  },
  {
   "cell_type": "markdown",
   "id": "4c148e99-6b2c-4476-847f-af3292f31a1b",
   "metadata": {},
   "source": [
    "Для вычисления нормы используется LinearAlgebra.norm(x).\n",
    "\n",
    "Евклидова норма:\n",
    "$$ || \\overline{X}||_2 = \\sqrt{x_1^2 + x_2^2 + \\dots + x_n^2};$$\n",
    "p-норма:\n",
    "$$\n",
    "|| \\overline{A}||_p = \\Bigg(\\sum_{i=1}^{n} |a_i|^p \\Bigg)^{\\frac{1}{p}}\n",
    "$$"
   ]
  },
  {
   "cell_type": "code",
   "execution_count": 24,
   "id": "51df4935-e533-4174-89d0-aa0df99113e9",
   "metadata": {},
   "outputs": [
    {
     "data": {
      "text/plain": [
       "3-element Vector{Int64}:\n",
       "  2\n",
       "  4\n",
       " -5"
      ]
     },
     "execution_count": 24,
     "metadata": {},
     "output_type": "execute_result"
    }
   ],
   "source": [
    "# Создание вектора X:\n",
    "X = [2, 4, -5]"
   ]
  },
  {
   "cell_type": "code",
   "execution_count": 25,
   "id": "42202751-0e10-4168-828f-f737d213f6c9",
   "metadata": {
    "tags": []
   },
   "outputs": [
    {
     "data": {
      "text/plain": [
       "6.708203932499369"
      ]
     },
     "execution_count": 25,
     "metadata": {},
     "output_type": "execute_result"
    }
   ],
   "source": [
    "# Вычисление евклидовой нормы:\n",
    "norm(X)"
   ]
  },
  {
   "cell_type": "code",
   "execution_count": 26,
   "id": "69d1e4aa-61a4-45f3-9968-e86d6344bd61",
   "metadata": {
    "tags": []
   },
   "outputs": [
    {
     "data": {
      "text/plain": [
       "11.0"
      ]
     },
     "execution_count": 26,
     "metadata": {},
     "output_type": "execute_result"
    }
   ],
   "source": [
    "# Вычисление p-нормы:\n",
    "p = 1\n",
    "norm(X,p)"
   ]
  },
  {
   "cell_type": "markdown",
   "id": "a526ebb7-9048-49a1-bf92-bd9ff46d5bca",
   "metadata": {},
   "source": [
    "Евклидово расстояние между двумя векторами $\\overline{X}$и $\\overline{Y}$ определяется как $||\\overline{X} - \\overline{Y} ||^2$."
   ]
  },
  {
   "cell_type": "code",
   "execution_count": 27,
   "id": "a636d2fc-bd33-4c80-91be-1ee6d53862c1",
   "metadata": {
    "tags": []
   },
   "outputs": [
    {
     "data": {
      "text/plain": [
       "9.486832980505138"
      ]
     },
     "execution_count": 27,
     "metadata": {},
     "output_type": "execute_result"
    }
   ],
   "source": [
    "# Расстояние между двумя векторами X и Y:\n",
    "X = [2, 4, -5];\n",
    "Y = [1,-1,3];\n",
    "norm(X-Y)"
   ]
  },
  {
   "cell_type": "code",
   "execution_count": 28,
   "id": "b71c9089-976c-44cb-95d2-5b963a576285",
   "metadata": {
    "tags": []
   },
   "outputs": [
    {
     "data": {
      "text/plain": [
       "9.486832980505138"
      ]
     },
     "execution_count": 28,
     "metadata": {},
     "output_type": "execute_result"
    }
   ],
   "source": [
    "# Проверка по базовому определению:\n",
    "sqrt(sum((X-Y).^2))"
   ]
  },
  {
   "cell_type": "markdown",
   "id": "163feb03-6b20-4861-9796-6b412746927e",
   "metadata": {},
   "source": [
    "Угол между двумя векторами $\\overline{X}$и $\\overline{Y}$ определяется как $\\cos^{−1} \\frac{\\overline{X}^T \\overline{Y}}{||\\overline{X}||^2 ||\\overline{Y}||^2}$."
   ]
  },
  {
   "cell_type": "code",
   "execution_count": 31,
   "id": "7a5d7b3b-b0b5-49b2-868a-9e2ae1838014",
   "metadata": {
    "tags": []
   },
   "outputs": [
    {
     "data": {
      "text/plain": [
       "2.4404307889469252"
      ]
     },
     "execution_count": 31,
     "metadata": {},
     "output_type": "execute_result"
    }
   ],
   "source": [
    "# Угол между двумя векторами:\n",
    "acos((transpose(X)*Y)/(norm(X)*norm(Y)))"
   ]
  },
  {
   "cell_type": "markdown",
   "id": "ee33009b-b99a-426f-bdd1-62fb6107a5ef",
   "metadata": {},
   "source": [
    "Вычисление нормы для двумерной матрицы:"
   ]
  },
  {
   "cell_type": "code",
   "execution_count": 32,
   "id": "1e7d0676-ab3c-4a9b-b16d-4875beb96ae6",
   "metadata": {
    "tags": []
   },
   "outputs": [
    {
     "data": {
      "text/plain": [
       "3×3 Matrix{Int64}:\n",
       "  5  -4  2\n",
       " -1   2  3\n",
       " -2   1  0"
      ]
     },
     "execution_count": 32,
     "metadata": {},
     "output_type": "execute_result"
    }
   ],
   "source": [
    "# Создание матрицы:\n",
    "d = [5 -4 2 ; -1 2 3; -2 1 0]"
   ]
  },
  {
   "cell_type": "code",
   "execution_count": 33,
   "id": "1cfd18a9-13c8-48de-a9ea-14a305299621",
   "metadata": {
    "tags": []
   },
   "outputs": [
    {
     "data": {
      "text/plain": [
       "7.147682841795258"
      ]
     },
     "execution_count": 33,
     "metadata": {},
     "output_type": "execute_result"
    }
   ],
   "source": [
    "# Вычисление Евклидовой нормы:\n",
    "opnorm(d)"
   ]
  },
  {
   "cell_type": "code",
   "execution_count": 34,
   "id": "16a0db7c-20d6-4186-976a-cdf4ed00521c",
   "metadata": {
    "tags": []
   },
   "outputs": [
    {
     "data": {
      "text/plain": [
       "8.0"
      ]
     },
     "execution_count": 34,
     "metadata": {},
     "output_type": "execute_result"
    }
   ],
   "source": [
    "# Вычисление p-нормы:\n",
    "p=1\n",
    "opnorm(d,p)"
   ]
  },
  {
   "cell_type": "code",
   "execution_count": 35,
   "id": "4cb6acc5-c826-4f5a-af9b-406baa30757e",
   "metadata": {
    "tags": []
   },
   "outputs": [
    {
     "data": {
      "text/plain": [
       "3×3 Matrix{Int64}:\n",
       " 0   1  -2\n",
       " 3   2  -1\n",
       " 2  -4   5"
      ]
     },
     "execution_count": 35,
     "metadata": {},
     "output_type": "execute_result"
    }
   ],
   "source": [
    "# Поворот на 180 градусов:\n",
    "rot180(d)"
   ]
  },
  {
   "cell_type": "code",
   "execution_count": 36,
   "id": "b02b3dbf-8bc4-49a0-aac7-ae850abf944c",
   "metadata": {
    "tags": []
   },
   "outputs": [
    {
     "data": {
      "text/plain": [
       "3×3 Matrix{Int64}:\n",
       " -2   1  0\n",
       " -1   2  3\n",
       "  5  -4  2"
      ]
     },
     "execution_count": 36,
     "metadata": {},
     "output_type": "execute_result"
    }
   ],
   "source": [
    "# Переворачивание строк:\n",
    "reverse(d,dims=1)"
   ]
  },
  {
   "cell_type": "code",
   "execution_count": 37,
   "id": "f78d6b33-7696-4912-bd30-c8e5b2ebf6aa",
   "metadata": {
    "tags": []
   },
   "outputs": [
    {
     "data": {
      "text/plain": [
       "3×3 Matrix{Int64}:\n",
       " 2  -4   5\n",
       " 3   2  -1\n",
       " 0   1  -2"
      ]
     },
     "execution_count": 37,
     "metadata": {},
     "output_type": "execute_result"
    }
   ],
   "source": [
    "# Переворачивание столбцов\n",
    "reverse(d,dims=2)"
   ]
  },
  {
   "cell_type": "markdown",
   "id": "2b90277f-e4c6-460f-801d-132c4d8a4fa9",
   "metadata": {},
   "source": [
    "### 4.2.4. Матричное умножение, единичная матрица, скалярное произведение"
   ]
  },
  {
   "cell_type": "code",
   "execution_count": 38,
   "id": "31fa3dff-d16d-463e-9c10-6e0c36b8f22f",
   "metadata": {},
   "outputs": [
    {
     "data": {
      "text/plain": [
       "2×3 Matrix{Int64}:\n",
       " 2  9  2\n",
       " 8  2  4"
      ]
     },
     "execution_count": 38,
     "metadata": {},
     "output_type": "execute_result"
    }
   ],
   "source": [
    "# Матрица 2x3 со случайными целыми значениями от 1 до 10:\n",
    "A = rand(1:10,(2,3))"
   ]
  },
  {
   "cell_type": "code",
   "execution_count": 39,
   "id": "149b6037-4289-4307-bfbf-ee08fb4ad118",
   "metadata": {
    "tags": []
   },
   "outputs": [
    {
     "data": {
      "text/plain": [
       "3×4 Matrix{Int64}:\n",
       " 10   9  4   3\n",
       "  5  10  9   7\n",
       "  1  10  7  10"
      ]
     },
     "execution_count": 39,
     "metadata": {},
     "output_type": "execute_result"
    }
   ],
   "source": [
    "# Матрица 3x4 со случайными целыми значениями от 1 до 10:\n",
    "B = rand(1:10,(3,4))"
   ]
  },
  {
   "cell_type": "code",
   "execution_count": 40,
   "id": "be52fb12-024d-4c22-ba51-790a4dc88ad9",
   "metadata": {
    "tags": []
   },
   "outputs": [
    {
     "data": {
      "text/plain": [
       "2×4 Matrix{Int64}:\n",
       " 67  128  103  89\n",
       " 94  132   78  78"
      ]
     },
     "execution_count": 40,
     "metadata": {},
     "output_type": "execute_result"
    }
   ],
   "source": [
    "# Произведение матриц A и B:\n",
    "A*B"
   ]
  },
  {
   "cell_type": "code",
   "execution_count": 41,
   "id": "78a896f3-488b-4c2d-bd61-833e716f0d49",
   "metadata": {
    "tags": []
   },
   "outputs": [
    {
     "data": {
      "text/plain": [
       "3×3 Matrix{Int64}:\n",
       " 1  0  0\n",
       " 0  1  0\n",
       " 0  0  1"
      ]
     },
     "execution_count": 41,
     "metadata": {},
     "output_type": "execute_result"
    }
   ],
   "source": [
    "# Единичная матрица 3x3:\n",
    "Matrix{Int}(I, 3, 3)"
   ]
  },
  {
   "cell_type": "code",
   "execution_count": 43,
   "id": "596bdcba-7945-443c-9bdd-268dfe419274",
   "metadata": {
    "tags": []
   },
   "outputs": [
    {
     "data": {
      "text/plain": [
       "3-element Vector{Int64}:\n",
       "  2\n",
       "  4\n",
       " -5"
      ]
     },
     "execution_count": 43,
     "metadata": {},
     "output_type": "execute_result"
    }
   ],
   "source": [
    "# Скалярное произведение векторов X и Y:\n",
    "X = [2, 4, -5]"
   ]
  },
  {
   "cell_type": "code",
   "execution_count": 44,
   "id": "7e561443-be1e-4764-99b6-238238f2ccd9",
   "metadata": {
    "tags": []
   },
   "outputs": [
    {
     "data": {
      "text/plain": [
       "3-element Vector{Int64}:\n",
       "  1\n",
       " -1\n",
       "  3"
      ]
     },
     "execution_count": 44,
     "metadata": {},
     "output_type": "execute_result"
    }
   ],
   "source": [
    "Y = [1,-1,3]"
   ]
  },
  {
   "cell_type": "code",
   "execution_count": 45,
   "id": "49ed6e46-f933-4b48-ad08-b9e95e648768",
   "metadata": {
    "tags": []
   },
   "outputs": [
    {
     "data": {
      "text/plain": [
       "-17"
      ]
     },
     "execution_count": 45,
     "metadata": {},
     "output_type": "execute_result"
    }
   ],
   "source": [
    "dot(X,Y)"
   ]
  },
  {
   "cell_type": "code",
   "execution_count": 46,
   "id": "b7347a13-7597-4aee-bd61-b619bfc95a0b",
   "metadata": {
    "tags": []
   },
   "outputs": [
    {
     "data": {
      "text/plain": [
       "-17"
      ]
     },
     "execution_count": 46,
     "metadata": {},
     "output_type": "execute_result"
    }
   ],
   "source": [
    "# тоже скалярное произведение:\n",
    "X'Y"
   ]
  },
  {
   "cell_type": "markdown",
   "id": "a9bc3348-aabb-4572-848b-b97aeb957f02",
   "metadata": {},
   "source": [
    "### 4.2.5. Факторизация. Специальные матричные структуры"
   ]
  },
  {
   "cell_type": "markdown",
   "id": "047661a4-0cde-4283-ac72-a5b2deedf7fa",
   "metadata": {},
   "source": [
    "Решение систем линейный алгебраических уравнений 𝐴𝑥 = 𝑏:"
   ]
  },
  {
   "cell_type": "code",
   "execution_count": 47,
   "id": "b5402448-76c2-464d-926f-cfb2edd6499c",
   "metadata": {},
   "outputs": [
    {
     "data": {
      "text/plain": [
       "3×3 Matrix{Float64}:\n",
       " 0.0244786  0.295394  0.719576\n",
       " 0.470582   0.665976  0.354524\n",
       " 0.494353   0.586467  0.937499"
      ]
     },
     "execution_count": 47,
     "metadata": {},
     "output_type": "execute_result"
    }
   ],
   "source": [
    "# Задаём квадратную матрицу 3x3 со случайными значениями:\n",
    "A = rand(3, 3)"
   ]
  },
  {
   "cell_type": "code",
   "execution_count": 48,
   "id": "a11807f5-52a6-4b78-9154-b2bb24357394",
   "metadata": {},
   "outputs": [
    {
     "data": {
      "text/plain": [
       "3-element Vector{Float64}:\n",
       " 1.0\n",
       " 1.0\n",
       " 1.0"
      ]
     },
     "execution_count": 48,
     "metadata": {},
     "output_type": "execute_result"
    }
   ],
   "source": [
    "# Задаём единичный вектор:\n",
    "x = fill(1.0, 3)"
   ]
  },
  {
   "cell_type": "code",
   "execution_count": 49,
   "id": "f1f01e21-8ef0-4f08-ba67-b3a649255d60",
   "metadata": {
    "tags": []
   },
   "outputs": [
    {
     "data": {
      "text/plain": [
       "3-element Vector{Float64}:\n",
       " 1.039448668198395\n",
       " 1.4910819593511615\n",
       " 2.018319207610515"
      ]
     },
     "execution_count": 49,
     "metadata": {},
     "output_type": "execute_result"
    }
   ],
   "source": [
    "# Задаём вектор b:\n",
    "b = A*x"
   ]
  },
  {
   "cell_type": "code",
   "execution_count": 50,
   "id": "6d2f77a7-1e17-45e2-b881-8994f2d56b25",
   "metadata": {
    "tags": []
   },
   "outputs": [
    {
     "data": {
      "text/plain": [
       "3-element Vector{Float64}:\n",
       " 0.9999999999999998\n",
       " 0.9999999999999998\n",
       " 1.0000000000000002"
      ]
     },
     "execution_count": 50,
     "metadata": {},
     "output_type": "execute_result"
    }
   ],
   "source": [
    "# Решение исходного уравнения получаем с помощью функции \\\n",
    "# (убеждаемся, что x - единичный вектор):\n",
    "A\\b"
   ]
  },
  {
   "cell_type": "markdown",
   "id": "8c3d0482-ecad-4fd5-827a-48de93a5a33f",
   "metadata": {},
   "source": [
    "Julia позволяет вычислять LU-факторизацию и определяет составной тип факторизации\n",
    "для его хранения:"
   ]
  },
  {
   "cell_type": "code",
   "execution_count": 51,
   "id": "e677d343-510f-4628-9e2b-8d5a6480afd4",
   "metadata": {
    "tags": []
   },
   "outputs": [
    {
     "data": {
      "text/plain": [
       "LU{Float64, Matrix{Float64}, Vector{Int64}}\n",
       "L factor:\n",
       "3×3 Matrix{Float64}:\n",
       " 1.0        0.0       0.0\n",
       " 0.0495165  1.0       0.0\n",
       " 0.951914   0.404385  1.0\n",
       "U factor:\n",
       "3×3 Matrix{Float64}:\n",
       " 0.494353  0.586467   0.937499\n",
       " 0.0       0.266354   0.673154\n",
       " 0.0       0.0       -0.810108"
      ]
     },
     "execution_count": 51,
     "metadata": {},
     "output_type": "execute_result"
    }
   ],
   "source": [
    "# LU-факторизация:\n",
    "Alu = lu(A)"
   ]
  },
  {
   "cell_type": "markdown",
   "id": "058ccc70-5050-430a-95f0-f34a44ca649f",
   "metadata": {
    "tags": []
   },
   "source": [
    "Различные части факторизации могут быть извлечены путём доступа к их специальным свойствам:"
   ]
  },
  {
   "cell_type": "code",
   "execution_count": 53,
   "id": "7f02b214-045c-41b3-ac6a-b56224203282",
   "metadata": {
    "tags": []
   },
   "outputs": [
    {
     "data": {
      "text/plain": [
       "3×3 Matrix{Float64}:\n",
       " 0.0  0.0  1.0\n",
       " 1.0  0.0  0.0\n",
       " 0.0  1.0  0.0"
      ]
     },
     "execution_count": 53,
     "metadata": {},
     "output_type": "execute_result"
    }
   ],
   "source": [
    "# Матрица перестановок:\n",
    "Alu.P"
   ]
  },
  {
   "cell_type": "code",
   "execution_count": 54,
   "id": "20133b1b-ea79-4d0c-883c-1578befea3bd",
   "metadata": {
    "tags": []
   },
   "outputs": [
    {
     "data": {
      "text/plain": [
       "3-element Vector{Int64}:\n",
       " 3\n",
       " 1\n",
       " 2"
      ]
     },
     "execution_count": 54,
     "metadata": {},
     "output_type": "execute_result"
    }
   ],
   "source": [
    "# Вектор перестановок:\n",
    "Alu.p"
   ]
  },
  {
   "cell_type": "code",
   "execution_count": 55,
   "id": "ee217033-41ed-4823-9e12-787749188921",
   "metadata": {
    "tags": []
   },
   "outputs": [
    {
     "data": {
      "text/plain": [
       "3×3 Matrix{Float64}:\n",
       " 1.0        0.0       0.0\n",
       " 0.0495165  1.0       0.0\n",
       " 0.951914   0.404385  1.0"
      ]
     },
     "execution_count": 55,
     "metadata": {},
     "output_type": "execute_result"
    }
   ],
   "source": [
    "# Матрица L:\n",
    "Alu.L"
   ]
  },
  {
   "cell_type": "code",
   "execution_count": 56,
   "id": "dc48d058-58c5-4795-9e8d-92f65361b433",
   "metadata": {
    "tags": []
   },
   "outputs": [
    {
     "data": {
      "text/plain": [
       "3×3 Matrix{Float64}:\n",
       " 0.494353  0.586467   0.937499\n",
       " 0.0       0.266354   0.673154\n",
       " 0.0       0.0       -0.810108"
      ]
     },
     "execution_count": 56,
     "metadata": {},
     "output_type": "execute_result"
    }
   ],
   "source": [
    "# Матрица U:\n",
    "Alu.U"
   ]
  },
  {
   "cell_type": "markdown",
   "id": "78ddbb4c-bbf7-4ac8-bad7-28d72b9586df",
   "metadata": {},
   "source": [
    "Исходная система уравнений 𝐴𝑥 = 𝑏 может быть решена или с использованием\n",
    "исходной матрицы, или с использованием объекта факторизации:"
   ]
  },
  {
   "cell_type": "code",
   "execution_count": 57,
   "id": "a81a1ea8-1dd7-40c3-8e04-aee4ccb2520c",
   "metadata": {
    "tags": []
   },
   "outputs": [
    {
     "data": {
      "text/plain": [
       "3-element Vector{Float64}:\n",
       " 0.9999999999999998\n",
       " 0.9999999999999998\n",
       " 1.0000000000000002"
      ]
     },
     "execution_count": 57,
     "metadata": {},
     "output_type": "execute_result"
    }
   ],
   "source": [
    "# Решение СЛАУ через матрицу A:\n",
    "A\\b"
   ]
  },
  {
   "cell_type": "code",
   "execution_count": 58,
   "id": "0c661f11-5280-48df-83b3-4c1a0899baf3",
   "metadata": {
    "tags": []
   },
   "outputs": [
    {
     "data": {
      "text/plain": [
       "3-element Vector{Float64}:\n",
       " 0.9999999999999998\n",
       " 0.9999999999999998\n",
       " 1.0000000000000002"
      ]
     },
     "execution_count": 58,
     "metadata": {},
     "output_type": "execute_result"
    }
   ],
   "source": [
    "# Решение СЛАУ через объект факторизации:\n",
    "Alu\\b"
   ]
  },
  {
   "cell_type": "markdown",
   "id": "4834b9bc-dd1d-4177-9c24-e2563383d811",
   "metadata": {},
   "source": [
    "Аналогично можно найти детерминант матрицы:"
   ]
  },
  {
   "cell_type": "code",
   "execution_count": 59,
   "id": "0dcc44cc-dbd2-4998-a519-23de14c96a73",
   "metadata": {
    "tags": []
   },
   "outputs": [
    {
     "data": {
      "text/plain": [
       "-0.10666936065611227"
      ]
     },
     "execution_count": 59,
     "metadata": {},
     "output_type": "execute_result"
    }
   ],
   "source": [
    "# Детерминант матрицы A:\n",
    "det(A)"
   ]
  },
  {
   "cell_type": "code",
   "execution_count": 60,
   "id": "b96122b5-ea98-4eb7-83fa-e91eabe8f8f8",
   "metadata": {
    "tags": []
   },
   "outputs": [
    {
     "data": {
      "text/plain": [
       "-0.10666936065611227"
      ]
     },
     "execution_count": 60,
     "metadata": {},
     "output_type": "execute_result"
    }
   ],
   "source": [
    "# Детерминант матрицы A через объект факторизации:\n",
    "det(Alu)"
   ]
  },
  {
   "cell_type": "markdown",
   "id": "eaae2c05-9ef8-4977-bf01-07753983e1a3",
   "metadata": {},
   "source": [
    "Julia позволяет вычислять QR-факторизацию и определяет составной тип факторизации для его хранения:"
   ]
  },
  {
   "cell_type": "code",
   "execution_count": 61,
   "id": "2545e7d1-1e7a-464b-a23c-eecdf6deb3cf",
   "metadata": {
    "tags": []
   },
   "outputs": [
    {
     "data": {
      "text/plain": [
       "LinearAlgebra.QRCompactWY{Float64, Matrix{Float64}, Matrix{Float64}}\n",
       "Q factor:\n",
       "3×3 LinearAlgebra.QRCompactWYQ{Float64, Matrix{Float64}, Matrix{Float64}}:\n",
       " -0.0358421   0.958247   0.283687\n",
       " -0.689035    0.181913  -0.701526\n",
       " -0.723841   -0.220614   0.653745\n",
       "R factor:\n",
       "3×3 Matrix{Float64}:\n",
       " -0.682958  -0.893978  -0.948671\n",
       "  0.0        0.274827   0.547198\n",
       "  0.0        0.0        0.568312"
      ]
     },
     "execution_count": 61,
     "metadata": {},
     "output_type": "execute_result"
    }
   ],
   "source": [
    "# QR-факторизация:\n",
    "Aqr = qr(A)"
   ]
  },
  {
   "cell_type": "markdown",
   "id": "85bfd35d-8307-40c4-beb7-998eacb177be",
   "metadata": {},
   "source": [
    "По аналогии с LU-факторизацией различные части QR-факторизации могут быть из\u0002влечены путём доступа к их специальным свойствам:"
   ]
  },
  {
   "cell_type": "code",
   "execution_count": 62,
   "id": "ab30e000-ab4b-48bb-95e0-b47659acd9e6",
   "metadata": {
    "tags": []
   },
   "outputs": [
    {
     "data": {
      "text/plain": [
       "3×3 LinearAlgebra.QRCompactWYQ{Float64, Matrix{Float64}, Matrix{Float64}}:\n",
       " -0.0358421   0.958247   0.283687\n",
       " -0.689035    0.181913  -0.701526\n",
       " -0.723841   -0.220614   0.653745"
      ]
     },
     "execution_count": 62,
     "metadata": {},
     "output_type": "execute_result"
    }
   ],
   "source": [
    "# Матрица Q:\n",
    "Aqr.Q"
   ]
  },
  {
   "cell_type": "code",
   "execution_count": 63,
   "id": "62686e2f-01f3-4f36-aeda-5b2b5cd82c10",
   "metadata": {
    "tags": []
   },
   "outputs": [
    {
     "data": {
      "text/plain": [
       "3×3 Matrix{Float64}:\n",
       " -0.682958  -0.893978  -0.948671\n",
       "  0.0        0.274827   0.547198\n",
       "  0.0        0.0        0.568312"
      ]
     },
     "execution_count": 63,
     "metadata": {},
     "output_type": "execute_result"
    }
   ],
   "source": [
    "# Матрица R:\n",
    "Aqr.R"
   ]
  },
  {
   "cell_type": "code",
   "execution_count": 64,
   "id": "168881ee-142f-4693-a4ee-ebd2731980a4",
   "metadata": {
    "tags": []
   },
   "outputs": [
    {
     "data": {
      "text/plain": [
       "3×3 Matrix{Float64}:\n",
       " 1.0  -2.22045e-16  -1.66533e-16\n",
       " 0.0   1.0          -2.22045e-16\n",
       " 0.0  -1.11022e-16   1.0"
      ]
     },
     "execution_count": 64,
     "metadata": {},
     "output_type": "execute_result"
    }
   ],
   "source": [
    "# Проверка, что матрица Q - ортогональная:\n",
    "Aqr.Q'*Aqr.Q"
   ]
  },
  {
   "cell_type": "markdown",
   "id": "75811a2b-e882-46d1-b307-063dab9bf507",
   "metadata": {},
   "source": [
    "Примеры собственной декомпозиции матрицы 𝐴:"
   ]
  },
  {
   "cell_type": "code",
   "execution_count": 65,
   "id": "43e18b97-1e82-4d84-a8fe-873e85c72be8",
   "metadata": {
    "tags": []
   },
   "outputs": [
    {
     "data": {
      "text/plain": [
       "3×3 Matrix{Float64}:\n",
       " 0.0489572  0.765976  1.21393\n",
       " 0.765976   1.33195   0.940991\n",
       " 1.21393    0.940991  1.875"
      ]
     },
     "execution_count": 65,
     "metadata": {},
     "output_type": "execute_result"
    }
   ],
   "source": [
    "# Симметризация матрицы A:\n",
    "Asym = A + A'"
   ]
  },
  {
   "cell_type": "code",
   "execution_count": 66,
   "id": "0ef8af66-ab41-4e8e-9dd3-24da8339b731",
   "metadata": {
    "tags": []
   },
   "outputs": [
    {
     "data": {
      "text/plain": [
       "Eigen{Float64, Float64, Matrix{Float64}, Vector{Float64}}\n",
       "values:\n",
       "3-element Vector{Float64}:\n",
       " -0.6043968330748379\n",
       "  0.6325671697101596\n",
       "  3.227737441859591\n",
       "vectors:\n",
       "3×3 Matrix{Float64}:\n",
       "  0.908856   0.071752  0.410891\n",
       " -0.17568   -0.827605  0.53311\n",
       " -0.378308   0.556705  0.739569"
      ]
     },
     "execution_count": 66,
     "metadata": {},
     "output_type": "execute_result"
    }
   ],
   "source": [
    "# Спектральное разложение симметризованной матрицы:\n",
    "AsymEig = eigen(Asym)"
   ]
  },
  {
   "cell_type": "code",
   "execution_count": 67,
   "id": "70598ba3-aaf1-4562-9c4b-3998663ccfcd",
   "metadata": {
    "tags": []
   },
   "outputs": [
    {
     "data": {
      "text/plain": [
       "3-element Vector{Float64}:\n",
       " -0.6043968330748379\n",
       "  0.6325671697101596\n",
       "  3.227737441859591"
      ]
     },
     "execution_count": 67,
     "metadata": {},
     "output_type": "execute_result"
    }
   ],
   "source": [
    "# Собственные значения:\n",
    "AsymEig.values"
   ]
  },
  {
   "cell_type": "code",
   "execution_count": 68,
   "id": "6ddc1644-000a-4c4e-889e-3a1220711b5b",
   "metadata": {
    "tags": []
   },
   "outputs": [
    {
     "data": {
      "text/plain": [
       "3×3 Matrix{Float64}:\n",
       "  0.908856   0.071752  0.410891\n",
       " -0.17568   -0.827605  0.53311\n",
       " -0.378308   0.556705  0.739569"
      ]
     },
     "execution_count": 68,
     "metadata": {},
     "output_type": "execute_result"
    }
   ],
   "source": [
    "#Собственные векторы:\n",
    "AsymEig.vectors"
   ]
  },
  {
   "cell_type": "code",
   "execution_count": 69,
   "id": "580e2415-fc1e-4731-b64a-2e76d669db6c",
   "metadata": {
    "tags": []
   },
   "outputs": [
    {
     "data": {
      "text/plain": [
       "3×3 Matrix{Float64}:\n",
       "  1.0          2.66454e-15  -4.21885e-15\n",
       " -3.10862e-15  1.0           4.21885e-15\n",
       "  4.44089e-16  1.4988e-15    1.0"
      ]
     },
     "execution_count": 69,
     "metadata": {},
     "output_type": "execute_result"
    }
   ],
   "source": [
    "# Проверяем, что получится единичная матрица:\n",
    "inv(AsymEig)*Asym"
   ]
  },
  {
   "cell_type": "markdown",
   "id": "fdc0f1c2-5530-4388-9f5f-0292ba2759de",
   "metadata": {},
   "source": [
    "Далее рассмотрим примеры работы с матрицами большой размерности и специальной\n",
    "структуры."
   ]
  },
  {
   "cell_type": "code",
   "execution_count": 70,
   "id": "e951c0df-8beb-4ccc-96e4-3c3da728964a",
   "metadata": {
    "tags": []
   },
   "outputs": [
    {
     "data": {
      "text/plain": [
       "1000×1000 Matrix{Float64}:\n",
       "  0.715121   -1.09378   -0.0644743  …  -0.608474   0.135291     0.477227\n",
       " -0.0257378  -0.583642  -0.428233       1.34519    2.10222     -0.69783\n",
       " -1.11208    -0.648552  -0.0955454     -1.78696    0.302478     0.156592\n",
       "  0.0214497  -0.157924  -0.699911      -1.03782   -0.125016    -0.0160884\n",
       " -0.457676   -0.218426   1.26587        1.21362   -0.00822816  -0.709229\n",
       " -0.857719   -1.41396   -0.939895   …  -1.0237     0.223336     0.289345\n",
       "  1.93189     0.618262   1.15489       -0.331677   0.297265    -1.37486\n",
       " -0.279122   -0.554029  -1.62564        0.592909  -0.444105     0.578417\n",
       " -1.01754    -0.46107    0.890266      -1.26405   -1.19266      0.519305\n",
       " -0.331716    0.357467  -1.74207       -1.12207   -2.17101     -1.61775\n",
       " -0.223045    0.981586   2.33064    …   0.117963   0.845698    -1.74915\n",
       "  2.37672     0.062367   1.95454       -0.628635   0.950427     0.813157\n",
       " -1.28262    -0.859824  -0.708803       2.01096    0.781505     0.976032\n",
       "  ⋮                                 ⋱                          \n",
       "  0.777343    0.389775  -0.0231732     -1.17584   -1.23587      0.134063\n",
       " -0.212206    0.765117   0.0413582      0.420782  -1.00319      0.272628\n",
       "  1.0237      0.612465  -1.8645     …   1.01826   -1.27172     -0.176564\n",
       "  2.56778    -0.520432  -0.629332      -0.707429  -0.791852     1.57703\n",
       " -1.82739     1.66386    0.85783        0.270949   1.29468     -0.282906\n",
       "  0.0971543   0.24198   -0.803953      -1.32409   -1.06221     -0.362605\n",
       " -0.0567814  -0.612306  -0.725842       1.09588   -0.0717177   -1.79129\n",
       "  1.53218    -0.637768  -1.22399    …   0.559103   1.71369      1.13567\n",
       " -1.91554    -2.96016    2.09998        0.467376  -0.314868     0.0106346\n",
       "  1.45246     1.19208    1.57033        0.980217   0.516328    -0.569184\n",
       " -1.03089    -1.23329    0.918618      -0.441951   1.12149      1.04079\n",
       "  0.406171   -1.23483    2.16231       -1.92173    0.224729     0.376351"
      ]
     },
     "execution_count": 70,
     "metadata": {},
     "output_type": "execute_result"
    }
   ],
   "source": [
    "# Матрица 1000 х 1000:\n",
    "n = 1000\n",
    "A = randn(n,n)"
   ]
  },
  {
   "cell_type": "code",
   "execution_count": 71,
   "id": "edc6fd8d-7c35-47d9-a345-658a622c0842",
   "metadata": {
    "tags": []
   },
   "outputs": [
    {
     "data": {
      "text/plain": [
       "1000×1000 Matrix{Float64}:\n",
       "  1.43024    -1.11952   -1.17655   …   0.84399    -0.895594    0.883398\n",
       " -1.11952    -1.16728   -1.07678       2.53726     0.868932   -1.93266\n",
       " -1.17655    -1.07678   -0.191091     -0.216623    1.2211      2.3189\n",
       "  0.0541985   0.823744  -1.53706      -0.785901   -0.559282    1.52263\n",
       " -0.387462   -1.30423   -0.445992      1.63118    -1.2959     -2.62596\n",
       " -2.03282    -3.47907   -0.784218  …  -1.09252    -0.636919    0.252326\n",
       "  2.20544     0.96182   -0.174497     -1.87636    -0.492122   -1.81876\n",
       " -2.1409     -0.49753   -1.29366      -0.363027    0.294809    0.599053\n",
       " -0.651438   -0.107928   2.30529      -1.54557    -1.61155     1.44834\n",
       " -2.37908     1.60309   -1.75341       0.826037   -1.76863    -1.13807\n",
       "  0.328566    0.259349   4.93238   …   0.621055    1.79743    -0.306787\n",
       "  2.65319     0.454741   0.707302     -1.98627     1.92313     2.08757\n",
       " -2.43506    -0.825956  -0.916995      3.03427     2.96398    -0.00659231\n",
       "  ⋮                                ⋱                          \n",
       " -0.449135    1.44031    0.589127     -0.751309    1.03124     0.131837\n",
       "  0.913089   -1.07386    2.24422       1.29229    -1.73184     0.930101\n",
       "  2.61202     1.16403   -1.33515   …  -1.22623    -1.13502    -1.41021\n",
       "  1.63117    -0.676748  -1.2645       -1.19492     0.662504    2.72126\n",
       " -3.38065     1.47896    0.369715     -0.0987206   2.83172    -0.741428\n",
       "  0.408206    0.317323  -0.470182     -0.587179   -1.35645    -0.550765\n",
       " -1.02969    -1.51806   -0.412233      2.81717     1.01752    -2.44839\n",
       "  0.752629   -1.2514    -2.27441   …  -0.114144    1.97173    -0.49272\n",
       " -1.26177    -3.72216    3.59293       1.1674      1.53069    -0.684214\n",
       "  0.84399     2.53726   -0.216623      1.96043     0.0743765  -2.49091\n",
       " -0.895594    0.868932   1.2211        0.0743765   2.24298     1.26552\n",
       "  0.883398   -1.93266    2.3189       -2.49091     1.26552     0.752703"
      ]
     },
     "execution_count": 71,
     "metadata": {},
     "output_type": "execute_result"
    }
   ],
   "source": [
    "# Симметризация матрицы:\n",
    "Asym = A + A'"
   ]
  },
  {
   "cell_type": "code",
   "execution_count": 72,
   "id": "e5ede725-f05a-4116-86df-0979cf8d6c41",
   "metadata": {
    "tags": []
   },
   "outputs": [
    {
     "data": {
      "text/plain": [
       "true"
      ]
     },
     "execution_count": 72,
     "metadata": {},
     "output_type": "execute_result"
    }
   ],
   "source": [
    "# Проверка, является ли матрица симметричной:\n",
    "issymmetric(Asym)"
   ]
  },
  {
   "cell_type": "markdown",
   "id": "2e3fd1bd-8efa-45b0-b3ce-b6f255fd21e2",
   "metadata": {},
   "source": [
    "Пример добавления шума в симметричную матрицу (матрица уже не будет симметричной):"
   ]
  },
  {
   "cell_type": "code",
   "execution_count": 73,
   "id": "175a6583-5f5e-4030-8688-df8fa9659f9a",
   "metadata": {
    "tags": []
   },
   "outputs": [
    {
     "data": {
      "text/plain": [
       "-1.1195158971718326"
      ]
     },
     "execution_count": 73,
     "metadata": {},
     "output_type": "execute_result"
    }
   ],
   "source": [
    "# Добавление шума:\n",
    "Asym_noisy = copy(Asym)\n",
    "Asym_noisy[1,2] += 5eps()"
   ]
  },
  {
   "cell_type": "code",
   "execution_count": 74,
   "id": "00c29af7-788f-44f5-8ff8-7953620df589",
   "metadata": {
    "tags": []
   },
   "outputs": [
    {
     "data": {
      "text/plain": [
       "false"
      ]
     },
     "execution_count": 74,
     "metadata": {},
     "output_type": "execute_result"
    }
   ],
   "source": [
    "# Проверка, является ли матрица симметричной:\n",
    "issymmetric(Asym_noisy)"
   ]
  },
  {
   "cell_type": "markdown",
   "id": "ce13e82b-f78c-4932-a529-dfcfe743cd4d",
   "metadata": {},
   "source": [
    "В Julia можно объявить структуру матрица явно, например, используя Diagonal,\n",
    "Triangular, Symmetric, Hermitian, Tridiagonal и SymTridiagonal:"
   ]
  },
  {
   "cell_type": "code",
   "execution_count": 75,
   "id": "77f7d724-b6bd-4bb5-982b-0c4b6eed56ec",
   "metadata": {
    "tags": []
   },
   "outputs": [
    {
     "data": {
      "text/plain": [
       "1000×1000 Symmetric{Float64, Matrix{Float64}}:\n",
       "  1.43024    -1.11952   -1.17655   …   0.84399    -0.895594    0.883398\n",
       " -1.11952    -1.16728   -1.07678       2.53726     0.868932   -1.93266\n",
       " -1.17655    -1.07678   -0.191091     -0.216623    1.2211      2.3189\n",
       "  0.0541985   0.823744  -1.53706      -0.785901   -0.559282    1.52263\n",
       " -0.387462   -1.30423   -0.445992      1.63118    -1.2959     -2.62596\n",
       " -2.03282    -3.47907   -0.784218  …  -1.09252    -0.636919    0.252326\n",
       "  2.20544     0.96182   -0.174497     -1.87636    -0.492122   -1.81876\n",
       " -2.1409     -0.49753   -1.29366      -0.363027    0.294809    0.599053\n",
       " -0.651438   -0.107928   2.30529      -1.54557    -1.61155     1.44834\n",
       " -2.37908     1.60309   -1.75341       0.826037   -1.76863    -1.13807\n",
       "  0.328566    0.259349   4.93238   …   0.621055    1.79743    -0.306787\n",
       "  2.65319     0.454741   0.707302     -1.98627     1.92313     2.08757\n",
       " -2.43506    -0.825956  -0.916995      3.03427     2.96398    -0.00659231\n",
       "  ⋮                                ⋱                          \n",
       " -0.449135    1.44031    0.589127     -0.751309    1.03124     0.131837\n",
       "  0.913089   -1.07386    2.24422       1.29229    -1.73184     0.930101\n",
       "  2.61202     1.16403   -1.33515   …  -1.22623    -1.13502    -1.41021\n",
       "  1.63117    -0.676748  -1.2645       -1.19492     0.662504    2.72126\n",
       " -3.38065     1.47896    0.369715     -0.0987206   2.83172    -0.741428\n",
       "  0.408206    0.317323  -0.470182     -0.587179   -1.35645    -0.550765\n",
       " -1.02969    -1.51806   -0.412233      2.81717     1.01752    -2.44839\n",
       "  0.752629   -1.2514    -2.27441   …  -0.114144    1.97173    -0.49272\n",
       " -1.26177    -3.72216    3.59293       1.1674      1.53069    -0.684214\n",
       "  0.84399     2.53726   -0.216623      1.96043     0.0743765  -2.49091\n",
       " -0.895594    0.868932   1.2211        0.0743765   2.24298     1.26552\n",
       "  0.883398   -1.93266    2.3189       -2.49091     1.26552     0.752703"
      ]
     },
     "execution_count": 75,
     "metadata": {},
     "output_type": "execute_result"
    }
   ],
   "source": [
    "# Явно указываем, что матрица является симметричной:\n",
    "Asym_explicit = Symmetric(Asym_noisy)"
   ]
  },
  {
   "cell_type": "markdown",
   "id": "b19b0d1b-39d3-43f3-9388-d3385f0af5b9",
   "metadata": {},
   "source": [
    "Далее для оценки эффективности выполнения операций над матрицами большой\n",
    "размерности и специальной структуры воспользуемся пакетом BenchmarkTools:"
   ]
  },
  {
   "cell_type": "code",
   "execution_count": 76,
   "id": "d713570f-17e1-471c-87dd-93787dbc3f0c",
   "metadata": {
    "tags": []
   },
   "outputs": [
    {
     "name": "stderr",
     "output_type": "stream",
     "text": [
      "\u001b[32m\u001b[1m   Resolving\u001b[22m\u001b[39m package versions...\n",
      "\u001b[32m\u001b[1m  No Changes\u001b[22m\u001b[39m to `C:\\Users\\User\\.julia\\environments\\v1.8\\Project.toml`\n",
      "\u001b[32m\u001b[1m  No Changes\u001b[22m\u001b[39m to `C:\\Users\\User\\.julia\\environments\\v1.8\\Manifest.toml`\n"
     ]
    }
   ],
   "source": [
    "import Pkg\n",
    "Pkg.add(\"BenchmarkTools\")"
   ]
  },
  {
   "cell_type": "code",
   "execution_count": 77,
   "id": "6d51b460-8285-40f4-aa39-a0ccaaad8548",
   "metadata": {
    "tags": []
   },
   "outputs": [],
   "source": [
    "using BenchmarkTools"
   ]
  },
  {
   "cell_type": "code",
   "execution_count": 80,
   "id": "ebca1fbe-0ac0-4383-9e08-6c8525b3c0f6",
   "metadata": {
    "tags": []
   },
   "outputs": [
    {
     "name": "stdout",
     "output_type": "stream",
     "text": [
      "  75.297 ms (11 allocations: 7.99 MiB)\n"
     ]
    }
   ],
   "source": [
    "# Оценка эффективности выполнения операции по нахождению\n",
    "# собственных значений симметризованной матрицы:\n",
    "@btime eigvals(Asym);"
   ]
  },
  {
   "cell_type": "code",
   "execution_count": 81,
   "id": "72a1707b-ce14-4730-9545-2c31c6cee7b4",
   "metadata": {
    "tags": []
   },
   "outputs": [
    {
     "name": "stdout",
     "output_type": "stream",
     "text": [
      "  454.170 ms (13 allocations: 7.92 MiB)\n"
     ]
    }
   ],
   "source": [
    "# Оценка эффективности выполнения операции по нахождению\n",
    "# собственных значений зашумлённой матрицы:\n",
    "@btime eigvals(Asym_noisy);"
   ]
  },
  {
   "cell_type": "code",
   "execution_count": 82,
   "id": "8b217d76-3e8a-425c-a3e7-37ae8b4d035c",
   "metadata": {
    "tags": []
   },
   "outputs": [
    {
     "name": "stdout",
     "output_type": "stream",
     "text": [
      "  74.700 ms (11 allocations: 7.99 MiB)\n"
     ]
    }
   ],
   "source": [
    "# Оценка эффективности выполнения операции по нахождению\n",
    "# собственных значений зашумлённой матрицы,\n",
    "# для которой явно указано, что она симметричная:\n",
    "@btime eigvals(Asym_explicit);"
   ]
  },
  {
   "cell_type": "markdown",
   "id": "64ba908c-9a59-4740-b9db-b9427d76a64a",
   "metadata": {},
   "source": [
    "Далее рассмотрим примеры работы с разряженными матрицами большой размерности.\n",
    "\n",
    "Использование типов Tridiagonal и SymTridiagonal для хранения трёхдиагональных матриц позволяет работать с потенциально очень большими трёхдиагональными\n",
    "матрицами:"
   ]
  },
  {
   "cell_type": "code",
   "execution_count": 83,
   "id": "3d4cedd1-e931-4dcf-899d-6aa0e5ec8652",
   "metadata": {
    "tags": []
   },
   "outputs": [
    {
     "data": {
      "text/plain": [
       "1000000×1000000 SymTridiagonal{Float64, Vector{Float64}}:\n",
       " -1.00882    -0.0972623    ⋅       …    ⋅          ⋅           ⋅ \n",
       " -0.0972623   2.33981    -2.0367        ⋅          ⋅           ⋅ \n",
       "   ⋅         -2.0367      1.86911       ⋅          ⋅           ⋅ \n",
       "   ⋅           ⋅          1.14463       ⋅          ⋅           ⋅ \n",
       "   ⋅           ⋅           ⋅            ⋅          ⋅           ⋅ \n",
       "   ⋅           ⋅           ⋅       …    ⋅          ⋅           ⋅ \n",
       "   ⋅           ⋅           ⋅            ⋅          ⋅           ⋅ \n",
       "   ⋅           ⋅           ⋅            ⋅          ⋅           ⋅ \n",
       "   ⋅           ⋅           ⋅            ⋅          ⋅           ⋅ \n",
       "   ⋅           ⋅           ⋅            ⋅          ⋅           ⋅ \n",
       "   ⋅           ⋅           ⋅       …    ⋅          ⋅           ⋅ \n",
       "   ⋅           ⋅           ⋅            ⋅          ⋅           ⋅ \n",
       "   ⋅           ⋅           ⋅            ⋅          ⋅           ⋅ \n",
       "  ⋮                                ⋱                         \n",
       "   ⋅           ⋅           ⋅            ⋅          ⋅           ⋅ \n",
       "   ⋅           ⋅           ⋅            ⋅          ⋅           ⋅ \n",
       "   ⋅           ⋅           ⋅       …    ⋅          ⋅           ⋅ \n",
       "   ⋅           ⋅           ⋅            ⋅          ⋅           ⋅ \n",
       "   ⋅           ⋅           ⋅            ⋅          ⋅           ⋅ \n",
       "   ⋅           ⋅           ⋅            ⋅          ⋅           ⋅ \n",
       "   ⋅           ⋅           ⋅            ⋅          ⋅           ⋅ \n",
       "   ⋅           ⋅           ⋅       …    ⋅          ⋅           ⋅ \n",
       "   ⋅           ⋅           ⋅           1.07083     ⋅           ⋅ \n",
       "   ⋅           ⋅           ⋅           1.3813    -0.385808     ⋅ \n",
       "   ⋅           ⋅           ⋅          -0.385808   0.0896784   0.258891\n",
       "   ⋅           ⋅           ⋅            ⋅         0.258891   -0.561995"
      ]
     },
     "execution_count": 83,
     "metadata": {},
     "output_type": "execute_result"
    }
   ],
   "source": [
    "# Трёхдиагональная матрица 1000000 х 1000000:\n",
    "n = 1000000;\n",
    "A = SymTridiagonal(randn(n), randn(n-1))"
   ]
  },
  {
   "cell_type": "code",
   "execution_count": 84,
   "id": "8e1a8dc2-ad5a-401c-9185-f8e0916dbc9c",
   "metadata": {
    "tags": []
   },
   "outputs": [
    {
     "name": "stdout",
     "output_type": "stream",
     "text": [
      "  426.209 ms (17 allocations: 183.11 MiB)\n"
     ]
    },
    {
     "data": {
      "text/plain": [
       "6.749672457003237"
      ]
     },
     "execution_count": 84,
     "metadata": {},
     "output_type": "execute_result"
    }
   ],
   "source": [
    "# Оценка эффективности выполнения операции по нахождению\n",
    "# собственных значений:\n",
    "@btime eigmax(A)"
   ]
  },
  {
   "cell_type": "markdown",
   "id": "f4a53732-7dce-4bdd-be76-294ba9337c96",
   "metadata": {},
   "source": [
    "При попытке задать подобную матрицу обычным способом и посчитать её собственные\n",
    "значения, вы скорее всего получите ошибку переполнения памяти:"
   ]
  },
  {
   "cell_type": "code",
   "execution_count": 85,
   "id": "6b46f7f2-ffa8-49ea-9f87-ffca97b8c65c",
   "metadata": {
    "tags": []
   },
   "outputs": [
    {
     "ename": "LoadError",
     "evalue": "OutOfMemoryError()",
     "output_type": "error",
     "traceback": [
      "OutOfMemoryError()",
      "",
      "Stacktrace:",
      " [1] Array",
      "   @ .\\boot.jl:461 [inlined]",
      " [2] Array",
      "   @ .\\boot.jl:469 [inlined]",
      " [3] zeros",
      "   @ .\\array.jl:588 [inlined]",
      " [4] zeros",
      "   @ .\\array.jl:584 [inlined]",
      " [5] Matrix{Float64}(M::SymTridiagonal{Float64, Vector{Float64}})",
      "   @ LinearAlgebra C:\\Users\\User\\AppData\\Local\\Programs\\Julia-1.8.5\\share\\julia\\stdlib\\v1.8\\LinearAlgebra\\src\\tridiag.jl:127",
      " [6] (Matrix)(M::SymTridiagonal{Float64, Vector{Float64}})",
      "   @ LinearAlgebra C:\\Users\\User\\AppData\\Local\\Programs\\Julia-1.8.5\\share\\julia\\stdlib\\v1.8\\LinearAlgebra\\src\\tridiag.jl:137",
      " [7] top-level scope",
      "   @ In[85]:1"
     ]
    }
   ],
   "source": [
    "B = Matrix(A)"
   ]
  },
  {
   "cell_type": "markdown",
   "id": "71d86fc9-924f-4caf-9d63-860e3ab8c8c8",
   "metadata": {},
   "source": [
    "### 4.2.6. Общая линейная алгебра"
   ]
  },
  {
   "cell_type": "code",
   "execution_count": 86,
   "id": "49350d4d-cdc8-427d-865e-3409af53c884",
   "metadata": {},
   "outputs": [
    {
     "data": {
      "text/plain": [
       "3×3 Matrix{Rational{BigInt}}:\n",
       " 1//10  1//1   1//5\n",
       " 1//10  3//10  1//1\n",
       " 3//5   9//10  3//5"
      ]
     },
     "execution_count": 86,
     "metadata": {},
     "output_type": "execute_result"
    }
   ],
   "source": [
    "# Матрица с рациональными элементами:\n",
    "Arational = Matrix{Rational{BigInt}}(rand(1:10, 3, 3))/10"
   ]
  },
  {
   "cell_type": "code",
   "execution_count": 87,
   "id": "ae4fb77b-2714-462e-be10-4e73aed9806b",
   "metadata": {
    "tags": []
   },
   "outputs": [
    {
     "data": {
      "text/plain": [
       "3-element Vector{Int64}:\n",
       " 1\n",
       " 1\n",
       " 1"
      ]
     },
     "execution_count": 87,
     "metadata": {},
     "output_type": "execute_result"
    }
   ],
   "source": [
    "# Единичный вектор:\n",
    "x = fill(1, 3)"
   ]
  },
  {
   "cell_type": "code",
   "execution_count": 88,
   "id": "597ed312-2fa1-4be2-8554-10206344a122",
   "metadata": {
    "tags": []
   },
   "outputs": [
    {
     "data": {
      "text/plain": [
       "3-element Vector{Rational{BigInt}}:\n",
       " 13//10\n",
       "  7//5\n",
       " 21//10"
      ]
     },
     "execution_count": 88,
     "metadata": {},
     "output_type": "execute_result"
    }
   ],
   "source": [
    "# Задаём вектор b:\n",
    "b = Arational*x"
   ]
  },
  {
   "cell_type": "code",
   "execution_count": 89,
   "id": "e6b9a391-dd9c-4cfe-a8fc-acbe34ba6252",
   "metadata": {
    "tags": []
   },
   "outputs": [
    {
     "data": {
      "text/plain": [
       "3-element Vector{Rational{BigInt}}:\n",
       " 1//1\n",
       " 1//1\n",
       " 1//1"
      ]
     },
     "execution_count": 89,
     "metadata": {},
     "output_type": "execute_result"
    }
   ],
   "source": [
    "# Решение исходного уравнения получаем с помощью функции \\\n",
    "# (убеждаемся, что x - единичный вектор):\n",
    "Arational\\b"
   ]
  },
  {
   "cell_type": "code",
   "execution_count": 90,
   "id": "2ea835c3-8632-4aaf-b71a-712d9717e319",
   "metadata": {
    "tags": []
   },
   "outputs": [
    {
     "data": {
      "text/plain": [
       "LU{Rational{BigInt}, Matrix{Rational{BigInt}}, Vector{Int64}}\n",
       "L factor:\n",
       "3×3 Matrix{Rational{BigInt}}:\n",
       " 1//1  0//1   0//1\n",
       " 1//6  1//1   0//1\n",
       " 1//6  3//17  1//1\n",
       "U factor:\n",
       "3×3 Matrix{Rational{BigInt}}:\n",
       " 3//5   9//10   3//5\n",
       " 0//1  17//20   1//10\n",
       " 0//1   0//1   15//17"
      ]
     },
     "execution_count": 90,
     "metadata": {},
     "output_type": "execute_result"
    }
   ],
   "source": [
    "# LU-разложение:\n",
    "lu(Arational)"
   ]
  },
  {
   "cell_type": "markdown",
   "id": "0c78a3e6-ce6d-4ca1-9ef2-bb92f55a5ac9",
   "metadata": {},
   "source": [
    "## Самостоятельное задание"
   ]
  },
  {
   "cell_type": "markdown",
   "id": "66693894-deb7-4628-9c8a-a6b5a85ea32e",
   "metadata": {},
   "source": [
    "### 4.4.1. Произведение векторов"
   ]
  },
  {
   "cell_type": "markdown",
   "id": "b05c793a-b120-4819-a3e9-f320e9064707",
   "metadata": {},
   "source": [
    "1. Задайте вектор v. Умножьте вектор v скалярно сам на себя и сохраните результат в dot_v."
   ]
  },
  {
   "cell_type": "code",
   "execution_count": 91,
   "id": "4bd0748e-c26d-4d28-b53d-9423c19692fb",
   "metadata": {},
   "outputs": [
    {
     "data": {
      "text/plain": [
       "3-element Vector{Int64}:\n",
       " 1\n",
       " 2\n",
       " 3"
      ]
     },
     "execution_count": 91,
     "metadata": {},
     "output_type": "execute_result"
    }
   ],
   "source": [
    "v = [1, 2, 3]"
   ]
  },
  {
   "cell_type": "code",
   "execution_count": 92,
   "id": "2e8f5294-a63f-45fb-82bb-26a7e2ad100f",
   "metadata": {
    "tags": []
   },
   "outputs": [
    {
     "data": {
      "text/plain": [
       "14"
      ]
     },
     "execution_count": 92,
     "metadata": {},
     "output_type": "execute_result"
    }
   ],
   "source": [
    "dot_v = v'*v"
   ]
  },
  {
   "cell_type": "code",
   "execution_count": 93,
   "id": "b34c66c0-2c42-45ae-882c-4d700ab06af5",
   "metadata": {
    "tags": []
   },
   "outputs": [
    {
     "data": {
      "text/plain": [
       "14"
      ]
     },
     "execution_count": 93,
     "metadata": {},
     "output_type": "execute_result"
    }
   ],
   "source": [
    "dot(v, v)"
   ]
  },
  {
   "cell_type": "markdown",
   "id": "81197a3c-4ed0-4325-8caf-e9d9614c6752",
   "metadata": {},
   "source": [
    "2. Умножьте v матрично на себя (внешнее произведение), присвоив результат переменной outer_v."
   ]
  },
  {
   "cell_type": "code",
   "execution_count": 94,
   "id": "c6594e02-4d2c-42c7-b542-b1d766aff995",
   "metadata": {},
   "outputs": [
    {
     "data": {
      "text/plain": [
       "3×3 Matrix{Int64}:\n",
       " 1  2  3\n",
       " 2  4  6\n",
       " 3  6  9"
      ]
     },
     "execution_count": 94,
     "metadata": {},
     "output_type": "execute_result"
    }
   ],
   "source": [
    "outer_v = v*v'"
   ]
  },
  {
   "cell_type": "markdown",
   "id": "a08f6716-8843-4e41-b802-98dcb6d4d3ef",
   "metadata": {},
   "source": [
    "### 4.4.2. Системы линейных уравнений"
   ]
  },
  {
   "cell_type": "markdown",
   "id": "5901c640-1a48-44d6-9e2d-6be054221374",
   "metadata": {},
   "source": [
    "1. Решить СЛАУ с двумя неизвестными."
   ]
  },
  {
   "cell_type": "code",
   "execution_count": 116,
   "id": "7c18d514-0656-46d0-a56b-b445d37d84d2",
   "metadata": {
    "tags": []
   },
   "outputs": [
    {
     "data": {
      "text/plain": [
       "SLAE (generic function with 1 method)"
      ]
     },
     "execution_count": 116,
     "metadata": {},
     "output_type": "execute_result"
    }
   ],
   "source": [
    "# Функция для решения СЛАУ с 2 неизвестными\n",
    "function SLAE(A, b) \n",
    "    if size(A)[1] == size(A)[2]\n",
    "        return inv(A)*b\n",
    "    else\n",
    "        return pinv(A)*b\n",
    "    end\n",
    "end"
   ]
  },
  {
   "cell_type": "markdown",
   "id": "a32b1a9a-71a0-40f6-9d8b-3c248da19401",
   "metadata": {},
   "source": [
    "a) $\\begin{cases}\n",
    "x + y = 2, \\\\\n",
    "x - y = 3.\n",
    "\\end{cases}\n",
    "$"
   ]
  },
  {
   "cell_type": "code",
   "execution_count": 117,
   "id": "48cbbbee-9d14-4175-9b92-eb00af82adb5",
   "metadata": {
    "tags": []
   },
   "outputs": [
    {
     "data": {
      "text/plain": [
       "2×2 Matrix{Int64}:\n",
       " 1   1\n",
       " 1  -1"
      ]
     },
     "execution_count": 117,
     "metadata": {},
     "output_type": "execute_result"
    }
   ],
   "source": [
    "A_42_1a = [1 1; 1 -1]"
   ]
  },
  {
   "cell_type": "code",
   "execution_count": 118,
   "id": "9c60ebbf-0368-4a6f-a12a-6ad9bdbb7eb1",
   "metadata": {
    "tags": []
   },
   "outputs": [
    {
     "data": {
      "text/plain": [
       "2-element Vector{Int64}:\n",
       " 2\n",
       " 3"
      ]
     },
     "execution_count": 118,
     "metadata": {},
     "output_type": "execute_result"
    }
   ],
   "source": [
    "b_42_1a = [2, 3]"
   ]
  },
  {
   "cell_type": "code",
   "execution_count": 119,
   "id": "a39584ad-c956-473e-876e-7402a7825c39",
   "metadata": {
    "tags": []
   },
   "outputs": [
    {
     "data": {
      "text/plain": [
       "2-element Vector{Float64}:\n",
       "  2.5\n",
       " -0.5"
      ]
     },
     "execution_count": 119,
     "metadata": {},
     "output_type": "execute_result"
    }
   ],
   "source": [
    "x_42_1a = SLAE(A_42_1a, b_42_1a)"
   ]
  },
  {
   "cell_type": "markdown",
   "id": "f910645f-1cbb-4add-a7da-5af7770ca84f",
   "metadata": {},
   "source": [
    "b) $\\begin{cases}\n",
    "x + y = 2, \\\\\n",
    "2x + 2y = 4.\n",
    "\\end{cases}\n",
    "$"
   ]
  },
  {
   "cell_type": "markdown",
   "id": "d08ae227-9c37-40f5-835d-e54ae35088f9",
   "metadata": {},
   "source": [
    "Данная система линейно зависима, остается уравнение $x + y = 2$, то есть имеем решение $\\begin{pmatrix} x \\\\ 2-x \\end{pmatrix}$"
   ]
  },
  {
   "cell_type": "code",
   "execution_count": 120,
   "id": "2efeccab-45fa-4a2e-aebb-b4342d2a38c0",
   "metadata": {},
   "outputs": [
    {
     "data": {
      "text/plain": [
       "2-element Vector{String}:\n",
       " \"x\"\n",
       " \"2 - x\""
      ]
     },
     "execution_count": 120,
     "metadata": {},
     "output_type": "execute_result"
    }
   ],
   "source": [
    "x_42_1b = [\"x\", \"2 - x\"]"
   ]
  },
  {
   "cell_type": "markdown",
   "id": "7c7371f8-6ebc-43ec-a1e7-9bca4910df7e",
   "metadata": {},
   "source": [
    "c) $\\begin{cases}\n",
    "x + y = 2, \\\\\n",
    "2x + 2y = 5.\n",
    "\\end{cases}\n",
    "$"
   ]
  },
  {
   "cell_type": "markdown",
   "id": "7398fbf5-93b8-4da8-9bef-da0b66f149fd",
   "metadata": {},
   "source": [
    "Данная система несовместна, так как $\\begin{cases} \n",
    "x + y = 2, \\\\\n",
    "x + y = 2.5.\n",
    "\\end{cases}\n",
    "$, то есть решений нет"
   ]
  },
  {
   "cell_type": "markdown",
   "id": "e4eaef4c-fb5e-451d-a0b3-1f147e9b8787",
   "metadata": {},
   "source": [
    "d) $\\begin{cases}\n",
    "x + y = 1, \\\\\n",
    "2x + 2y = 2, \\\\\n",
    "3x + 3y = 3.\n",
    "\\end{cases}\n",
    "$"
   ]
  },
  {
   "cell_type": "markdown",
   "id": "22196de2-704e-426e-b89c-4aee7e62790d",
   "metadata": {},
   "source": [
    "Данная система линейно зависима, остается уравнение $x + y = 1$, то есть имеем решение $\\begin{pmatrix} x \\\\ 1-x \\end{pmatrix}$, где $x \\in \\mathbb{R} (\\text{или }\\mathbb{C})$"
   ]
  },
  {
   "cell_type": "markdown",
   "id": "fb5f8896-8048-4d74-bc2b-f4341b04e86e",
   "metadata": {},
   "source": [
    "e) $\\begin{cases}\n",
    "x + y = 2, \\\\\n",
    "2x + y = 1, \\\\\n",
    "x - y = 3.\n",
    "\\end{cases}\n",
    "$"
   ]
  },
  {
   "cell_type": "markdown",
   "id": "92f79d3b-7676-4d29-8803-2b6dc85e3591",
   "metadata": {},
   "source": [
    "Система несовместна, так как из 1 и 3-го уравнений, имеем $x = 2.5$, $y = -0.5$, и, подставив во 2-е уравнение, получим неверное равенство $5 - 0.5 \\neq 1$ "
   ]
  },
  {
   "cell_type": "code",
   "execution_count": 121,
   "id": "4a8bbb37-6838-4714-8c8a-df581a6daae3",
   "metadata": {},
   "outputs": [
    {
     "data": {
      "text/plain": [
       "2-element Vector{Float64}:\n",
       "  1.5000000000000004\n",
       " -0.9999999999999998"
      ]
     },
     "execution_count": 121,
     "metadata": {},
     "output_type": "execute_result"
    }
   ],
   "source": [
    "A_42_1e = [1 1; 2 1; 1 -1]\n",
    "b_42_1e = [2, 1, 3]\n",
    "x_42_1e = SLAE(A_42_1e, b_42_1e)"
   ]
  },
  {
   "cell_type": "markdown",
   "id": "399d6a58-fe03-4afa-a79b-1d2f38c2255f",
   "metadata": {},
   "source": [
    "f) $\\begin{cases}\n",
    "x + y = 2, \\\\\n",
    "2x + y = 1, \\\\\n",
    "3x + 2y = 3.\n",
    "\\end{cases}\n",
    "$"
   ]
  },
  {
   "cell_type": "code",
   "execution_count": 122,
   "id": "be63f2cd-0aff-45fd-b3c2-2d47f5755d50",
   "metadata": {},
   "outputs": [
    {
     "data": {
      "text/plain": [
       "2-element Vector{Float64}:\n",
       " -0.9999999999999987\n",
       "  2.9999999999999982"
      ]
     },
     "execution_count": 122,
     "metadata": {},
     "output_type": "execute_result"
    }
   ],
   "source": [
    "A_42_1f = [1 1; 2 1; 3 2]\n",
    "b_42_1f = [2, 1, 3]\n",
    "x_42_1f = SLAE(A_42_1f, b_42_1f)"
   ]
  },
  {
   "cell_type": "markdown",
   "id": "cf46041b-01b5-47a4-90a6-384f9da109d4",
   "metadata": {},
   "source": [
    "2. Решить СЛАУ с тремя неизвестными.\n"
   ]
  },
  {
   "cell_type": "markdown",
   "id": "6baee870-c613-40d8-ab87-6bb01aa1d48f",
   "metadata": {},
   "source": [
    "a) $\\begin{cases}\n",
    "x + y + z = 2, \\\\\n",
    "x - y - 2z = 3.\n",
    "\\end{cases}\n",
    "$"
   ]
  },
  {
   "cell_type": "code",
   "execution_count": 123,
   "id": "1325abe6-4845-449b-9f8a-634b7b0bfc66",
   "metadata": {},
   "outputs": [
    {
     "data": {
      "text/plain": [
       "3-element Vector{Float64}:\n",
       "  2.2142857142857144\n",
       "  0.35714285714285676\n",
       " -0.5714285714285716"
      ]
     },
     "execution_count": 123,
     "metadata": {},
     "output_type": "execute_result"
    }
   ],
   "source": [
    "A_42_2a = [1 1 1; 1 -1 -2]\n",
    "b_42_2a = [2, 3]\n",
    "x_42_2a = SLAE(A_42_2a, b_42_2a)"
   ]
  },
  {
   "cell_type": "markdown",
   "id": "6af911b6-0da0-4dca-9073-8cc04acc61bd",
   "metadata": {},
   "source": [
    "b) $\\begin{cases}\n",
    "x + y + z = 2, \\\\\n",
    "2x + 2y - 3z = 4, \\\\\n",
    "3x + y + z = 1.\n",
    "\\end{cases}\n",
    "$"
   ]
  },
  {
   "cell_type": "code",
   "execution_count": 124,
   "id": "c20c34aa-c929-4bf9-9c81-db6559762bd7",
   "metadata": {},
   "outputs": [
    {
     "data": {
      "text/plain": [
       "3-element Vector{Float64}:\n",
       " -0.4999999999999999\n",
       "  2.4999999999999996\n",
       "  0.0"
      ]
     },
     "execution_count": 124,
     "metadata": {},
     "output_type": "execute_result"
    }
   ],
   "source": [
    "A_42_2b = [1 1 1; 2 2 -3; 3 1 1]\n",
    "b_42_2b = [2, 4, 1]\n",
    "x_42_2b = SLAE(A_42_2b, b_42_2b)"
   ]
  },
  {
   "cell_type": "markdown",
   "id": "43c4da13-b427-43ba-be59-3a18e1aae757",
   "metadata": {},
   "source": [
    "c) $\\begin{cases}\n",
    "x + y + z = 1, \\\\\n",
    "x + y + 2z = 0, \\\\\n",
    "2x + 2y + 3z = 1.\n",
    "\\end{cases}\n",
    "$"
   ]
  },
  {
   "cell_type": "markdown",
   "id": "cd7e3cab-3566-41b8-8ce6-9318591e4cd3",
   "metadata": {},
   "source": [
    "Система линейно зависима, так как 3-е уравнение получим из сумма первых двух. Тогда остается два уравнения $\\begin{cases} x + y + z = 1, \\\\ x + y + 2z = 0. \\end{cases}$, откуда получим $z = -1$, тогда $x + y = 2$ и итоговое решение $\\begin{pmatrix} x \\\\ 2 - x \\\\ -1 \\end{pmatrix}$, где $x \\in \\mathbb{R} (\\text{или }\\mathbb{C})$"
   ]
  },
  {
   "cell_type": "code",
   "execution_count": 125,
   "id": "ff7f8648-e72c-48dd-b45d-e58e046c7ced",
   "metadata": {},
   "outputs": [
    {
     "ename": "LoadError",
     "evalue": "SingularException(2)",
     "output_type": "error",
     "traceback": [
      "SingularException(2)",
      "",
      "Stacktrace:",
      " [1] checknonsingular",
      "   @ C:\\Users\\User\\AppData\\Local\\Programs\\Julia-1.8.5\\share\\julia\\stdlib\\v1.8\\LinearAlgebra\\src\\factorization.jl:19 [inlined]",
      " [2] checknonsingular",
      "   @ C:\\Users\\User\\AppData\\Local\\Programs\\Julia-1.8.5\\share\\julia\\stdlib\\v1.8\\LinearAlgebra\\src\\factorization.jl:21 [inlined]",
      " [3] #lu!#170",
      "   @ C:\\Users\\User\\AppData\\Local\\Programs\\Julia-1.8.5\\share\\julia\\stdlib\\v1.8\\LinearAlgebra\\src\\lu.jl:82 [inlined]",
      " [4] #lu#177",
      "   @ C:\\Users\\User\\AppData\\Local\\Programs\\Julia-1.8.5\\share\\julia\\stdlib\\v1.8\\LinearAlgebra\\src\\lu.jl:279 [inlined]",
      " [5] lu (repeats 2 times)",
      "   @ C:\\Users\\User\\AppData\\Local\\Programs\\Julia-1.8.5\\share\\julia\\stdlib\\v1.8\\LinearAlgebra\\src\\lu.jl:278 [inlined]",
      " [6] inv(A::Matrix{Int64})",
      "   @ LinearAlgebra C:\\Users\\User\\AppData\\Local\\Programs\\Julia-1.8.5\\share\\julia\\stdlib\\v1.8\\LinearAlgebra\\src\\dense.jl:893",
      " [7] SLAE(A::Matrix{Int64}, b::Vector{Int64})",
      "   @ Main .\\In[116]:4",
      " [8] top-level scope",
      "   @ In[125]:3"
     ]
    }
   ],
   "source": [
    "A_42_2c = [1 1 1; 1 1 2; 2 2 3]\n",
    "b_42_2c = [1, 0, 1]\n",
    "x_42_2c = SLAE(A_42_2c, b_42_2c)"
   ]
  },
  {
   "cell_type": "markdown",
   "id": "b2b0c414-9c52-4b21-871e-c07e7216970b",
   "metadata": {},
   "source": [
    "d) $\\begin{cases}\n",
    "x + y + z = 1, \\\\\n",
    "x + y + 2z = 0, \\\\\n",
    "2x + 2y + 3z = 0.\n",
    "\\end{cases}\n",
    "$"
   ]
  },
  {
   "cell_type": "markdown",
   "id": "e00cb68f-1f52-46df-9c3e-634f84873e17",
   "metadata": {},
   "source": [
    "Система несовместна, так как из 1 и 2-го уравнений, имеем $z = -1$, $x + y = 2$, и, подставив в 3-е уравнение, получим неверное равенство $4 - 3 \\neq 0$ "
   ]
  },
  {
   "cell_type": "code",
   "execution_count": 126,
   "id": "2725ad67-5449-46b7-a9dc-0c34c1dd328f",
   "metadata": {},
   "outputs": [
    {
     "ename": "LoadError",
     "evalue": "SingularException(2)",
     "output_type": "error",
     "traceback": [
      "SingularException(2)",
      "",
      "Stacktrace:",
      " [1] checknonsingular",
      "   @ C:\\Users\\User\\AppData\\Local\\Programs\\Julia-1.8.5\\share\\julia\\stdlib\\v1.8\\LinearAlgebra\\src\\factorization.jl:19 [inlined]",
      " [2] checknonsingular",
      "   @ C:\\Users\\User\\AppData\\Local\\Programs\\Julia-1.8.5\\share\\julia\\stdlib\\v1.8\\LinearAlgebra\\src\\factorization.jl:21 [inlined]",
      " [3] #lu!#170",
      "   @ C:\\Users\\User\\AppData\\Local\\Programs\\Julia-1.8.5\\share\\julia\\stdlib\\v1.8\\LinearAlgebra\\src\\lu.jl:82 [inlined]",
      " [4] #lu#177",
      "   @ C:\\Users\\User\\AppData\\Local\\Programs\\Julia-1.8.5\\share\\julia\\stdlib\\v1.8\\LinearAlgebra\\src\\lu.jl:279 [inlined]",
      " [5] lu (repeats 2 times)",
      "   @ C:\\Users\\User\\AppData\\Local\\Programs\\Julia-1.8.5\\share\\julia\\stdlib\\v1.8\\LinearAlgebra\\src\\lu.jl:278 [inlined]",
      " [6] inv(A::Matrix{Int64})",
      "   @ LinearAlgebra C:\\Users\\User\\AppData\\Local\\Programs\\Julia-1.8.5\\share\\julia\\stdlib\\v1.8\\LinearAlgebra\\src\\dense.jl:893",
      " [7] SLAE(A::Matrix{Int64}, b::Vector{Int64})",
      "   @ Main .\\In[116]:4",
      " [8] top-level scope",
      "   @ In[126]:3"
     ]
    }
   ],
   "source": [
    "A_42_2d = [1 1 1; 1 1 2; 2 2 3]\n",
    "b_42_2d = [1, 0, 0]\n",
    "x_42_2d = SLAE(A_42_2d, b_42_2d)"
   ]
  },
  {
   "cell_type": "markdown",
   "id": "52901a04-dceb-40d9-ac9a-45adf75464b4",
   "metadata": {},
   "source": [
    "### 4.4.3. Операции с матрицами"
   ]
  },
  {
   "cell_type": "markdown",
   "id": "da43f828-2fca-4267-aa22-8afbedf3d3b6",
   "metadata": {},
   "source": [
    "1. Приведите приведённые ниже матрицы к диагональному виду"
   ]
  },
  {
   "cell_type": "markdown",
   "id": "17f6fd9b-15e7-40b5-ab6f-0536678981f2",
   "metadata": {},
   "source": [
    "a) $\\begin{pmatrix}\n",
    "1 & −2 \\\\\n",
    "−2 & 1\n",
    "\\end{pmatrix}$"
   ]
  },
  {
   "cell_type": "code",
   "execution_count": 132,
   "id": "429697bd-02e3-4f2b-8a5a-4b5ca7d7c067",
   "metadata": {},
   "outputs": [
    {
     "data": {
      "text/plain": [
       "2×2 Matrix{Float64}:\n",
       " -0.707107  -0.707107\n",
       " -0.707107   0.707107"
      ]
     },
     "execution_count": 132,
     "metadata": {},
     "output_type": "execute_result"
    }
   ],
   "source": [
    "A_43_1a = [1 -2; -2 1]"
   ]
  },
  {
   "cell_type": "code",
   "execution_count": 133,
   "id": "2c094ed6-2079-48a1-bd43-117af2286acf",
   "metadata": {
    "tags": []
   },
   "outputs": [
    {
     "data": {
      "text/plain": [
       "2×2 Matrix{Float64}:\n",
       " -0.707107  -0.707107\n",
       " -0.707107   0.707107"
      ]
     },
     "execution_count": 133,
     "metadata": {},
     "output_type": "execute_result"
    }
   ],
   "source": [
    "#A_43_1a_Eig = eigen(A_43_1a)\n",
    "A_43_1a_EigVect = eigvecs(A_43_1a)"
   ]
  },
  {
   "cell_type": "code",
   "execution_count": 134,
   "id": "e8d5884e-cdec-42af-9f9d-96790ae8f531",
   "metadata": {
    "tags": []
   },
   "outputs": [
    {
     "data": {
      "text/plain": [
       "2×2 Matrix{Float64}:\n",
       " -1.0  0.0\n",
       "  0.0  3.0"
      ]
     },
     "execution_count": 134,
     "metadata": {},
     "output_type": "execute_result"
    }
   ],
   "source": [
    "A_43_1a_Diag = A_43_1a_EigVect' * A_43_1a * A_43_1a_EigVect"
   ]
  },
  {
   "cell_type": "code",
   "execution_count": 140,
   "id": "6be54fd7-3fce-4aeb-be3c-381ed1b6d772",
   "metadata": {
    "tags": []
   },
   "outputs": [
    {
     "data": {
      "text/plain": [
       "2-element Vector{Float64}:\n",
       " -1.0\n",
       "  3.0"
      ]
     },
     "execution_count": 140,
     "metadata": {},
     "output_type": "execute_result"
    }
   ],
   "source": [
    "A_43_1a_EigVals = eigvals(A_43_1a)"
   ]
  },
  {
   "cell_type": "code",
   "execution_count": 142,
   "id": "f5017898-aa72-43a5-9a29-a7777b05e709",
   "metadata": {
    "tags": []
   },
   "outputs": [
    {
     "data": {
      "text/plain": [
       "2×2 Matrix{Float64}:\n",
       " -1.0  0.0\n",
       "  0.0  3.0"
      ]
     },
     "execution_count": 142,
     "metadata": {},
     "output_type": "execute_result"
    }
   ],
   "source": [
    "A_43_1a_EigVal_Matrix = zeros(size(A_43_1a)[1], size(A_43_1a)[2])\n",
    "for i ∈ 1:size(A_43_1a)[1]\n",
    "    A_43_1a_EigVal_Matrix[i, i] = A_43_1a_EigVals[i]\n",
    "end\n",
    "A_43_1a_EigVal_Matrix"
   ]
  },
  {
   "cell_type": "markdown",
   "id": "11df19ef-725d-4363-b5ed-b8528043c087",
   "metadata": {},
   "source": [
    "b) $\\begin{pmatrix}\n",
    "1 & −2 \\\\\n",
    "−2 & 3\n",
    "\\end{pmatrix}$"
   ]
  },
  {
   "cell_type": "code",
   "execution_count": 144,
   "id": "e618ab81-be47-40f7-a217-2b79f7bef846",
   "metadata": {},
   "outputs": [
    {
     "data": {
      "text/plain": [
       "2×2 Matrix{Int64}:\n",
       "  1  -2\n",
       " -2   3"
      ]
     },
     "execution_count": 144,
     "metadata": {},
     "output_type": "execute_result"
    }
   ],
   "source": [
    "A_43_1b = [1 -2; -2 3]"
   ]
  },
  {
   "cell_type": "code",
   "execution_count": 146,
   "id": "c5e005bd-eb84-42b6-a2c2-721fa32a4604",
   "metadata": {
    "tags": []
   },
   "outputs": [
    {
     "data": {
      "text/plain": [
       "2-element Vector{Float64}:\n",
       " -0.2360679774997897\n",
       "  4.23606797749979"
      ]
     },
     "execution_count": 146,
     "metadata": {},
     "output_type": "execute_result"
    }
   ],
   "source": [
    "A_43_1b_EigVals = eigvals(A_43_1b)"
   ]
  },
  {
   "cell_type": "code",
   "execution_count": 147,
   "id": "882a574e-846b-455b-bc46-84bcca759f99",
   "metadata": {
    "tags": []
   },
   "outputs": [
    {
     "data": {
      "text/plain": [
       "2×2 Matrix{Float64}:\n",
       " -0.236068  0.0\n",
       "  0.0       4.23607"
      ]
     },
     "execution_count": 147,
     "metadata": {},
     "output_type": "execute_result"
    }
   ],
   "source": [
    "A_43_1b_EigVal_Matrix = zeros(size(A_43_1b)[1], size(A_43_1b)[2])\n",
    "for i ∈ 1:size(A_43_1b)[1]\n",
    "    A_43_1b_EigVal_Matrix[i, i] = A_43_1b_EigVals[i]\n",
    "end\n",
    "A_43_1b_EigVal_Matrix"
   ]
  },
  {
   "cell_type": "code",
   "execution_count": 148,
   "id": "0838e361-7c68-46f0-b179-4ae704c03d51",
   "metadata": {
    "tags": []
   },
   "outputs": [
    {
     "data": {
      "text/plain": [
       "2×2 Matrix{Float64}:\n",
       " -0.850651  -0.525731\n",
       " -0.525731   0.850651"
      ]
     },
     "execution_count": 148,
     "metadata": {},
     "output_type": "execute_result"
    }
   ],
   "source": [
    "A_43_1b_EigVect = eigvecs(A_43_1b)"
   ]
  },
  {
   "cell_type": "code",
   "execution_count": 149,
   "id": "a10bbad2-f571-43a9-9aee-dcf49731618a",
   "metadata": {
    "tags": []
   },
   "outputs": [
    {
     "data": {
      "text/plain": [
       "2×2 Matrix{Float64}:\n",
       " -0.236068     3.46945e-16\n",
       "  2.22045e-16  4.23607"
      ]
     },
     "execution_count": 149,
     "metadata": {},
     "output_type": "execute_result"
    }
   ],
   "source": [
    "A_43_1b_Diag = A_43_1b_EigVect' * A_43_1b * A_43_1b_EigVect"
   ]
  },
  {
   "cell_type": "markdown",
   "id": "273835c9-c71a-4645-a580-366854c69810",
   "metadata": {},
   "source": [
    "c) $\\begin{pmatrix}\n",
    "1 & −2 & 0 \\\\\n",
    "-2 & 1 & 2 \\\\\n",
    "0 & 2 & 0\n",
    "\\end{pmatrix}$"
   ]
  },
  {
   "cell_type": "code",
   "execution_count": 150,
   "id": "ad6910a3-8ca4-46ee-b25a-24f7e020589e",
   "metadata": {},
   "outputs": [
    {
     "data": {
      "text/plain": [
       "3×3 Matrix{Int64}:\n",
       "  1  -2  0\n",
       " -2   1  2\n",
       "  0   2  0"
      ]
     },
     "execution_count": 150,
     "metadata": {},
     "output_type": "execute_result"
    }
   ],
   "source": [
    "A_43_1c = [1 -2 0; -2 1 2; 0 2 0]"
   ]
  },
  {
   "cell_type": "code",
   "execution_count": 151,
   "id": "b34f0884-69e6-42c2-9fe7-23c947a144cf",
   "metadata": {
    "tags": []
   },
   "outputs": [
    {
     "data": {
      "text/plain": [
       "3-element Vector{Float64}:\n",
       " -2.1413361156553643\n",
       "  0.51513804712807\n",
       "  3.6261980685272945"
      ]
     },
     "execution_count": 151,
     "metadata": {},
     "output_type": "execute_result"
    }
   ],
   "source": [
    "A_43_1c_EigVals = eigvals(A_43_1c)"
   ]
  },
  {
   "cell_type": "code",
   "execution_count": 152,
   "id": "ea68381f-9afb-486a-9e4c-f4410c0dcc01",
   "metadata": {
    "tags": []
   },
   "outputs": [
    {
     "data": {
      "text/plain": [
       "3×3 Matrix{Float64}:\n",
       " -2.14134  0.0       0.0\n",
       "  0.0      0.515138  0.0\n",
       "  0.0      0.0       3.6262"
      ]
     },
     "execution_count": 152,
     "metadata": {},
     "output_type": "execute_result"
    }
   ],
   "source": [
    "A_43_1c_EigVal_Matrix = zeros(size(A_43_1c)[1], size(A_43_1c)[2])\n",
    "for i ∈ 1:size(A_43_1c)[1]\n",
    "    A_43_1c_EigVal_Matrix[i, i] = A_43_1c_EigVals[i]\n",
    "end\n",
    "A_43_1c_EigVal_Matrix"
   ]
  },
  {
   "cell_type": "code",
   "execution_count": 153,
   "id": "9085334a-a810-4e90-9e0f-f306f700abef",
   "metadata": {
    "tags": []
   },
   "outputs": [
    {
     "data": {
      "text/plain": [
       "3×3 Matrix{Float64}:\n",
       "  0.421859  0.717093   0.554808\n",
       "  0.6626    0.173846  -0.728518\n",
       " -0.618866  0.674948  -0.401808"
      ]
     },
     "execution_count": 153,
     "metadata": {},
     "output_type": "execute_result"
    }
   ],
   "source": [
    "A_43_1c_EigVect = eigvecs(A_43_1c)"
   ]
  },
  {
   "cell_type": "code",
   "execution_count": 154,
   "id": "0189db76-3dd7-445d-8ec6-adeb522fc8f5",
   "metadata": {
    "tags": []
   },
   "outputs": [
    {
     "data": {
      "text/plain": [
       "3×3 Matrix{Float64}:\n",
       " -2.14134       3.55271e-15  -6.66134e-16\n",
       "  3.52496e-15   0.515138     -3.88578e-16\n",
       " -6.66134e-16  -3.33067e-16   3.6262"
      ]
     },
     "execution_count": 154,
     "metadata": {},
     "output_type": "execute_result"
    }
   ],
   "source": [
    "A_43_1c_Diag = A_43_1c_EigVect' * A_43_1c * A_43_1c_EigVect"
   ]
  },
  {
   "cell_type": "markdown",
   "id": "0d3372ef-49cc-439e-976a-cfb6e4fe9682",
   "metadata": {},
   "source": [
    "2. Вычислите"
   ]
  },
  {
   "cell_type": "markdown",
   "id": "09894021-d860-41d6-9fdf-70374e396890",
   "metadata": {},
   "source": [
    "a) $\\begin{pmatrix}\n",
    "1 & −2 \\\\\n",
    "−2 & 1\n",
    "\\end{pmatrix}^{10}$"
   ]
  },
  {
   "cell_type": "code",
   "execution_count": 155,
   "id": "88109994-8913-4901-8124-3f8cd1db70bd",
   "metadata": {},
   "outputs": [
    {
     "data": {
      "text/plain": [
       "2×2 Matrix{Int64}:\n",
       "  1  -2\n",
       " -2   1"
      ]
     },
     "execution_count": 155,
     "metadata": {},
     "output_type": "execute_result"
    }
   ],
   "source": [
    "A_43_2a = [1 -2; -2 1]"
   ]
  },
  {
   "cell_type": "code",
   "execution_count": 156,
   "id": "a59fe418-f108-4f5f-b705-91aa9e1a4df0",
   "metadata": {
    "tags": []
   },
   "outputs": [
    {
     "data": {
      "text/plain": [
       "2×2 Matrix{Int64}:\n",
       "  29525  -29524\n",
       " -29524   29525"
      ]
     },
     "execution_count": 156,
     "metadata": {},
     "output_type": "execute_result"
    }
   ],
   "source": [
    "A_43_2a^10"
   ]
  },
  {
   "cell_type": "markdown",
   "id": "933d1301-722f-4872-bc29-aefe98ee74bb",
   "metadata": {},
   "source": [
    "b) $\\sqrt{\\begin{pmatrix}\n",
    "5 & −2 \\\\\n",
    "−2 & 5\n",
    "\\end{pmatrix}}$"
   ]
  },
  {
   "cell_type": "code",
   "execution_count": 172,
   "id": "3beabf07-b6c8-486d-91f4-b16c77a7fca0",
   "metadata": {
    "tags": []
   },
   "outputs": [
    {
     "data": {
      "text/plain": [
       "2×2 Matrix{Int64}:\n",
       "  5  -2\n",
       " -2   5"
      ]
     },
     "execution_count": 172,
     "metadata": {},
     "output_type": "execute_result"
    }
   ],
   "source": [
    "A_43_2b = [5 -2; -2 5]"
   ]
  },
  {
   "cell_type": "code",
   "execution_count": 173,
   "id": "d2e0e04b-978b-403b-97b0-e87b2993e616",
   "metadata": {
    "tags": []
   },
   "outputs": [
    {
     "data": {
      "text/plain": [
       "Eigen{Float64, Float64, Matrix{Float64}, Vector{Float64}}\n",
       "values:\n",
       "2-element Vector{Float64}:\n",
       " 3.0\n",
       " 7.0\n",
       "vectors:\n",
       "2×2 Matrix{Float64}:\n",
       " -0.707107  -0.707107\n",
       " -0.707107   0.707107"
      ]
     },
     "execution_count": 173,
     "metadata": {},
     "output_type": "execute_result"
    }
   ],
   "source": [
    "A_43_2b_Eig = eigen(A_43_2b)"
   ]
  },
  {
   "cell_type": "code",
   "execution_count": 174,
   "id": "0e3f8162-5553-48b8-b418-440db6dfeb59",
   "metadata": {},
   "outputs": [
    {
     "data": {
      "text/plain": [
       "2×2 Matrix{Float64}:\n",
       " -0.707107  -0.707107\n",
       " -0.707107   0.707107"
      ]
     },
     "execution_count": 174,
     "metadata": {},
     "output_type": "execute_result"
    }
   ],
   "source": [
    "A_43_2b_EigVect = eigvecs(A_43_2b)"
   ]
  },
  {
   "cell_type": "code",
   "execution_count": 175,
   "id": "0c60ce5d-76a2-4480-ab99-dc649316c808",
   "metadata": {
    "tags": []
   },
   "outputs": [
    {
     "data": {
      "text/plain": [
       "2×2 Matrix{Float64}:\n",
       " 3.0  0.0\n",
       " 0.0  7.0"
      ]
     },
     "execution_count": 175,
     "metadata": {},
     "output_type": "execute_result"
    }
   ],
   "source": [
    "A_43_2b_Diag = A_43_2b_EigVect' * A_43_2b * A_43_2b_EigVect"
   ]
  },
  {
   "cell_type": "code",
   "execution_count": 176,
   "id": "13d65878-67da-437e-8b73-1d69cdac828c",
   "metadata": {
    "tags": []
   },
   "outputs": [
    {
     "data": {
      "text/plain": [
       "2×2 Matrix{Float64}:\n",
       " 1.73205  0.0\n",
       " 0.0      2.64575"
      ]
     },
     "execution_count": 176,
     "metadata": {},
     "output_type": "execute_result"
    }
   ],
   "source": [
    "Res_43_2b = sqrt.(A_43_2b_Diag)"
   ]
  },
  {
   "cell_type": "code",
   "execution_count": 177,
   "id": "25a1a2f4-cb39-46b9-b7a6-3183ddf5eb23",
   "metadata": {
    "tags": []
   },
   "outputs": [
    {
     "data": {
      "text/plain": [
       "2×2 Matrix{Float64}:\n",
       " 3.0  0.0\n",
       " 0.0  7.0"
      ]
     },
     "execution_count": 177,
     "metadata": {},
     "output_type": "execute_result"
    }
   ],
   "source": [
    "# Проверка\n",
    "Res_43_2b*Res_43_2b"
   ]
  },
  {
   "cell_type": "markdown",
   "id": "95c944b8-7bbd-4d3f-a01a-20a38164bd76",
   "metadata": {},
   "source": [
    "c) $\\sqrt[3]{\\begin{pmatrix}\n",
    "1 & −2 \\\\\n",
    "−2 & 1\n",
    "\\end{pmatrix}}$"
   ]
  },
  {
   "cell_type": "code",
   "execution_count": 180,
   "id": "72edd60e-094e-4dd4-9e86-7d8fa7457d79",
   "metadata": {},
   "outputs": [
    {
     "data": {
      "text/plain": [
       "2×2 Matrix{Int64}:\n",
       "  1  -2\n",
       " -2   1"
      ]
     },
     "execution_count": 180,
     "metadata": {},
     "output_type": "execute_result"
    }
   ],
   "source": [
    "A_43_2c = [1 -2; -2 1]"
   ]
  },
  {
   "cell_type": "code",
   "execution_count": 181,
   "id": "050ecc5a-fdcb-4045-b631-cc61a5de8011",
   "metadata": {
    "tags": []
   },
   "outputs": [
    {
     "data": {
      "text/plain": [
       "Eigen{Float64, Float64, Matrix{Float64}, Vector{Float64}}\n",
       "values:\n",
       "2-element Vector{Float64}:\n",
       " -1.0\n",
       "  3.0\n",
       "vectors:\n",
       "2×2 Matrix{Float64}:\n",
       " -0.707107  -0.707107\n",
       " -0.707107   0.707107"
      ]
     },
     "execution_count": 181,
     "metadata": {},
     "output_type": "execute_result"
    }
   ],
   "source": [
    "A_43_2с_Eig = eigen(A_43_2c)"
   ]
  },
  {
   "cell_type": "code",
   "execution_count": 184,
   "id": "994fa5d3-aadd-49f1-8eee-9b8e010d12fe",
   "metadata": {
    "tags": []
   },
   "outputs": [
    {
     "data": {
      "text/plain": [
       "2×2 Matrix{Float64}:\n",
       " -0.707107  -0.707107\n",
       " -0.707107   0.707107"
      ]
     },
     "execution_count": 184,
     "metadata": {},
     "output_type": "execute_result"
    }
   ],
   "source": [
    "A_43_2c_EigVect = eigvecs(A_43_2c)"
   ]
  },
  {
   "cell_type": "code",
   "execution_count": 185,
   "id": "c08171f2-92ff-4393-bfc0-58ba254cb6a7",
   "metadata": {
    "tags": []
   },
   "outputs": [
    {
     "data": {
      "text/plain": [
       "2×2 Matrix{Float64}:\n",
       " -1.0  0.0\n",
       "  0.0  3.0"
      ]
     },
     "execution_count": 185,
     "metadata": {},
     "output_type": "execute_result"
    }
   ],
   "source": [
    "A_43_2c_Diag = A_43_2c_EigVect' * A_43_2c * A_43_2c_EigVect"
   ]
  },
  {
   "cell_type": "code",
   "execution_count": 186,
   "id": "fbbf95f3-416f-4e21-927b-6687f6798fba",
   "metadata": {
    "tags": []
   },
   "outputs": [
    {
     "data": {
      "text/plain": [
       "2×2 Matrix{Float64}:\n",
       " -1.0  0.0\n",
       "  0.0  1.44225"
      ]
     },
     "execution_count": 186,
     "metadata": {},
     "output_type": "execute_result"
    }
   ],
   "source": [
    "Res_43_2c = cbrt.(A_43_2c_Diag)"
   ]
  },
  {
   "cell_type": "code",
   "execution_count": 187,
   "id": "f87da1fd-acd7-4c22-bcf8-17e289993f6f",
   "metadata": {
    "tags": []
   },
   "outputs": [
    {
     "data": {
      "text/plain": [
       "2×2 Matrix{Float64}:\n",
       " -1.0  0.0\n",
       "  0.0  3.0"
      ]
     },
     "execution_count": 187,
     "metadata": {},
     "output_type": "execute_result"
    }
   ],
   "source": [
    "# Проверка\n",
    "Res_43_2c*Res_43_2c*Res_43_2c"
   ]
  },
  {
   "cell_type": "markdown",
   "id": "955a0d3e-75d8-4eaa-b77e-f18a19a1bbb5",
   "metadata": {},
   "source": [
    "d) $\\sqrt{\\begin{pmatrix}\n",
    "1 & 2 \\\\\n",
    "2 & 3\n",
    "\\end{pmatrix}}$"
   ]
  },
  {
   "cell_type": "code",
   "execution_count": 188,
   "id": "e6e77983-8d85-49eb-8d7e-a6b5f2fb13ef",
   "metadata": {},
   "outputs": [
    {
     "data": {
      "text/plain": [
       "2×2 Matrix{Int64}:\n",
       " 1  2\n",
       " 2  3"
      ]
     },
     "execution_count": 188,
     "metadata": {},
     "output_type": "execute_result"
    }
   ],
   "source": [
    "A_43_2d = [1 2; 2 3]"
   ]
  },
  {
   "cell_type": "code",
   "execution_count": 189,
   "id": "3854379a-f380-4c95-abbc-70f31884e485",
   "metadata": {
    "tags": []
   },
   "outputs": [
    {
     "data": {
      "text/plain": [
       "Eigen{Float64, Float64, Matrix{Float64}, Vector{Float64}}\n",
       "values:\n",
       "2-element Vector{Float64}:\n",
       " -0.2360679774997897\n",
       "  4.23606797749979\n",
       "vectors:\n",
       "2×2 Matrix{Float64}:\n",
       " -0.850651  0.525731\n",
       "  0.525731  0.850651"
      ]
     },
     "execution_count": 189,
     "metadata": {},
     "output_type": "execute_result"
    }
   ],
   "source": [
    "A_43_2d_Eig = eigen(A_43_2d)"
   ]
  },
  {
   "cell_type": "code",
   "execution_count": 190,
   "id": "5c648121-2522-41b0-87dc-0a166eb25490",
   "metadata": {
    "tags": []
   },
   "outputs": [
    {
     "data": {
      "text/plain": [
       "2×2 Matrix{Float64}:\n",
       " -0.850651  0.525731\n",
       "  0.525731  0.850651"
      ]
     },
     "execution_count": 190,
     "metadata": {},
     "output_type": "execute_result"
    }
   ],
   "source": [
    "A_43_2d_EigVect = eigvecs(A_43_2d)"
   ]
  },
  {
   "cell_type": "code",
   "execution_count": 191,
   "id": "031d64d1-0901-422b-bbd1-19f2b0100870",
   "metadata": {
    "tags": []
   },
   "outputs": [
    {
     "data": {
      "text/plain": [
       "2×2 Matrix{Float64}:\n",
       " -0.236068     -3.46945e-16\n",
       " -2.22045e-16   4.23607"
      ]
     },
     "execution_count": 191,
     "metadata": {},
     "output_type": "execute_result"
    }
   ],
   "source": [
    "A_43_2d_Diag = A_43_2d_EigVect' * A_43_2d * A_43_2d_EigVect"
   ]
  },
  {
   "cell_type": "code",
   "execution_count": 195,
   "id": "d53b2267-de9e-4261-8d12-6ba1a0e7d94c",
   "metadata": {
    "tags": []
   },
   "outputs": [
    {
     "data": {
      "text/plain": [
       "2×2 Matrix{ComplexF64}:\n",
       " 0.0+0.485868im        0.0+1.86265e-8im\n",
       " 0.0+1.49012e-8im  2.05817+0.0im"
      ]
     },
     "execution_count": 195,
     "metadata": {},
     "output_type": "execute_result"
    }
   ],
   "source": [
    "# Одно из собственных значений отрицательно, поэтому извлекаем корень из комплексного числа\n",
    "Res_43_2d = sqrt.(Complex.(A_43_2d_Diag))"
   ]
  },
  {
   "cell_type": "code",
   "execution_count": 196,
   "id": "e5678fbc-ac9f-484b-99e7-2f8de41e052c",
   "metadata": {
    "tags": []
   },
   "outputs": [
    {
     "data": {
      "text/plain": [
       "2×2 Matrix{ComplexF64}:\n",
       " -0.236068+0.0im         -9.05e-9+3.83364e-8im\n",
       "  -7.24e-9+3.06691e-8im   4.23607+0.0im"
      ]
     },
     "execution_count": 196,
     "metadata": {},
     "output_type": "execute_result"
    }
   ],
   "source": [
    "# Проверка\n",
    "Res_43_2d*Res_43_2d "
   ]
  },
  {
   "cell_type": "markdown",
   "id": "7b4955a8-c8a5-464b-bc1d-b51de261b180",
   "metadata": {},
   "source": [
    "3. Найдите собственные значения матрицы 𝐴, если $A = \n",
    "\\begin{pmatrix}\n",
    "140 & 97 & 74 & 168 & 131 \\\\\n",
    "97 & 106 & 89 & 131 & 36 \\\\\n",
    "74 & 89 & 152 & 144 & 71 \\\\\n",
    "168 & 131 & 144 & 54 & 142 \\\\\n",
    "131 & 36 & 71 & 142 & 36\n",
    "\\end{pmatrix}$.\n",
    "Создайте диагональную матрицу из собственных значений матрицы 𝐴. Создайте\n",
    "нижнедиагональную матрицу из матрица 𝐴. Оцените эффективность выполняемых\n",
    "операций."
   ]
  },
  {
   "cell_type": "code",
   "execution_count": 199,
   "id": "ad58b411-9957-4912-af31-9bdc3909cc7e",
   "metadata": {},
   "outputs": [
    {
     "data": {
      "text/plain": [
       "5×5 Matrix{Int64}:\n",
       " 140   97   74  168  131\n",
       "  97  106   89  131   36\n",
       "  74   89  152  144   71\n",
       " 168  131  144   54  142\n",
       " 131   36   71  142   36"
      ]
     },
     "execution_count": 199,
     "metadata": {},
     "output_type": "execute_result"
    }
   ],
   "source": [
    "A_43_3 = [140 97 74 168 131;\n",
    "          97 106 89 131 36;\n",
    "          74 89 152 144 71;\n",
    "          168 131 144 54 142;\n",
    "          131 36 71 142 36]"
   ]
  },
  {
   "cell_type": "code",
   "execution_count": 200,
   "id": "a9bfe7aa-4d40-4636-a0c9-d989a14624fa",
   "metadata": {
    "tags": []
   },
   "outputs": [
    {
     "name": "stdout",
     "output_type": "stream",
     "text": [
      "true"
     ]
    }
   ],
   "source": [
    "print(issymmetric(A_43_3))"
   ]
  },
  {
   "cell_type": "code",
   "execution_count": 201,
   "id": "ebe7b086-9af5-4b1e-9e2f-a3d535198fbd",
   "metadata": {
    "tags": []
   },
   "outputs": [
    {
     "data": {
      "text/plain": [
       "5-element Vector{Float64}:\n",
       " -128.49322764802145\n",
       "  -55.887784553056875\n",
       "   42.7521672793189\n",
       "   87.16111477514521\n",
       "  542.4677301466143"
      ]
     },
     "execution_count": 201,
     "metadata": {},
     "output_type": "execute_result"
    }
   ],
   "source": [
    "A_43_3_EigVals = eigvals(A_43_3)"
   ]
  },
  {
   "cell_type": "code",
   "execution_count": 202,
   "id": "b5c1fbc7-2c63-4b76-9bd4-b225ebdc69aa",
   "metadata": {
    "tags": []
   },
   "outputs": [
    {
     "data": {
      "text/plain": [
       "5×5 Matrix{Float64}:\n",
       " -128.493    0.0      0.0      0.0       0.0\n",
       "    0.0    -55.8878   0.0      0.0       0.0\n",
       "    0.0      0.0     42.7522   0.0       0.0\n",
       "    0.0      0.0      0.0     87.1611    0.0\n",
       "    0.0      0.0      0.0      0.0     542.468"
      ]
     },
     "execution_count": 202,
     "metadata": {},
     "output_type": "execute_result"
    }
   ],
   "source": [
    "A_43_3_EigVal_Matrix = zeros(size(A_43_3)[1], size(A_43_3)[2])\n",
    "for i ∈ 1:size(A_43_3)[1]\n",
    "    A_43_3_EigVal_Matrix[i, i] = A_43_3_EigVals[i]\n",
    "end\n",
    "A_43_3_EigVal_Matrix"
   ]
  },
  {
   "cell_type": "code",
   "execution_count": 204,
   "id": "b4eee390-329c-47a7-997d-fc9ad2e1da95",
   "metadata": {
    "tags": []
   },
   "outputs": [
    {
     "data": {
      "text/plain": [
       "5×5 LowerTriangular{Int64, Matrix{Int64}}:\n",
       " 140    ⋅    ⋅    ⋅   ⋅\n",
       "  97  106    ⋅    ⋅   ⋅\n",
       "  74   89  152    ⋅   ⋅\n",
       " 168  131  144   54   ⋅\n",
       " 131   36   71  142  36"
      ]
     },
     "execution_count": 204,
     "metadata": {},
     "output_type": "execute_result"
    }
   ],
   "source": [
    "LowerTriangular(A_43_3)"
   ]
  },
  {
   "cell_type": "code",
   "execution_count": 207,
   "id": "c2105be7-bc50-4603-9567-a5c4a70a2101",
   "metadata": {
    "tags": []
   },
   "outputs": [
    {
     "name": "stdout",
     "output_type": "stream",
     "text": [
      "  3.350 μs (25 allocations: 3.20 KiB)\n"
     ]
    }
   ],
   "source": [
    "@btime begin\n",
    "    A_43_3_EigVals = eigvals(A_43_3)\n",
    "    A_43_3_EigVal_Matrix = zeros(size(A_43_3)[1], size(A_43_3)[2])\n",
    "    for i ∈ 1:size(A_43_3)[1]\n",
    "        A_43_3_EigVal_Matrix[i, i] = A_43_3_EigVals[i]\n",
    "    end\n",
    "end"
   ]
  },
  {
   "cell_type": "code",
   "execution_count": 206,
   "id": "cae8fec6-9bd4-4a39-b745-89771283bfc9",
   "metadata": {
    "tags": []
   },
   "outputs": [
    {
     "name": "stdout",
     "output_type": "stream",
     "text": [
      "  68.275 ns (1 allocation: 16 bytes)\n"
     ]
    },
    {
     "data": {
      "text/plain": [
       "5×5 LowerTriangular{Int64, Matrix{Int64}}:\n",
       " 140    ⋅    ⋅    ⋅   ⋅\n",
       "  97  106    ⋅    ⋅   ⋅\n",
       "  74   89  152    ⋅   ⋅\n",
       " 168  131  144   54   ⋅\n",
       " 131   36   71  142  36"
      ]
     },
     "execution_count": 206,
     "metadata": {},
     "output_type": "execute_result"
    }
   ],
   "source": [
    "@btime LowerTriangular(A_43_3)"
   ]
  },
  {
   "cell_type": "markdown",
   "id": "52cc5d6c-be5e-4a37-b263-5a79711861ad",
   "metadata": {},
   "source": [
    "### 4.4.4. Линейные модели экономики"
   ]
  },
  {
   "cell_type": "markdown",
   "id": "f47fb64d-262d-4682-86b9-02092e0aa3c7",
   "metadata": {},
   "source": [
    "Линейная модель экономики может быть записана как СЛАУ\n",
    "$$𝑥 − 𝐴𝑥 = 𝑦, \\qquad(x(E - A) = y)$$\n",
    "где элементы матрицы $𝐴$ и столбца $𝑦$ --- неотрицательные числа. По своему смыслу в экономике элементы матрицы $𝐴$ и столбцов $𝑥, 𝑦$ не могут быть отрицательными числами."
   ]
  },
  {
   "cell_type": "code",
   "execution_count": 231,
   "id": "e11669d6-a6d9-49e8-9254-0a586242ee0b",
   "metadata": {
    "tags": []
   },
   "outputs": [
    {
     "data": {
      "text/plain": [
       "Diagonalize (generic function with 1 method)"
      ]
     },
     "execution_count": 231,
     "metadata": {},
     "output_type": "execute_result"
    }
   ],
   "source": [
    "function Diagonalize(A)\n",
    "    A_EigVals = eigvals(A)\n",
    "    A_EigVal_Matrix = zeros(size(A)[1], size(A)[2])\n",
    "    for i ∈ 1:size(A)[1]\n",
    "        A_EigVal_Matrix[i, i] = A_EigVals[i]\n",
    "    end\n",
    "    return A_EigVal_Matrix\n",
    "end"
   ]
  },
  {
   "cell_type": "code",
   "execution_count": 236,
   "id": "1017a97b-c0f4-4034-b5ba-397024dd7198",
   "metadata": {
    "tags": []
   },
   "outputs": [
    {
     "data": {
      "text/plain": [
       "inverse_E_minus_A_Diag (generic function with 1 method)"
      ]
     },
     "execution_count": 236,
     "metadata": {},
     "output_type": "execute_result"
    }
   ],
   "source": [
    "function inverse_E_minus_A_Diag(A)\n",
    "    A_Diag = Diagonalize(A)\n",
    "    E_minus_A = Matrix{Int}(I, size(A)[1], size(A)[2]) - A_Diag\n",
    "    return inv(E_minus_A)\n",
    "end"
   ]
  },
  {
   "cell_type": "code",
   "execution_count": 265,
   "id": "ae1c0dab-d6f7-40c3-a6ac-c5277e8e7a1f",
   "metadata": {
    "tags": []
   },
   "outputs": [
    {
     "data": {
      "text/plain": [
       "SLAE_44 (generic function with 1 method)"
      ]
     },
     "execution_count": 265,
     "metadata": {},
     "output_type": "execute_result"
    }
   ],
   "source": [
    "function SLAE_44(A, y)\n",
    "    Inv_E_minus_A_Diag = inverse_E_minus_A_Diag(A)\n",
    "    x = zeros(length(y))\n",
    "    # Умножаем элементы диагональной матрицы на соответствующий элемент из правой части\n",
    "    for i ∈ 1:length(y)\n",
    "        x[i] = y[i]*Inv_E_minus_A_Diag[i, i]\n",
    "    end\n",
    "    return x\n",
    "end"
   ]
  },
  {
   "cell_type": "markdown",
   "id": "b73344ef-3244-480b-84cf-3722fe5fe40c",
   "metadata": {},
   "source": [
    "1. Матрица 𝐴 называется продуктивной, если решение 𝑥 системы при любой неотрицательной правой части $𝑦$ имеет только неотрицательные элементы $𝑥_𝑖$. Используя это определение, проверьте, являются ли матрицы продуктивными."
   ]
  },
  {
   "cell_type": "markdown",
   "id": "9b594799-f89c-4179-88c6-e9d74a5d0183",
   "metadata": {},
   "source": [
    "a) $\\begin{pmatrix}\n",
    "1 & 2 \\\\\n",
    "3 & 4\n",
    "\\end{pmatrix}$"
   ]
  },
  {
   "cell_type": "code",
   "execution_count": 260,
   "id": "62a252a1-105e-434c-8dda-3dc6ba38ccd0",
   "metadata": {},
   "outputs": [
    {
     "data": {
      "text/plain": [
       "2×2 Matrix{Int64}:\n",
       " 1  2\n",
       " 3  4"
      ]
     },
     "execution_count": 260,
     "metadata": {},
     "output_type": "execute_result"
    }
   ],
   "source": [
    "A_44_1a = [1 2; 3 4]"
   ]
  },
  {
   "cell_type": "code",
   "execution_count": 261,
   "id": "2b357a17-3f31-43f5-9310-3c081f55f4a0",
   "metadata": {
    "tags": []
   },
   "outputs": [
    {
     "data": {
      "text/plain": [
       "2-element Vector{Int64}:\n",
       " 2\n",
       " 2"
      ]
     },
     "execution_count": 261,
     "metadata": {},
     "output_type": "execute_result"
    }
   ],
   "source": [
    "b_44_1a = [2, 2]"
   ]
  },
  {
   "cell_type": "code",
   "execution_count": 262,
   "id": "3b54486e-f7c4-455b-8ebc-08696dc38e28",
   "metadata": {
    "tags": []
   },
   "outputs": [
    {
     "data": {
      "text/plain": [
       "2×2 Matrix{Float64}:\n",
       " -0.372281  0.0\n",
       "  0.0       5.37228"
      ]
     },
     "execution_count": 262,
     "metadata": {},
     "output_type": "execute_result"
    }
   ],
   "source": [
    "Diagonalize(A_44_1a)"
   ]
  },
  {
   "cell_type": "code",
   "execution_count": 263,
   "id": "6266fada-e857-461c-9ce9-26eee5baacbd",
   "metadata": {
    "tags": []
   },
   "outputs": [
    {
     "data": {
      "text/plain": [
       "2×2 Matrix{Float64}:\n",
       " 0.728714   0.0\n",
       " 0.0       -0.228714"
      ]
     },
     "execution_count": 263,
     "metadata": {},
     "output_type": "execute_result"
    }
   ],
   "source": [
    "inverse_E_minus_A_Diag(A_44_1a)"
   ]
  },
  {
   "cell_type": "markdown",
   "id": "126e2731-bf2c-44cc-bd8f-d4eb1319daec",
   "metadata": {},
   "source": [
    "Так как один из элементов на диагонали отрицательный, то матрицы не продуктивная"
   ]
  },
  {
   "cell_type": "code",
   "execution_count": 271,
   "id": "6db5ed9c-e44f-44cc-9ba6-c45b375d0557",
   "metadata": {
    "tags": []
   },
   "outputs": [
    {
     "data": {
      "text/plain": [
       "2-element Vector{Float64}:\n",
       "  1.457427107756338\n",
       " -0.4574271077563381"
      ]
     },
     "execution_count": 271,
     "metadata": {},
     "output_type": "execute_result"
    }
   ],
   "source": [
    "# Проверка\n",
    "SLAE_44(A_44_1a, b_44_1a)"
   ]
  },
  {
   "cell_type": "markdown",
   "id": "f6e882b2-7d15-4913-babb-82c6be0c9242",
   "metadata": {},
   "source": [
    "b) $\\frac{1}{2}\\begin{pmatrix}\n",
    "1 & 2 \\\\\n",
    "3 & 4\n",
    "\\end{pmatrix}$"
   ]
  },
  {
   "cell_type": "code",
   "execution_count": 266,
   "id": "e0c60ded-1f29-41ec-9696-7f248f5a3a66",
   "metadata": {
    "tags": []
   },
   "outputs": [
    {
     "data": {
      "text/plain": [
       "2×2 Matrix{Float64}:\n",
       " 0.5  1.0\n",
       " 1.5  2.0"
      ]
     },
     "execution_count": 266,
     "metadata": {},
     "output_type": "execute_result"
    }
   ],
   "source": [
    "A_44_1b = 1/2*[1 2; 3 4]"
   ]
  },
  {
   "cell_type": "code",
   "execution_count": 267,
   "id": "85465db4-0bf3-4827-9592-5aa5ee257ac1",
   "metadata": {
    "tags": []
   },
   "outputs": [
    {
     "data": {
      "text/plain": [
       "2-element Vector{Int64}:\n",
       " 2\n",
       " 2"
      ]
     },
     "execution_count": 267,
     "metadata": {},
     "output_type": "execute_result"
    }
   ],
   "source": [
    "b_44_1b = b_44_1a"
   ]
  },
  {
   "cell_type": "code",
   "execution_count": 268,
   "id": "e66eafef-5695-4f43-9ee9-14cc5f6407b9",
   "metadata": {
    "tags": []
   },
   "outputs": [
    {
     "data": {
      "text/plain": [
       "2×2 Matrix{Float64}:\n",
       " -0.186141  0.0\n",
       "  0.0       2.68614"
      ]
     },
     "execution_count": 268,
     "metadata": {},
     "output_type": "execute_result"
    }
   ],
   "source": [
    "Diagonalize(A_44_1b)"
   ]
  },
  {
   "cell_type": "code",
   "execution_count": 269,
   "id": "870706bf-8d62-4ddf-a2c7-3941d7c6a6a4",
   "metadata": {
    "tags": []
   },
   "outputs": [
    {
     "data": {
      "text/plain": [
       "2×2 Matrix{Float64}:\n",
       " 0.84307   0.0\n",
       " 0.0      -0.59307"
      ]
     },
     "execution_count": 269,
     "metadata": {},
     "output_type": "execute_result"
    }
   ],
   "source": [
    "inverse_E_minus_A_Diag(A_44_1b)"
   ]
  },
  {
   "cell_type": "markdown",
   "id": "2dbb01f8-9e5c-44e1-8c95-a7d86e7d2b8e",
   "metadata": {},
   "source": [
    "Так как один из элементов на диагонали отрицательный, то матрицы не продуктивная"
   ]
  },
  {
   "cell_type": "code",
   "execution_count": 270,
   "id": "3eba0048-5049-4cf5-9a89-f0060932557e",
   "metadata": {
    "tags": []
   },
   "outputs": [
    {
     "data": {
      "text/plain": [
       "2-element Vector{Float64}:\n",
       "  1.6861406616345072\n",
       " -1.1861406616345072"
      ]
     },
     "execution_count": 270,
     "metadata": {},
     "output_type": "execute_result"
    }
   ],
   "source": [
    "# Проверка\n",
    "SLAE_44(A_44_1b, b_44_1b)"
   ]
  },
  {
   "cell_type": "markdown",
   "id": "9b9ab827-2965-426c-afbc-1e37e06ab969",
   "metadata": {},
   "source": [
    "c) $\\frac{1}{10}\\begin{pmatrix}\n",
    "1 & 2 \\\\\n",
    "3 & 4\n",
    "\\end{pmatrix}$"
   ]
  },
  {
   "cell_type": "code",
   "execution_count": 272,
   "id": "2079e6cc-7968-4be4-9948-850e2c4912a5",
   "metadata": {},
   "outputs": [
    {
     "data": {
      "text/plain": [
       "2×2 Matrix{Float64}:\n",
       " 0.1  0.2\n",
       " 0.3  0.4"
      ]
     },
     "execution_count": 272,
     "metadata": {},
     "output_type": "execute_result"
    }
   ],
   "source": [
    "A_44_1c = 1/10*[1 2; 3 4]"
   ]
  },
  {
   "cell_type": "code",
   "execution_count": 274,
   "id": "4bf83734-da7f-4b96-a194-0c59880f2e81",
   "metadata": {
    "tags": []
   },
   "outputs": [
    {
     "data": {
      "text/plain": [
       "2-element Vector{Int64}:\n",
       " 2\n",
       " 2"
      ]
     },
     "execution_count": 274,
     "metadata": {},
     "output_type": "execute_result"
    }
   ],
   "source": [
    "b_44_1c = b_44_1a"
   ]
  },
  {
   "cell_type": "code",
   "execution_count": 275,
   "id": "a9479fe4-f173-4641-9093-ef496dfd1126",
   "metadata": {
    "tags": []
   },
   "outputs": [
    {
     "data": {
      "text/plain": [
       "2×2 Matrix{Float64}:\n",
       " -0.0372281  0.0\n",
       "  0.0        0.537228"
      ]
     },
     "execution_count": 275,
     "metadata": {},
     "output_type": "execute_result"
    }
   ],
   "source": [
    "Diagonalize(A_44_1c)"
   ]
  },
  {
   "cell_type": "code",
   "execution_count": 276,
   "id": "84952bd5-dd4c-486d-8b61-2f4550e56d85",
   "metadata": {
    "tags": []
   },
   "outputs": [
    {
     "data": {
      "text/plain": [
       "2×2 Matrix{Float64}:\n",
       " 0.964108  0.0\n",
       " 0.0       2.16089"
      ]
     },
     "execution_count": 276,
     "metadata": {},
     "output_type": "execute_result"
    }
   ],
   "source": [
    "inverse_E_minus_A_Diag(A_44_1c)"
   ]
  },
  {
   "cell_type": "markdown",
   "id": "7d7c2ef4-11a5-4bae-81eb-e1d349d5308f",
   "metadata": {},
   "source": [
    "Так как все элементы на диагонали неотрицательны, то матрица продуктивная"
   ]
  },
  {
   "cell_type": "code",
   "execution_count": 277,
   "id": "49a27e9a-2070-4180-96d9-7c367aaf18cb",
   "metadata": {
    "tags": []
   },
   "outputs": [
    {
     "data": {
      "text/plain": [
       "2-element Vector{Float64}:\n",
       " 1.9282161153045774\n",
       " 4.321783884695423"
      ]
     },
     "execution_count": 277,
     "metadata": {},
     "output_type": "execute_result"
    }
   ],
   "source": [
    "# Проверка\n",
    "SLAE_44(A_44_1c, b_44_1c)"
   ]
  },
  {
   "cell_type": "markdown",
   "id": "ceb6df4f-4eaa-47f6-b1c3-a83e7c6d715f",
   "metadata": {},
   "source": [
    "2. Критерий продуктивности: матрица 𝐴 является продуктивной тогда и только тогда, когда все элементы матрицы\n",
    "$$(𝐸 − 𝐴)^{-1}$$\n",
    "являются неотрицательными числами. Используя этот критерий, проверьте, являются ли матрицы продуктивными."
   ]
  },
  {
   "cell_type": "code",
   "execution_count": 299,
   "id": "f6ba7b9b-1e05-4204-ae91-f104c5defefc",
   "metadata": {
    "tags": []
   },
   "outputs": [
    {
     "data": {
      "text/plain": [
       "Productivity_Criteria (generic function with 1 method)"
      ]
     },
     "execution_count": 299,
     "metadata": {},
     "output_type": "execute_result"
    }
   ],
   "source": [
    "Inverse_E_minus_A(A) = inv(Matrix{Int}(I, size(A)[1], size(A)[2]) - A)\n",
    "\n",
    "function Productivity_Criteria(A)\n",
    "    inverse_E_minus_A = Inverse_E_minus_A(A)\n",
    "    n = 0\n",
    "    for i ∈ 1:length(A)\n",
    "        if inverse_E_minus_A[i] >= 0\n",
    "            n += 1\n",
    "        end\n",
    "    end\n",
    "    if n == length(A)\n",
    "        return true\n",
    "    else\n",
    "        return false\n",
    "    end\n",
    "end"
   ]
  },
  {
   "cell_type": "markdown",
   "id": "0c671d21-6056-46d6-9acd-1bec75571958",
   "metadata": {},
   "source": [
    "a) $\\begin{pmatrix}\n",
    "1 & 2 \\\\\n",
    "3 & 1\n",
    "\\end{pmatrix}$"
   ]
  },
  {
   "cell_type": "code",
   "execution_count": 300,
   "id": "651e2564-42ad-4495-a318-6be359f131f8",
   "metadata": {},
   "outputs": [
    {
     "data": {
      "text/plain": [
       "2×2 Matrix{Int64}:\n",
       " 1  2\n",
       " 3  1"
      ]
     },
     "execution_count": 300,
     "metadata": {},
     "output_type": "execute_result"
    }
   ],
   "source": [
    "A_44_2a = [1 2; 3 1]"
   ]
  },
  {
   "cell_type": "code",
   "execution_count": 303,
   "id": "dcf9db09-05bd-47b4-8c4a-9ffb323d96f7",
   "metadata": {
    "tags": []
   },
   "outputs": [
    {
     "data": {
      "text/plain": [
       "2×2 Matrix{Float64}:\n",
       " -0.0  -0.333333\n",
       " -0.5   0.0"
      ]
     },
     "execution_count": 303,
     "metadata": {},
     "output_type": "execute_result"
    }
   ],
   "source": [
    "Inverse_E_minus_A(A_44_2a)"
   ]
  },
  {
   "cell_type": "code",
   "execution_count": 304,
   "id": "b5b7cc7a-60d9-4370-937a-e7d0959a3959",
   "metadata": {
    "tags": []
   },
   "outputs": [
    {
     "data": {
      "text/plain": [
       "false"
      ]
     },
     "execution_count": 304,
     "metadata": {},
     "output_type": "execute_result"
    }
   ],
   "source": [
    "Productivity_Criteria(A_44_2a)"
   ]
  },
  {
   "cell_type": "markdown",
   "id": "af835b2a-a032-4f7a-9605-64dc44d5e91e",
   "metadata": {},
   "source": [
    "Матрица не продуктивна"
   ]
  },
  {
   "cell_type": "markdown",
   "id": "5b0782df-f40b-4519-8d51-ae965bdae9df",
   "metadata": {},
   "source": [
    "b) $\\frac{1}{2}\\begin{pmatrix}\n",
    "1 & 2 \\\\\n",
    "3 & 1\n",
    "\\end{pmatrix}$"
   ]
  },
  {
   "cell_type": "code",
   "execution_count": 305,
   "id": "70ec563b-a33c-4936-a7eb-a1e728c9e739",
   "metadata": {},
   "outputs": [
    {
     "data": {
      "text/plain": [
       "2×2 Matrix{Float64}:\n",
       " 0.5  1.0\n",
       " 1.5  0.5"
      ]
     },
     "execution_count": 305,
     "metadata": {},
     "output_type": "execute_result"
    }
   ],
   "source": [
    "A_44_2b = 1/2*[1 2; 3 1]"
   ]
  },
  {
   "cell_type": "code",
   "execution_count": 306,
   "id": "64c86eed-07f9-444f-ab3c-fb6e57696e90",
   "metadata": {
    "tags": []
   },
   "outputs": [
    {
     "data": {
      "text/plain": [
       "2×2 Matrix{Float64}:\n",
       " -0.4  -0.8\n",
       " -1.2  -0.4"
      ]
     },
     "execution_count": 306,
     "metadata": {},
     "output_type": "execute_result"
    }
   ],
   "source": [
    "Inverse_E_minus_A(A_44_2b)"
   ]
  },
  {
   "cell_type": "code",
   "execution_count": 307,
   "id": "70c31f37-4f5b-4141-8a73-1c8726a20314",
   "metadata": {
    "tags": []
   },
   "outputs": [
    {
     "data": {
      "text/plain": [
       "false"
      ]
     },
     "execution_count": 307,
     "metadata": {},
     "output_type": "execute_result"
    }
   ],
   "source": [
    "Productivity_Criteria(A_44_2b)"
   ]
  },
  {
   "cell_type": "markdown",
   "id": "1164a3cb-6c5d-40dd-9bd2-d66e921490c0",
   "metadata": {},
   "source": [
    "Матрица не продуктивна"
   ]
  },
  {
   "cell_type": "markdown",
   "id": "9bc19541-f7b4-46b7-9257-4af802ea291d",
   "metadata": {},
   "source": [
    "c) $\\frac{1}{10}\\begin{pmatrix}\n",
    "1 & 2 \\\\\n",
    "3 & 1\n",
    "\\end{pmatrix}$"
   ]
  },
  {
   "cell_type": "code",
   "execution_count": 308,
   "id": "8149d00b-ef69-40a7-babd-314feddc8095",
   "metadata": {},
   "outputs": [
    {
     "data": {
      "text/plain": [
       "2×2 Matrix{Float64}:\n",
       " 0.1  0.2\n",
       " 0.3  0.1"
      ]
     },
     "execution_count": 308,
     "metadata": {},
     "output_type": "execute_result"
    }
   ],
   "source": [
    "A_44_2c = 1/10*[1 2; 3 1]"
   ]
  },
  {
   "cell_type": "code",
   "execution_count": 309,
   "id": "f99e2ff6-f072-4228-9c95-953316ac00ee",
   "metadata": {
    "tags": []
   },
   "outputs": [
    {
     "data": {
      "text/plain": [
       "2×2 Matrix{Float64}:\n",
       " 1.2  0.266667\n",
       " 0.4  1.2"
      ]
     },
     "execution_count": 309,
     "metadata": {},
     "output_type": "execute_result"
    }
   ],
   "source": [
    "Inverse_E_minus_A(A_44_2c)"
   ]
  },
  {
   "cell_type": "code",
   "execution_count": 310,
   "id": "a7766aac-e6dd-43c3-a017-57f9f5698051",
   "metadata": {
    "tags": []
   },
   "outputs": [
    {
     "data": {
      "text/plain": [
       "true"
      ]
     },
     "execution_count": 310,
     "metadata": {},
     "output_type": "execute_result"
    }
   ],
   "source": [
    "Productivity_Criteria(A_44_2c)"
   ]
  },
  {
   "cell_type": "markdown",
   "id": "23c6511c-2c6e-46db-96ff-5c9116cb976c",
   "metadata": {},
   "source": [
    "Матрица продуктивна"
   ]
  },
  {
   "cell_type": "markdown",
   "id": "97b2b0c4-255f-4116-b42e-9681c76ce1f6",
   "metadata": {},
   "source": [
    "3. Спектральный критерий продуктивности: матрица 𝐴 является продуктивной тогда и только тогда, когда все её собственные значения по модулю меньше 1. Используя этот критерий, проверьте, являются ли матрицы продуктивными."
   ]
  },
  {
   "cell_type": "code",
   "execution_count": 324,
   "id": "4c10bc84-5af8-414b-b47a-d087f9e1b10e",
   "metadata": {
    "tags": []
   },
   "outputs": [
    {
     "data": {
      "text/plain": [
       "Spectral_Productivity_Criteria (generic function with 1 method)"
      ]
     },
     "execution_count": 324,
     "metadata": {},
     "output_type": "execute_result"
    }
   ],
   "source": [
    "function Spectral_Productivity_Criteria(A)\n",
    "    Eig_val = abs.(eigvals(A))\n",
    "    n = 0 \n",
    "    for i ∈ 1:size(A)[1]\n",
    "        if Eig_val[i] < 1\n",
    "            n += 1\n",
    "        end\n",
    "    end\n",
    "    if n == size(A)[1]\n",
    "        return true\n",
    "    else\n",
    "        return false\n",
    "    end\n",
    "end"
   ]
  },
  {
   "cell_type": "markdown",
   "id": "17b60dd5-9c17-4c24-89c4-7c967f17c5a4",
   "metadata": {},
   "source": [
    "a) $\\begin{pmatrix}\n",
    "1 & 2 \\\\\n",
    "3 & 1\n",
    "\\end{pmatrix}$"
   ]
  },
  {
   "cell_type": "code",
   "execution_count": 325,
   "id": "ab7058d0-8abc-45fa-a292-bb894aa9cead",
   "metadata": {},
   "outputs": [
    {
     "data": {
      "text/plain": [
       "2×2 Matrix{Int64}:\n",
       " 1  2\n",
       " 3  1"
      ]
     },
     "execution_count": 325,
     "metadata": {},
     "output_type": "execute_result"
    }
   ],
   "source": [
    "A_44_3a = [1 2; 3 1]"
   ]
  },
  {
   "cell_type": "code",
   "execution_count": 326,
   "id": "13de9649-d7b8-4888-92e6-a897e8fd734d",
   "metadata": {
    "tags": []
   },
   "outputs": [
    {
     "data": {
      "text/plain": [
       "2-element Vector{Float64}:\n",
       " -1.4494897427831779\n",
       "  3.4494897427831783"
      ]
     },
     "execution_count": 326,
     "metadata": {},
     "output_type": "execute_result"
    }
   ],
   "source": [
    "A_44_3a_Eigvals = eigvals(A_44_3a)"
   ]
  },
  {
   "cell_type": "code",
   "execution_count": 327,
   "id": "38d5c212-623c-4ad5-9cc5-03bc4b123f67",
   "metadata": {
    "tags": []
   },
   "outputs": [
    {
     "data": {
      "text/plain": [
       "false"
      ]
     },
     "execution_count": 327,
     "metadata": {},
     "output_type": "execute_result"
    }
   ],
   "source": [
    "Spectral_Productivity_Criteria(A_44_3a)"
   ]
  },
  {
   "cell_type": "markdown",
   "id": "d11b8bdc-0b02-463b-b09a-254b4c2194d9",
   "metadata": {},
   "source": [
    "Матрица не продуктивна"
   ]
  },
  {
   "cell_type": "markdown",
   "id": "e8a261c0-bf9f-4474-853d-a3aa52bbe429",
   "metadata": {},
   "source": [
    "b) $\\frac{1}{2}\\begin{pmatrix}\n",
    "1 & 2 \\\\\n",
    "3 & 1\n",
    "\\end{pmatrix}$"
   ]
  },
  {
   "cell_type": "code",
   "execution_count": 328,
   "id": "e2391556-e388-4035-8cd8-c9debb7a0d45",
   "metadata": {},
   "outputs": [
    {
     "data": {
      "text/plain": [
       "2×2 Matrix{Float64}:\n",
       " 0.5  1.0\n",
       " 1.5  0.5"
      ]
     },
     "execution_count": 328,
     "metadata": {},
     "output_type": "execute_result"
    }
   ],
   "source": [
    "A_44_3b = 1/2*[1 2; 3 1]"
   ]
  },
  {
   "cell_type": "code",
   "execution_count": 329,
   "id": "71810c28-d8b4-49c2-9bd3-9683eeb8add3",
   "metadata": {
    "tags": []
   },
   "outputs": [
    {
     "data": {
      "text/plain": [
       "2-element Vector{Float64}:\n",
       " -0.7247448713915892\n",
       "  1.724744871391589"
      ]
     },
     "execution_count": 329,
     "metadata": {},
     "output_type": "execute_result"
    }
   ],
   "source": [
    "A_44_3b_Eigvals = eigvals(A_44_3b)"
   ]
  },
  {
   "cell_type": "code",
   "execution_count": 330,
   "id": "fef922c0-1999-46d0-a687-1aa78fe447fe",
   "metadata": {
    "tags": []
   },
   "outputs": [
    {
     "data": {
      "text/plain": [
       "false"
      ]
     },
     "execution_count": 330,
     "metadata": {},
     "output_type": "execute_result"
    }
   ],
   "source": [
    "Spectral_Productivity_Criteria(A_44_3b)"
   ]
  },
  {
   "cell_type": "markdown",
   "id": "9fee220d-658b-4ecd-b70f-00e6c5d10b07",
   "metadata": {},
   "source": [
    "Матрица не продуктивна"
   ]
  },
  {
   "cell_type": "markdown",
   "id": "c45e839b-1380-4e1b-a22f-7d90f55fd7b4",
   "metadata": {},
   "source": [
    "c) $\\frac{1}{10}\\begin{pmatrix}\n",
    "1 & 2 \\\\\n",
    "3 & 1\n",
    "\\end{pmatrix}$"
   ]
  },
  {
   "cell_type": "code",
   "execution_count": 331,
   "id": "87d8cd93-1805-4e0f-8bc5-8ee002b8982d",
   "metadata": {},
   "outputs": [
    {
     "data": {
      "text/plain": [
       "2×2 Matrix{Float64}:\n",
       " 0.1  0.2\n",
       " 0.3  0.1"
      ]
     },
     "execution_count": 331,
     "metadata": {},
     "output_type": "execute_result"
    }
   ],
   "source": [
    "A_44_3c = 1/10*[1 2; 3 1]"
   ]
  },
  {
   "cell_type": "code",
   "execution_count": 332,
   "id": "902ee431-f3fd-4ad8-84cd-7b90c689f552",
   "metadata": {
    "tags": []
   },
   "outputs": [
    {
     "data": {
      "text/plain": [
       "2-element Vector{Float64}:\n",
       " -0.14494897427831785\n",
       "  0.34494897427831783"
      ]
     },
     "execution_count": 332,
     "metadata": {},
     "output_type": "execute_result"
    }
   ],
   "source": [
    "A_44_3c_Eigvals = eigvals(A_44_3c)"
   ]
  },
  {
   "cell_type": "code",
   "execution_count": 333,
   "id": "9a8098fc-afce-4af0-b774-920205b95569",
   "metadata": {
    "tags": []
   },
   "outputs": [
    {
     "data": {
      "text/plain": [
       "true"
      ]
     },
     "execution_count": 333,
     "metadata": {},
     "output_type": "execute_result"
    }
   ],
   "source": [
    "Spectral_Productivity_Criteria(A_44_3c)"
   ]
  },
  {
   "cell_type": "markdown",
   "id": "56ca9d4b-a94a-412f-99e1-68b2e3f2f924",
   "metadata": {},
   "source": [
    "Матрица продуктивна"
   ]
  },
  {
   "cell_type": "markdown",
   "id": "6323d715-5aab-4865-836c-8b87d7a2bbd6",
   "metadata": {},
   "source": [
    "d) $\\begin{pmatrix}\n",
    "0.1 & 0.2 & 0.3 \\\\\n",
    "0 & 0.1 & 0.2 \\\\\n",
    "0 & 0.1 & 0.3 \n",
    "\\end{pmatrix}$"
   ]
  },
  {
   "cell_type": "code",
   "execution_count": 334,
   "id": "ec906b89-aacd-4173-848d-569c9b998def",
   "metadata": {},
   "outputs": [
    {
     "data": {
      "text/plain": [
       "3×3 Matrix{Float64}:\n",
       " 0.1  0.2  0.3\n",
       " 0.0  0.1  0.2\n",
       " 0.0  0.1  0.3"
      ]
     },
     "execution_count": 334,
     "metadata": {},
     "output_type": "execute_result"
    }
   ],
   "source": [
    "A_44_3d = [0.1 0.2 0.3; 0 0.1 0.2; 0 0.1 0.3]"
   ]
  },
  {
   "cell_type": "code",
   "execution_count": 335,
   "id": "85f75602-23c8-4832-8e9a-a67d13f6c849",
   "metadata": {
    "tags": []
   },
   "outputs": [
    {
     "data": {
      "text/plain": [
       "3-element Vector{Float64}:\n",
       " 0.02679491924311228\n",
       " 0.1\n",
       " 0.37320508075688774"
      ]
     },
     "execution_count": 335,
     "metadata": {},
     "output_type": "execute_result"
    }
   ],
   "source": [
    "A_44_3d_Eigvals = eigvals(A_44_3d)"
   ]
  },
  {
   "cell_type": "code",
   "execution_count": 336,
   "id": "4e7dc87b-fc12-4ee7-93c0-856f7c1685b5",
   "metadata": {
    "tags": []
   },
   "outputs": [
    {
     "data": {
      "text/plain": [
       "true"
      ]
     },
     "execution_count": 336,
     "metadata": {},
     "output_type": "execute_result"
    }
   ],
   "source": [
    "Spectral_Productivity_Criteria(A_44_3d)"
   ]
  }
 ],
 "metadata": {
  "kernelspec": {
   "display_name": "Julia 1.8.5",
   "language": "julia",
   "name": "julia-1.8"
  },
  "language_info": {
   "file_extension": ".jl",
   "mimetype": "application/julia",
   "name": "julia",
   "version": "1.8.5"
  }
 },
 "nbformat": 4,
 "nbformat_minor": 5
}
