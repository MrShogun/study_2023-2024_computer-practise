{
 "cells": [
  {
   "cell_type": "markdown",
   "id": "de4e3122-edfc-4deb-a23d-eac631f78d86",
   "metadata": {},
   "source": [
    "# Лабораторная работа № 2. Структуры данных"
   ]
  },
  {
   "cell_type": "markdown",
   "id": "c7aeb2d3-5653-4baf-b32a-d7414887982e",
   "metadata": {},
   "source": [
    "## Раздел 2.2. Повтор заданий."
   ]
  },
  {
   "cell_type": "markdown",
   "id": "61e5e0c1-e654-4362-a228-c4f9c664e7c8",
   "metadata": {},
   "source": [
    "### Кортежи"
   ]
  },
  {
   "cell_type": "code",
   "execution_count": 1,
   "id": "a377d514-fc6b-4fc1-9c91-dc1e6ba1b78e",
   "metadata": {
    "tags": []
   },
   "outputs": [
    {
     "data": {
      "text/plain": [
       "()"
      ]
     },
     "execution_count": 1,
     "metadata": {},
     "output_type": "execute_result"
    }
   ],
   "source": [
    "# пустой кортеж:\n",
    "()"
   ]
  },
  {
   "cell_type": "code",
   "execution_count": 2,
   "id": "35c45954-b709-45d7-a415-41a7c5fbb73f",
   "metadata": {
    "tags": []
   },
   "outputs": [
    {
     "data": {
      "text/plain": [
       "(\"Python\", \"Julia\", \"R\")"
      ]
     },
     "execution_count": 2,
     "metadata": {},
     "output_type": "execute_result"
    }
   ],
   "source": [
    "# кортеж из элементов типа String:\n",
    "favoritelang = (\"Python\",\"Julia\",\"R\")"
   ]
  },
  {
   "cell_type": "code",
   "execution_count": 3,
   "id": "25829874-aa06-4571-bd44-720361352abd",
   "metadata": {
    "tags": []
   },
   "outputs": [
    {
     "data": {
      "text/plain": [
       "(1, 2, 3)"
      ]
     },
     "execution_count": 3,
     "metadata": {},
     "output_type": "execute_result"
    }
   ],
   "source": [
    "# кортеж из целых чисел:\n",
    "x1 = (1, 2, 3)"
   ]
  },
  {
   "cell_type": "code",
   "execution_count": 7,
   "id": "4186d0dd-c7b6-418d-aaca-498e218ada55",
   "metadata": {
    "tags": []
   },
   "outputs": [
    {
     "data": {
      "text/plain": [
       "(1, 2.0, \"tmp\")"
      ]
     },
     "execution_count": 7,
     "metadata": {},
     "output_type": "execute_result"
    }
   ],
   "source": [
    "# кортеж из элементов разных типов:\n",
    "x2 = (1, 2.0, \"tmp\")\n",
    "#typeof(x2);"
   ]
  },
  {
   "cell_type": "code",
   "execution_count": 8,
   "id": "77c2e3f6-059d-47b7-bde6-064b7e39d12d",
   "metadata": {
    "tags": []
   },
   "outputs": [
    {
     "data": {
      "text/plain": [
       "(a = 2, b = 3)"
      ]
     },
     "execution_count": 8,
     "metadata": {},
     "output_type": "execute_result"
    }
   ],
   "source": [
    "# именованный кортеж:\n",
    "x3 = (a=2, b=1+2)"
   ]
  },
  {
   "cell_type": "markdown",
   "id": "ed434ce7-54bb-46f8-bf66-6a0fcf728c57",
   "metadata": {},
   "source": [
    "Примеры операций над кортежами:"
   ]
  },
  {
   "cell_type": "code",
   "execution_count": 9,
   "id": "896b8896-c826-41a3-a591-b85d51311f50",
   "metadata": {
    "tags": []
   },
   "outputs": [
    {
     "data": {
      "text/plain": [
       "3"
      ]
     },
     "execution_count": 9,
     "metadata": {},
     "output_type": "execute_result"
    }
   ],
   "source": [
    "# длина кортежа x2:\n",
    "length(x2)"
   ]
  },
  {
   "cell_type": "code",
   "execution_count": 10,
   "id": "94af6a13-b70b-43ac-8877-5356d3a49e8b",
   "metadata": {
    "tags": []
   },
   "outputs": [
    {
     "data": {
      "text/plain": [
       "(1, 2.0, \"tmp\")"
      ]
     },
     "execution_count": 10,
     "metadata": {},
     "output_type": "execute_result"
    }
   ],
   "source": [
    "# обратиться к элементам кортежа x2:\n",
    "x2[1], x2[2], x2[3]"
   ]
  },
  {
   "cell_type": "code",
   "execution_count": 11,
   "id": "dfd9706b-d527-4941-a0bc-ab5b45981260",
   "metadata": {
    "tags": []
   },
   "outputs": [
    {
     "data": {
      "text/plain": [
       "5"
      ]
     },
     "execution_count": 11,
     "metadata": {},
     "output_type": "execute_result"
    }
   ],
   "source": [
    "# произвести какую-либо операцию (сложение)\n",
    "# с вторым и третьим элементами кортежа x1:\n",
    "с = x1[2] + x1[3]"
   ]
  },
  {
   "cell_type": "code",
   "execution_count": 12,
   "id": "5e5443db-7f79-4993-bbb2-0a0464f42b1e",
   "metadata": {
    "tags": []
   },
   "outputs": [
    {
     "data": {
      "text/plain": [
       "(2, 3, 3)"
      ]
     },
     "execution_count": 12,
     "metadata": {},
     "output_type": "execute_result"
    }
   ],
   "source": [
    "# обращение к элементам именованного кортежа x3:\n",
    "x3.a, x3.b, x3[2]"
   ]
  },
  {
   "cell_type": "code",
   "execution_count": 14,
   "id": "be997c08-4a07-4a97-bbb4-a4e44bbf766c",
   "metadata": {
    "tags": []
   },
   "outputs": [
    {
     "data": {
      "text/plain": [
       "(true, false)"
      ]
     },
     "execution_count": 14,
     "metadata": {},
     "output_type": "execute_result"
    }
   ],
   "source": [
    "# проверка вхождения элементов tmp и 0 в кортеж x2\n",
    "# (два способа обращения к методу in()):\n",
    "in(\"tmp\", x2), 0 ∈ x2"
   ]
  },
  {
   "cell_type": "markdown",
   "id": "3bb98c4a-9a36-4ecf-b427-75e87020b600",
   "metadata": {},
   "source": [
    "### Словари"
   ]
  },
  {
   "cell_type": "markdown",
   "id": "18ca5a0e-ae42-41b3-adec-1198e4a0eff4",
   "metadata": {},
   "source": [
    "Примеры словарей и операций над ними:"
   ]
  },
  {
   "cell_type": "code",
   "execution_count": 15,
   "id": "a45dd17a-265c-44b6-b0dc-d1266b6fd8c5",
   "metadata": {
    "tags": []
   },
   "outputs": [
    {
     "data": {
      "text/plain": [
       "Dict{String, Any} with 2 entries:\n",
       "  \"Бухгалтерия\" => \"555-2368\"\n",
       "  \"Иванов И.И.\" => (\"867-5309\", \"333-5544\")"
      ]
     },
     "execution_count": 15,
     "metadata": {},
     "output_type": "execute_result"
    }
   ],
   "source": [
    "# создать словарь с именем phonebook:\n",
    "phonebook = Dict(\"Иванов И.И.\" => (\"867-5309\",\"333-5544\"), \"Бухгалтерия\" => \"555-2368\")"
   ]
  },
  {
   "cell_type": "code",
   "execution_count": 16,
   "id": "09000628-1f5b-41f5-8cd1-02799db8ad89",
   "metadata": {
    "tags": []
   },
   "outputs": [
    {
     "data": {
      "text/plain": [
       "KeySet for a Dict{String, Any} with 2 entries. Keys:\n",
       "  \"Бухгалтерия\"\n",
       "  \"Иванов И.И.\""
      ]
     },
     "execution_count": 16,
     "metadata": {},
     "output_type": "execute_result"
    }
   ],
   "source": [
    "# вывести ключи словаря:\n",
    "keys(phonebook)"
   ]
  },
  {
   "cell_type": "code",
   "execution_count": 17,
   "id": "559bc088-8136-4eee-bbbe-383c1b627790",
   "metadata": {
    "tags": []
   },
   "outputs": [
    {
     "data": {
      "text/plain": [
       "ValueIterator for a Dict{String, Any} with 2 entries. Values:\n",
       "  \"555-2368\"\n",
       "  (\"867-5309\", \"333-5544\")"
      ]
     },
     "execution_count": 17,
     "metadata": {},
     "output_type": "execute_result"
    }
   ],
   "source": [
    "# вывести значения элементов словаря:\n",
    "values(phonebook)"
   ]
  },
  {
   "cell_type": "code",
   "execution_count": 18,
   "id": "62ffc3e5-cf69-477f-b1a9-dbd9f9052729",
   "metadata": {
    "tags": []
   },
   "outputs": [
    {
     "data": {
      "text/plain": [
       "Dict{String, Any} with 2 entries:\n",
       "  \"Бухгалтерия\" => \"555-2368\"\n",
       "  \"Иванов И.И.\" => (\"867-5309\", \"333-5544\")"
      ]
     },
     "execution_count": 18,
     "metadata": {},
     "output_type": "execute_result"
    }
   ],
   "source": [
    "# вывести заданные в словаре пары \"ключ - значение\":\n",
    "pairs(phonebook)"
   ]
  },
  {
   "cell_type": "code",
   "execution_count": 21,
   "id": "5ce2a926-9e01-4dae-93fa-9d0dffc839ee",
   "metadata": {
    "tags": []
   },
   "outputs": [
    {
     "data": {
      "text/plain": [
       "(true, false)"
      ]
     },
     "execution_count": 21,
     "metadata": {},
     "output_type": "execute_result"
    }
   ],
   "source": [
    "# проверка вхождения ключа в словарь:\n",
    "haskey(phonebook, \"Иванов И.И.\"), haskey(phonebook, \"Иванов И.Д.\")"
   ]
  },
  {
   "cell_type": "code",
   "execution_count": 23,
   "id": "e618115c-c061-4789-a81c-802685f7c0c4",
   "metadata": {
    "tags": []
   },
   "outputs": [
    {
     "data": {
      "text/plain": [
       "\"555-3344\""
      ]
     },
     "execution_count": 23,
     "metadata": {},
     "output_type": "execute_result"
    }
   ],
   "source": [
    "# добавить элемент в словарь:\n",
    "phonebook[\"Сидоров П.С.\"] = \"555-3344\""
   ]
  },
  {
   "cell_type": "code",
   "execution_count": 25,
   "id": "3a66c83d-bece-4483-9b3d-2503e2705a28",
   "metadata": {
    "tags": []
   },
   "outputs": [
    {
     "data": {
      "text/plain": [
       "(\"867-5309\", \"333-5544\")"
      ]
     },
     "execution_count": 25,
     "metadata": {},
     "output_type": "execute_result"
    }
   ],
   "source": [
    "# удалить ключ и связанные с ним значения из словаря\n",
    "pop!(phonebook, \"Иванов И.И.\")"
   ]
  },
  {
   "cell_type": "code",
   "execution_count": 26,
   "id": "b6044e2a-0286-44b3-ac5f-38d3d4c16b34",
   "metadata": {
    "tags": []
   },
   "outputs": [
    {
     "data": {
      "text/plain": [
       "(Dict{String, Real}(\"bar\" => 13.0, \"baz\" => 17, \"foo\" => 0.0), Dict{String, Real}(\"bar\" => 42.0, \"baz\" => 17, \"foo\" => 0.0))"
      ]
     },
     "execution_count": 26,
     "metadata": {},
     "output_type": "execute_result"
    }
   ],
   "source": [
    "# Объединение словарей (функция merge()):\n",
    "a = Dict(\"foo\" => 0.0, \"bar\" => 42.0);\n",
    "b = Dict(\"baz\" => 17, \"bar\" => 13.0);\n",
    "merge(a, b), merge(b,a)"
   ]
  },
  {
   "cell_type": "markdown",
   "id": "9593b8e2-b93f-4f2e-b252-92c3e8686c20",
   "metadata": {},
   "source": [
    "### Множества"
   ]
  },
  {
   "cell_type": "code",
   "execution_count": 27,
   "id": "3ba53f3c-166c-4a25-aff7-e36989207411",
   "metadata": {
    "tags": []
   },
   "outputs": [
    {
     "data": {
      "text/plain": [
       "Set{Int64} with 4 elements:\n",
       "  5\n",
       "  4\n",
       "  3\n",
       "  1"
      ]
     },
     "execution_count": 27,
     "metadata": {},
     "output_type": "execute_result"
    }
   ],
   "source": [
    "# создать множество из четырёх целочисленных значений:\n",
    "A = Set([1, 3, 4, 5])"
   ]
  },
  {
   "cell_type": "code",
   "execution_count": 28,
   "id": "e1e2e193-d9e0-4b4e-8a4a-a4ad7784f164",
   "metadata": {
    "tags": []
   },
   "outputs": [
    {
     "data": {
      "text/plain": [
       "Set{Char} with 5 elements:\n",
       "  'a'\n",
       "  'd'\n",
       "  'r'\n",
       "  'k'\n",
       "  'b'"
      ]
     },
     "execution_count": 28,
     "metadata": {},
     "output_type": "execute_result"
    }
   ],
   "source": [
    "# создать множество из 11 символьных значений:\n",
    "B = Set(\"abrakadabra\")"
   ]
  },
  {
   "cell_type": "code",
   "execution_count": 29,
   "id": "4070bb46-8d7a-40f0-a364-83b628285d81",
   "metadata": {
    "tags": []
   },
   "outputs": [
    {
     "data": {
      "text/plain": [
       "false"
      ]
     },
     "execution_count": 29,
     "metadata": {},
     "output_type": "execute_result"
    }
   ],
   "source": [
    "# проверка эквивалентности двух множеств:\n",
    "S1 = Set([1,2]);\n",
    "S2 = Set([3,4]);\n",
    "issetequal(S1,S2)"
   ]
  },
  {
   "cell_type": "code",
   "execution_count": 30,
   "id": "d2a220bb-5fbd-43fc-8a4a-1575e31fd8e8",
   "metadata": {
    "tags": []
   },
   "outputs": [
    {
     "data": {
      "text/plain": [
       "true"
      ]
     },
     "execution_count": 30,
     "metadata": {},
     "output_type": "execute_result"
    }
   ],
   "source": [
    "S3 = Set([1,2,2,3,1,2,3,2,1]);\n",
    "S4 = Set([2,3,1]);\n",
    "issetequal(S3,S4)"
   ]
  },
  {
   "cell_type": "code",
   "execution_count": 31,
   "id": "9477873a-68b2-4795-b6d0-fe6b0fa723cb",
   "metadata": {
    "tags": []
   },
   "outputs": [
    {
     "data": {
      "text/plain": [
       "Set{Int64} with 4 elements:\n",
       "  4\n",
       "  2\n",
       "  3\n",
       "  1"
      ]
     },
     "execution_count": 31,
     "metadata": {},
     "output_type": "execute_result"
    }
   ],
   "source": [
    "# объединение множеств:\n",
    "C=union(S1,S2)"
   ]
  },
  {
   "cell_type": "code",
   "execution_count": 32,
   "id": "5faafa80-2d75-48b3-bf14-6d8ddb171b5e",
   "metadata": {
    "tags": []
   },
   "outputs": [
    {
     "data": {
      "text/plain": [
       "Set{Int64} with 2 elements:\n",
       "  2\n",
       "  1"
      ]
     },
     "execution_count": 32,
     "metadata": {},
     "output_type": "execute_result"
    }
   ],
   "source": [
    "# пересечение множеств:\n",
    "D = intersect(S1,S3)"
   ]
  },
  {
   "cell_type": "code",
   "execution_count": 33,
   "id": "a10c5fbb-fb54-45a8-b1ae-8a3ba7e222a6",
   "metadata": {
    "tags": []
   },
   "outputs": [
    {
     "data": {
      "text/plain": [
       "Set{Int64} with 1 element:\n",
       "  3"
      ]
     },
     "execution_count": 33,
     "metadata": {},
     "output_type": "execute_result"
    }
   ],
   "source": [
    "# разность множеств:\n",
    "E = setdiff(S3,S1)"
   ]
  },
  {
   "cell_type": "code",
   "execution_count": 34,
   "id": "1904d19b-25f8-42e8-97b9-403b3324fde5",
   "metadata": {
    "tags": []
   },
   "outputs": [
    {
     "data": {
      "text/plain": [
       "true"
      ]
     },
     "execution_count": 34,
     "metadata": {},
     "output_type": "execute_result"
    }
   ],
   "source": [
    "# проверка вхождения элементов одного множества в другое:\n",
    "issubset(S1,S4)"
   ]
  },
  {
   "cell_type": "code",
   "execution_count": 35,
   "id": "b076f38d-0250-4112-b867-4b375a0ef78a",
   "metadata": {
    "tags": []
   },
   "outputs": [
    {
     "data": {
      "text/plain": [
       "Set{Int64} with 4 elements:\n",
       "  2\n",
       "  99\n",
       "  3\n",
       "  1"
      ]
     },
     "execution_count": 35,
     "metadata": {},
     "output_type": "execute_result"
    }
   ],
   "source": [
    "# добавление элемента в множество:\n",
    "push!(S4, 99)"
   ]
  },
  {
   "cell_type": "code",
   "execution_count": 36,
   "id": "97214779-ba02-46e1-a2cc-2a1d9247f262",
   "metadata": {
    "tags": []
   },
   "outputs": [
    {
     "data": {
      "text/plain": [
       "2"
      ]
     },
     "execution_count": 36,
     "metadata": {},
     "output_type": "execute_result"
    }
   ],
   "source": [
    "# удаление последнего элемента множества:\n",
    "pop!(S4)"
   ]
  },
  {
   "cell_type": "markdown",
   "id": "3f86a6de-1dd0-470a-8110-661fb6ca8e77",
   "metadata": {},
   "source": [
    "### Массивы"
   ]
  },
  {
   "cell_type": "code",
   "execution_count": 37,
   "id": "418380b9-762a-44c8-bbd5-fe0b589c7859",
   "metadata": {
    "tags": []
   },
   "outputs": [
    {
     "data": {
      "text/plain": [
       "Any[]"
      ]
     },
     "execution_count": 37,
     "metadata": {},
     "output_type": "execute_result"
    }
   ],
   "source": [
    "# создание пустого массива с абстрактным типом:\n",
    "empty_array_1 = []"
   ]
  },
  {
   "cell_type": "code",
   "execution_count": 40,
   "id": "ea6c023b-9413-43a2-af30-382bb3aea611",
   "metadata": {
    "tags": []
   },
   "outputs": [
    {
     "data": {
      "text/plain": [
       "Float64[]"
      ]
     },
     "execution_count": 40,
     "metadata": {},
     "output_type": "execute_result"
    }
   ],
   "source": [
    "# создание пустого массива с конкретным типом:\n",
    "empty_array_2 = (Int64)[]\n",
    "empty_array_3 = (Float64)[]"
   ]
  },
  {
   "cell_type": "code",
   "execution_count": 41,
   "id": "86f75ba3-9e9f-4bc2-b449-6f4125ae9763",
   "metadata": {
    "tags": []
   },
   "outputs": [
    {
     "data": {
      "text/plain": [
       "3-element Vector{Int64}:\n",
       " 1\n",
       " 2\n",
       " 3"
      ]
     },
     "execution_count": 41,
     "metadata": {},
     "output_type": "execute_result"
    }
   ],
   "source": [
    "# вектор-столбец:\n",
    "a = [1, 2, 3]"
   ]
  },
  {
   "cell_type": "code",
   "execution_count": 42,
   "id": "7e23f808-9970-4634-ba5a-fe98f24950fd",
   "metadata": {
    "tags": []
   },
   "outputs": [
    {
     "data": {
      "text/plain": [
       "1×3 Matrix{Int64}:\n",
       " 1  2  3"
      ]
     },
     "execution_count": 42,
     "metadata": {},
     "output_type": "execute_result"
    }
   ],
   "source": [
    "# вектор-строка:\n",
    "b = [1 2 3]"
   ]
  },
  {
   "cell_type": "code",
   "execution_count": 45,
   "id": "65efb06a-c7ff-4d35-b9d3-318f570fb040",
   "metadata": {
    "tags": []
   },
   "outputs": [
    {
     "data": {
      "text/plain": [
       "3×3 Matrix{Int64}:\n",
       " 1  4  7\n",
       " 2  5  8\n",
       " 3  6  9"
      ]
     },
     "execution_count": 45,
     "metadata": {},
     "output_type": "execute_result"
    }
   ],
   "source": [
    "# многомерные массивы (матрицы):\n",
    "A = [[1, 2, 3] [4, 5, 6] [7, 8, 9]]"
   ]
  },
  {
   "cell_type": "code",
   "execution_count": 46,
   "id": "238e7ce9-d486-442e-8a68-67ad26a047ce",
   "metadata": {
    "tags": []
   },
   "outputs": [
    {
     "data": {
      "text/plain": [
       "3×3 Matrix{Int64}:\n",
       " 1  2  3\n",
       " 4  5  6\n",
       " 7  8  9"
      ]
     },
     "execution_count": 46,
     "metadata": {},
     "output_type": "execute_result"
    }
   ],
   "source": [
    "B = [[1 2 3]; [4 5 6]; [7 8 9]]"
   ]
  },
  {
   "cell_type": "code",
   "execution_count": 50,
   "id": "45dbeefe-c119-449a-a709-e898ed5cf9b5",
   "metadata": {
    "tags": []
   },
   "outputs": [
    {
     "data": {
      "text/plain": [
       "1×8 Matrix{Float64}:\n",
       " 0.679921  0.340091  0.821479  0.729865  …  0.343236  0.891298  0.400566"
      ]
     },
     "execution_count": 50,
     "metadata": {},
     "output_type": "execute_result"
    }
   ],
   "source": [
    "# одномерный массив из 8 элементов (массив $1 \\times 8$)\n",
    "# со значениями, случайно распределёнными на интервале [0, 1):\n",
    "c = rand(1, 8)"
   ]
  },
  {
   "cell_type": "code",
   "execution_count": 52,
   "id": "7e93020a-25f3-4d55-84e6-f3830e95515a",
   "metadata": {
    "tags": []
   },
   "outputs": [
    {
     "data": {
      "text/plain": [
       "2×3 Matrix{Float64}:\n",
       " 0.26461    0.555366  0.0877469\n",
       " 0.0027883  0.635858  0.1202"
      ]
     },
     "execution_count": 52,
     "metadata": {},
     "output_type": "execute_result"
    }
   ],
   "source": [
    "# многомерный массив $2 \\times 3$ (2 строки, 3 столбца) элементов\n",
    "# со значениями, случайно распределёнными на интервале [0, 1):\n",
    "C = rand(2,3)"
   ]
  },
  {
   "cell_type": "code",
   "execution_count": 53,
   "id": "94891219-c394-4fa5-8242-267e870703b2",
   "metadata": {
    "tags": []
   },
   "outputs": [
    {
     "data": {
      "text/plain": [
       "4×3×2 Array{Float64, 3}:\n",
       "[:, :, 1] =\n",
       " 0.209757  0.148723  0.945074\n",
       " 0.371645  0.298075  0.576505\n",
       " 0.272831  0.610135  0.891197\n",
       " 0.911689  0.798986  0.378871\n",
       "\n",
       "[:, :, 2] =\n",
       " 0.874182  0.992663  0.486733\n",
       " 0.074272  0.106636  0.441866\n",
       " 0.615368  0.453661  0.41649\n",
       " 0.431464  0.24774   0.572056"
      ]
     },
     "execution_count": 53,
     "metadata": {},
     "output_type": "execute_result"
    }
   ],
   "source": [
    "# трёхмерный массив:\n",
    "D = rand(4, 3, 2)"
   ]
  },
  {
   "cell_type": "markdown",
   "id": "4edd70e5-0e30-4176-8c3d-0852e6d7425a",
   "metadata": {},
   "source": [
    "Примеры массивов, заданных некоторыми функциями через включение:"
   ]
  },
  {
   "cell_type": "code",
   "execution_count": 54,
   "id": "7de07270-d652-45ae-9a6e-783c684bd3f4",
   "metadata": {
    "tags": []
   },
   "outputs": [
    {
     "data": {
      "text/plain": [
       "10-element Vector{Float64}:\n",
       " 1.0\n",
       " 1.4142135623730951\n",
       " 1.7320508075688772\n",
       " 2.0\n",
       " 2.23606797749979\n",
       " 2.449489742783178\n",
       " 2.6457513110645907\n",
       " 2.8284271247461903\n",
       " 3.0\n",
       " 3.1622776601683795"
      ]
     },
     "execution_count": 54,
     "metadata": {},
     "output_type": "execute_result"
    }
   ],
   "source": [
    "# массив из квадратных корней всех целых чисел от 1 до 10:\n",
    "roots = [sqrt(i) for i in 1:10]"
   ]
  },
  {
   "cell_type": "code",
   "execution_count": 55,
   "id": "d6f24163-e37a-4cb9-9bcc-6680dc994572",
   "metadata": {
    "tags": []
   },
   "outputs": [
    {
     "data": {
      "text/plain": [
       "5-element Vector{Int64}:\n",
       "   3\n",
       "  27\n",
       "  75\n",
       " 147\n",
       " 243"
      ]
     },
     "execution_count": 55,
     "metadata": {},
     "output_type": "execute_result"
    }
   ],
   "source": [
    "# массив с элементами вида 3*x^2,\n",
    "# где x - нечётное число от 1 до 9 (включительно)\n",
    "ar_1 = [3*i^2 for i in 1:2:9]"
   ]
  },
  {
   "cell_type": "code",
   "execution_count": 56,
   "id": "1d7215d2-e8da-431a-88ed-e2d7b28dd180",
   "metadata": {
    "tags": []
   },
   "outputs": [
    {
     "data": {
      "text/plain": [
       "4-element Vector{Int64}:\n",
       "  1\n",
       "  9\n",
       " 49\n",
       " 81"
      ]
     },
     "execution_count": 56,
     "metadata": {},
     "output_type": "execute_result"
    }
   ],
   "source": [
    "# массив квадратов элементов, если квадрат не делится на 5 или 4:\n",
    "ar_2=[i^2 for i=1:10 if (i^2%5!=0 && i^2%4!=0)]"
   ]
  },
  {
   "cell_type": "code",
   "execution_count": 57,
   "id": "34189353-79bd-4e1f-afa4-aeaa6ea3cb7d",
   "metadata": {
    "tags": []
   },
   "outputs": [
    {
     "data": {
      "text/plain": [
       "5-element Vector{Float64}:\n",
       " 1.0\n",
       " 1.0\n",
       " 1.0\n",
       " 1.0\n",
       " 1.0"
      ]
     },
     "execution_count": 57,
     "metadata": {},
     "output_type": "execute_result"
    }
   ],
   "source": [
    "# одномерный массив из пяти единиц:\n",
    "ones(5)"
   ]
  },
  {
   "cell_type": "code",
   "execution_count": 58,
   "id": "c4ac2862-84d5-466b-aa0e-f4991b0f9b82",
   "metadata": {
    "tags": []
   },
   "outputs": [
    {
     "data": {
      "text/plain": [
       "2×3 Matrix{Float64}:\n",
       " 1.0  1.0  1.0\n",
       " 1.0  1.0  1.0"
      ]
     },
     "execution_count": 58,
     "metadata": {},
     "output_type": "execute_result"
    }
   ],
   "source": [
    "# двумерный массив 2x3 из единиц:\n",
    "ones(2,3)"
   ]
  },
  {
   "cell_type": "code",
   "execution_count": 59,
   "id": "e176f9a9-85c6-4a37-97e3-45d9ba183a5b",
   "metadata": {
    "tags": []
   },
   "outputs": [
    {
     "data": {
      "text/plain": [
       "4-element Vector{Float64}:\n",
       " 0.0\n",
       " 0.0\n",
       " 0.0\n",
       " 0.0"
      ]
     },
     "execution_count": 59,
     "metadata": {},
     "output_type": "execute_result"
    }
   ],
   "source": [
    "# одномерный массив из 4 нулей:\n",
    "zeros(4)"
   ]
  },
  {
   "cell_type": "code",
   "execution_count": 60,
   "id": "eae318c5-5a75-43ac-95e9-5add5a745810",
   "metadata": {
    "tags": []
   },
   "outputs": [
    {
     "data": {
      "text/plain": [
       "3×2 Matrix{Float64}:\n",
       " 3.5  3.5\n",
       " 3.5  3.5\n",
       " 3.5  3.5"
      ]
     },
     "execution_count": 60,
     "metadata": {},
     "output_type": "execute_result"
    }
   ],
   "source": [
    "# заполнить массив 3x2 цифрами 3.5\n",
    "fill(3.5,(3,2))"
   ]
  },
  {
   "cell_type": "code",
   "execution_count": 63,
   "id": "d7deba20-70e8-47c1-b502-a6d774c7f884",
   "metadata": {
    "tags": []
   },
   "outputs": [
    {
     "data": {
      "text/plain": [
       "6×3 Matrix{Int64}:\n",
       " 1  1  1\n",
       " 2  2  2\n",
       " 1  1  1\n",
       " 2  2  2\n",
       " 1  1  1\n",
       " 2  2  2"
      ]
     },
     "execution_count": 63,
     "metadata": {},
     "output_type": "execute_result"
    }
   ],
   "source": [
    "# заполнение массива посредством функции repeat():\n",
    "repeat([1,2],3,3)"
   ]
  },
  {
   "cell_type": "code",
   "execution_count": 289,
   "id": "4947ad00-ea38-462d-8eb2-3e57217caf29",
   "metadata": {
    "tags": []
   },
   "outputs": [
    {
     "data": {
      "text/plain": [
       "3×6 Matrix{Int64}:\n",
       " 1  2  1  2  1  2\n",
       " 1  2  1  2  1  2\n",
       " 1  2  1  2  1  2"
      ]
     },
     "execution_count": 289,
     "metadata": {},
     "output_type": "execute_result"
    }
   ],
   "source": [
    "repeat([1 2],3,3)"
   ]
  },
  {
   "cell_type": "code",
   "execution_count": 64,
   "id": "c9e21e34-6ec7-41d4-a747-0e1267695a13",
   "metadata": {
    "tags": []
   },
   "outputs": [
    {
     "data": {
      "text/plain": [
       "2×6 Matrix{Int64}:\n",
       " 1  3  5  7   9  11\n",
       " 2  4  6  8  10  12"
      ]
     },
     "execution_count": 64,
     "metadata": {},
     "output_type": "execute_result"
    }
   ],
   "source": [
    "# преобразование одномерного массива из целых чисел от 1 до 12\n",
    "# в двумерный массив 2x6\n",
    "a = collect(1:12)\n",
    "b = reshape(a,(2,6))"
   ]
  },
  {
   "cell_type": "code",
   "execution_count": 65,
   "id": "b1bc9c9e-dd78-4b67-ba7f-5347f873e850",
   "metadata": {
    "tags": []
   },
   "outputs": [
    {
     "data": {
      "text/plain": [
       "6×2 adjoint(::Matrix{Int64}) with eltype Int64:\n",
       "  1   2\n",
       "  3   4\n",
       "  5   6\n",
       "  7   8\n",
       "  9  10\n",
       " 11  12"
      ]
     },
     "execution_count": 65,
     "metadata": {},
     "output_type": "execute_result"
    }
   ],
   "source": [
    "# транспонирование\n",
    "b'"
   ]
  },
  {
   "cell_type": "code",
   "execution_count": 66,
   "id": "a4c6755e-de8f-4e37-98d9-df3dcc0994e4",
   "metadata": {
    "tags": []
   },
   "outputs": [
    {
     "data": {
      "text/plain": [
       "6×2 transpose(::Matrix{Int64}) with eltype Int64:\n",
       "  1   2\n",
       "  3   4\n",
       "  5   6\n",
       "  7   8\n",
       "  9  10\n",
       " 11  12"
      ]
     },
     "execution_count": 66,
     "metadata": {},
     "output_type": "execute_result"
    }
   ],
   "source": [
    "# транспонирование\n",
    "с = transpose(b)"
   ]
  },
  {
   "cell_type": "code",
   "execution_count": 67,
   "id": "4eb9a17d-2070-4f6a-b490-5b8022bf3d1b",
   "metadata": {
    "tags": []
   },
   "outputs": [
    {
     "data": {
      "text/plain": [
       "10×5 Matrix{Int64}:\n",
       " 18  19  11  16  15\n",
       " 12  16  11  17  12\n",
       " 12  19  20  12  14\n",
       " 11  16  20  15  12\n",
       " 14  18  10  15  18\n",
       " 17  18  16  17  12\n",
       " 19  13  18  10  13\n",
       " 18  11  12  12  18\n",
       " 12  20  17  20  11\n",
       " 16  19  10  20  19"
      ]
     },
     "execution_count": 67,
     "metadata": {},
     "output_type": "execute_result"
    }
   ],
   "source": [
    "# массив 10x5 целых чисел в диапазоне [10, 20]:\n",
    "ar = rand(10:20, 10, 5)"
   ]
  },
  {
   "cell_type": "code",
   "execution_count": 68,
   "id": "1dc7575d-3b60-4d41-ae38-22c9e8795a2d",
   "metadata": {
    "tags": []
   },
   "outputs": [
    {
     "data": {
      "text/plain": [
       "10-element Vector{Int64}:\n",
       " 19\n",
       " 16\n",
       " 19\n",
       " 16\n",
       " 18\n",
       " 18\n",
       " 13\n",
       " 11\n",
       " 20\n",
       " 19"
      ]
     },
     "execution_count": 68,
     "metadata": {},
     "output_type": "execute_result"
    }
   ],
   "source": [
    "# выбор всех значений строки в столбце 2:\n",
    "ar[:, 2]"
   ]
  },
  {
   "cell_type": "code",
   "execution_count": 69,
   "id": "07b832ce-9898-4602-91ce-80e64234e9b7",
   "metadata": {
    "tags": []
   },
   "outputs": [
    {
     "data": {
      "text/plain": [
       "10×2 Matrix{Int64}:\n",
       " 19  15\n",
       " 16  12\n",
       " 19  14\n",
       " 16  12\n",
       " 18  18\n",
       " 18  12\n",
       " 13  13\n",
       " 11  18\n",
       " 20  11\n",
       " 19  19"
      ]
     },
     "execution_count": 69,
     "metadata": {},
     "output_type": "execute_result"
    }
   ],
   "source": [
    "# выбор всех значений в столбцах 2 и 5:\n",
    "ar[:, [2, 5]]"
   ]
  },
  {
   "cell_type": "code",
   "execution_count": 70,
   "id": "52ddea98-73d2-443a-a01f-24b8f102f41a",
   "metadata": {
    "tags": []
   },
   "outputs": [
    {
     "data": {
      "text/plain": [
       "10×3 Matrix{Int64}:\n",
       " 19  11  16\n",
       " 16  11  17\n",
       " 19  20  12\n",
       " 16  20  15\n",
       " 18  10  15\n",
       " 18  16  17\n",
       " 13  18  10\n",
       " 11  12  12\n",
       " 20  17  20\n",
       " 19  10  20"
      ]
     },
     "execution_count": 70,
     "metadata": {},
     "output_type": "execute_result"
    }
   ],
   "source": [
    "# все значения строк в столбцах 2, 3 и 4:\n",
    "ar[:, 2:4]"
   ]
  },
  {
   "cell_type": "code",
   "execution_count": 71,
   "id": "0e6a76b7-9832-4022-9352-9734197cae84",
   "metadata": {
    "tags": []
   },
   "outputs": [
    {
     "data": {
      "text/plain": [
       "3×2 Matrix{Int64}:\n",
       " 12  12\n",
       " 11  12\n",
       " 17  12"
      ]
     },
     "execution_count": 71,
     "metadata": {},
     "output_type": "execute_result"
    }
   ],
   "source": [
    "# значения в строках 2, 4, 6 и в столбцах 1 и 5:\n",
    "ar[[2, 4, 6], [1, 5]]"
   ]
  },
  {
   "cell_type": "code",
   "execution_count": 72,
   "id": "c5761a5a-b103-4bfb-985a-9e0a630e8cff",
   "metadata": {
    "tags": []
   },
   "outputs": [
    {
     "data": {
      "text/plain": [
       "3-element Vector{Int64}:\n",
       " 11\n",
       " 16\n",
       " 15"
      ]
     },
     "execution_count": 72,
     "metadata": {},
     "output_type": "execute_result"
    }
   ],
   "source": [
    "# значения в строке 1 от столбца 3 до последнего столбца:\n",
    "ar[1, 3:end]"
   ]
  },
  {
   "cell_type": "code",
   "execution_count": 73,
   "id": "32e4bb2d-5f40-42bc-960c-053c3161f337",
   "metadata": {
    "tags": []
   },
   "outputs": [
    {
     "data": {
      "text/plain": [
       "10×5 Matrix{Int64}:\n",
       " 11  11  10  10  11\n",
       " 12  13  10  12  12\n",
       " 12  16  11  12  12\n",
       " 12  16  11  15  12\n",
       " 14  18  12  15  13\n",
       " 16  18  16  16  14\n",
       " 17  19  17  17  15\n",
       " 18  19  18  17  18\n",
       " 18  19  20  20  18\n",
       " 19  20  20  20  19"
      ]
     },
     "execution_count": 73,
     "metadata": {},
     "output_type": "execute_result"
    }
   ],
   "source": [
    "# сортировка по столбцам:\n",
    "sort(ar,dims=1)"
   ]
  },
  {
   "cell_type": "code",
   "execution_count": 74,
   "id": "6f49584b-3a72-4de4-bf70-bc6f9735f120",
   "metadata": {
    "tags": []
   },
   "outputs": [
    {
     "data": {
      "text/plain": [
       "10×5 Matrix{Int64}:\n",
       " 11  15  16  18  19\n",
       " 11  12  12  16  17\n",
       " 12  12  14  19  20\n",
       " 11  12  15  16  20\n",
       " 10  14  15  18  18\n",
       " 12  16  17  17  18\n",
       " 10  13  13  18  19\n",
       " 11  12  12  18  18\n",
       " 11  12  17  20  20\n",
       " 10  16  19  19  20"
      ]
     },
     "execution_count": 74,
     "metadata": {},
     "output_type": "execute_result"
    }
   ],
   "source": [
    "# сортировка по строкам:\n",
    "sort(ar,dims=2)"
   ]
  },
  {
   "cell_type": "code",
   "execution_count": 75,
   "id": "aac0c12d-45bf-4174-b0c9-7190e24015c5",
   "metadata": {
    "tags": []
   },
   "outputs": [
    {
     "data": {
      "text/plain": [
       "10×5 BitMatrix:\n",
       " 1  1  0  1  1\n",
       " 0  1  0  1  0\n",
       " 0  1  1  0  0\n",
       " 0  1  1  1  0\n",
       " 0  1  0  1  1\n",
       " 1  1  1  1  0\n",
       " 1  0  1  0  0\n",
       " 1  0  0  0  1\n",
       " 0  1  1  1  0\n",
       " 1  1  0  1  1"
      ]
     },
     "execution_count": 75,
     "metadata": {},
     "output_type": "execute_result"
    }
   ],
   "source": [
    "# поэлементное сравнение с числом\n",
    "# (результат - массив логических значений):\n",
    "ar .> 14"
   ]
  },
  {
   "cell_type": "code",
   "execution_count": 76,
   "id": "e273e720-aacd-447f-8eef-af586af60fba",
   "metadata": {
    "tags": []
   },
   "outputs": [
    {
     "data": {
      "text/plain": [
       "29-element Vector{CartesianIndex{2}}:\n",
       " CartesianIndex(1, 1)\n",
       " CartesianIndex(6, 1)\n",
       " CartesianIndex(7, 1)\n",
       " CartesianIndex(8, 1)\n",
       " CartesianIndex(10, 1)\n",
       " CartesianIndex(1, 2)\n",
       " CartesianIndex(2, 2)\n",
       " CartesianIndex(3, 2)\n",
       " CartesianIndex(4, 2)\n",
       " CartesianIndex(5, 2)\n",
       " CartesianIndex(6, 2)\n",
       " CartesianIndex(9, 2)\n",
       " CartesianIndex(10, 2)\n",
       " ⋮\n",
       " CartesianIndex(9, 3)\n",
       " CartesianIndex(1, 4)\n",
       " CartesianIndex(2, 4)\n",
       " CartesianIndex(4, 4)\n",
       " CartesianIndex(5, 4)\n",
       " CartesianIndex(6, 4)\n",
       " CartesianIndex(9, 4)\n",
       " CartesianIndex(10, 4)\n",
       " CartesianIndex(1, 5)\n",
       " CartesianIndex(5, 5)\n",
       " CartesianIndex(8, 5)\n",
       " CartesianIndex(10, 5)"
      ]
     },
     "execution_count": 76,
     "metadata": {},
     "output_type": "execute_result"
    }
   ],
   "source": [
    "# возврат индексов элементов массива, удовлетворяющих условию:\n",
    "findall(ar .> 14)"
   ]
  },
  {
   "cell_type": "markdown",
   "id": "6377bbf6-c625-4973-9905-37cc95e9ff3e",
   "metadata": {},
   "source": [
    "## Самостоятельное задание"
   ]
  },
  {
   "cell_type": "markdown",
   "id": "24f73d22-df59-48a8-801f-2201ba480afb",
   "metadata": {},
   "source": [
    "### 1. Даны множества: 𝐴 = {0, 3, 4, 9}, 𝐵 = {1, 3, 4, 7}, 𝐶 = {0, 1, 2, 4, 7, 8, 9}. Найти 𝑃 = 𝐴 ∩ 𝐵 ∪ 𝐴 ∩ 𝐵 ∪ 𝐴 ∩ 𝐶 ∪ 𝐵 ∩ C."
   ]
  },
  {
   "cell_type": "code",
   "execution_count": 77,
   "id": "5aaf86fb-d92b-47f4-82b6-af9bac000348",
   "metadata": {
    "tags": []
   },
   "outputs": [
    {
     "data": {
      "text/plain": [
       "Set{Int64} with 7 elements:\n",
       "  0\n",
       "  4\n",
       "  7\n",
       "  2\n",
       "  9\n",
       "  8\n",
       "  1"
      ]
     },
     "execution_count": 77,
     "metadata": {},
     "output_type": "execute_result"
    }
   ],
   "source": [
    "A = Set([0, 3, 4, 9])\n",
    "B = Set([1, 3, 4, 7])\n",
    "C = Set([0, 1, 2, 4, 7, 8, 9])"
   ]
  },
  {
   "cell_type": "code",
   "execution_count": 91,
   "id": "e9df830e-3d5f-434e-b6a0-9f7486ac2404",
   "metadata": {
    "tags": []
   },
   "outputs": [
    {
     "data": {
      "text/plain": [
       "Set{Int64} with 6 elements:\n",
       "  0\n",
       "  4\n",
       "  7\n",
       "  9\n",
       "  3\n",
       "  1"
      ]
     },
     "execution_count": 91,
     "metadata": {},
     "output_type": "execute_result"
    }
   ],
   "source": [
    "P = A ∩ B ∪ A ∩ B ∪ A ∩ C ∪ B ∩ C"
   ]
  },
  {
   "cell_type": "code",
   "execution_count": 92,
   "id": "a7c6fc08-fe9e-45a6-8ad0-b3954176ea19",
   "metadata": {
    "tags": []
   },
   "outputs": [
    {
     "data": {
      "text/plain": [
       "Set{Int64} with 4 elements:\n",
       "  0\n",
       "  4\n",
       "  9\n",
       "  3"
      ]
     },
     "execution_count": 92,
     "metadata": {},
     "output_type": "execute_result"
    }
   ],
   "source": [
    "P1 = A ∩ (B ∪ (A ∩ (B ∪ (A ∩ (C ∪ (B ∩ C))))))"
   ]
  },
  {
   "cell_type": "code",
   "execution_count": 94,
   "id": "b2adb095-bf36-4f68-a0cb-bd6c75cb9496",
   "metadata": {
    "tags": []
   },
   "outputs": [
    {
     "name": "stdout",
     "output_type": "stream",
     "text": [
      "Set([0, 4, 7, 9, 3, 1])Set([0, 4, 9, 3])"
     ]
    },
    {
     "data": {
      "text/plain": [
       "(nothing, nothing)"
      ]
     },
     "execution_count": 94,
     "metadata": {},
     "output_type": "execute_result"
    }
   ],
   "source": [
    "print(P), print(P1)"
   ]
  },
  {
   "cell_type": "markdown",
   "id": "07f66188-1ea0-4694-bac6-2e0433bd83a4",
   "metadata": {},
   "source": [
    "### 2. Приведите свои примеры с выполнением операций над множествами элементов разных типов."
   ]
  },
  {
   "cell_type": "code",
   "execution_count": 95,
   "id": "a847e07e-421c-4164-931e-6d22ea904d53",
   "metadata": {
    "tags": []
   },
   "outputs": [
    {
     "data": {
      "text/plain": [
       "Set{Char} with 9 elements:\n",
       "  'w'\n",
       "  'a'\n",
       "  'e'\n",
       "  'j'\n",
       "  'h'\n",
       "  'g'\n",
       "  'k'\n",
       "  'r'\n",
       "  'l'"
      ]
     },
     "execution_count": 95,
     "metadata": {},
     "output_type": "execute_result"
    }
   ],
   "source": [
    "A1 = Set(\"ajkhewrhglewha\")"
   ]
  },
  {
   "cell_type": "code",
   "execution_count": 96,
   "id": "62042124-3183-4c27-8e1d-db5f12033ce7",
   "metadata": {
    "tags": []
   },
   "outputs": [
    {
     "data": {
      "text/plain": [
       "Set{Int64} with 6 elements:\n",
       "  5\n",
       "  4\n",
       "  6\n",
       "  2\n",
       "  3\n",
       "  1"
      ]
     },
     "execution_count": 96,
     "metadata": {},
     "output_type": "execute_result"
    }
   ],
   "source": [
    "B1 = Set([1 2 3 4 5 6])"
   ]
  },
  {
   "cell_type": "code",
   "execution_count": 97,
   "id": "14527fbc-1436-4540-b994-88041b07a633",
   "metadata": {
    "tags": []
   },
   "outputs": [
    {
     "data": {
      "text/plain": [
       "Set{String} with 3 elements:\n",
       "  \"wgegetr\"\n",
       "  \"wggertgert\"\n",
       "  \"agsegqe\""
      ]
     },
     "execution_count": 97,
     "metadata": {},
     "output_type": "execute_result"
    }
   ],
   "source": [
    "C1 = Set([\"wgegetr\", \"agsegqe\", \"wggertgert\"])"
   ]
  },
  {
   "cell_type": "code",
   "execution_count": 98,
   "id": "3c7c6b8d-b071-4105-a862-cfb2dcec808e",
   "metadata": {
    "tags": []
   },
   "outputs": [
    {
     "data": {
      "text/plain": [
       "Set{Any}()"
      ]
     },
     "execution_count": 98,
     "metadata": {},
     "output_type": "execute_result"
    }
   ],
   "source": [
    "A1 ∩ B1"
   ]
  },
  {
   "cell_type": "code",
   "execution_count": 99,
   "id": "87c8b4c8-7773-4a5c-b06b-afdfe1d8329a",
   "metadata": {
    "tags": []
   },
   "outputs": [
    {
     "data": {
      "text/plain": [
       "Set{Any} with 15 elements:\n",
       "  5\n",
       "  'w'\n",
       "  'a'\n",
       "  'e'\n",
       "  1\n",
       "  4\n",
       "  6\n",
       "  2\n",
       "  'j'\n",
       "  'h'\n",
       "  'g'\n",
       "  'k'\n",
       "  'r'\n",
       "  'l'\n",
       "  3"
      ]
     },
     "execution_count": 99,
     "metadata": {},
     "output_type": "execute_result"
    }
   ],
   "source": [
    "A1 ∪ B1"
   ]
  },
  {
   "cell_type": "code",
   "execution_count": 101,
   "id": "a421c5f8-69f5-44d7-8052-569e7a5639a8",
   "metadata": {
    "tags": []
   },
   "outputs": [
    {
     "data": {
      "text/plain": [
       "Set{Char} with 9 elements:\n",
       "  'w'\n",
       "  'a'\n",
       "  'e'\n",
       "  'j'\n",
       "  'h'\n",
       "  'g'\n",
       "  'k'\n",
       "  'r'\n",
       "  'l'"
      ]
     },
     "execution_count": 101,
     "metadata": {},
     "output_type": "execute_result"
    }
   ],
   "source": [
    "setdiff(A1, C1)"
   ]
  },
  {
   "cell_type": "code",
   "execution_count": 102,
   "id": "bb2bc385-688f-4620-9146-0fb648046149",
   "metadata": {
    "tags": []
   },
   "outputs": [
    {
     "data": {
      "text/plain": [
       "false"
      ]
     },
     "execution_count": 102,
     "metadata": {},
     "output_type": "execute_result"
    }
   ],
   "source": [
    "issubset(A1, B1)"
   ]
  },
  {
   "cell_type": "markdown",
   "id": "c580a5a9-298e-486f-a311-312a2b27db30",
   "metadata": {},
   "source": [
    "### 3. Создайте разными способами:"
   ]
  },
  {
   "cell_type": "code",
   "execution_count": 104,
   "id": "45803629-8c6f-43b5-bd82-7c41b736a811",
   "metadata": {
    "tags": []
   },
   "outputs": [],
   "source": [
    "N = 50;"
   ]
  },
  {
   "cell_type": "markdown",
   "id": "32146a6e-4b47-447a-95ee-058e7e40533c",
   "metadata": {},
   "source": [
    "3.1) массив (1, 2, 3, … 𝑁 − 1, 𝑁 ), 𝑁 выберите больше 20;"
   ]
  },
  {
   "cell_type": "code",
   "execution_count": 126,
   "id": "b6d0563c-1049-407c-a04d-3dca31baa409",
   "metadata": {
    "tags": []
   },
   "outputs": [
    {
     "data": {
      "text/plain": [
       "50-element Vector{Int64}:\n",
       "  1\n",
       "  2\n",
       "  3\n",
       "  4\n",
       "  5\n",
       "  6\n",
       "  7\n",
       "  8\n",
       "  9\n",
       " 10\n",
       " 11\n",
       " 12\n",
       " 13\n",
       "  ⋮\n",
       " 39\n",
       " 40\n",
       " 41\n",
       " 42\n",
       " 43\n",
       " 44\n",
       " 45\n",
       " 46\n",
       " 47\n",
       " 48\n",
       " 49\n",
       " 50"
      ]
     },
     "execution_count": 126,
     "metadata": {},
     "output_type": "execute_result"
    }
   ],
   "source": [
    "B31 = [i for i ∈ range(1, N)];\n",
    "C31 = collect(1:N);\n",
    "# Классическим циклом\n",
    "#=D31 = (Int64)[]\n",
    "for i ∈ 1:N\n",
    "    push!(D31, i)\n",
    "end\n",
    "print(D31)=#\n",
    "A31 = [i for i ∈ 1:N]"
   ]
  },
  {
   "cell_type": "markdown",
   "id": "63a4f280-8317-4466-955d-a84dac19ef67",
   "metadata": {},
   "source": [
    "3.2) массив (𝑁, 𝑁 − 1 … , 2, 1), 𝑁 выберите больше 20;"
   ]
  },
  {
   "cell_type": "code",
   "execution_count": 127,
   "id": "36618c77-23d3-4559-9c4f-3c8f49c8583b",
   "metadata": {
    "tags": []
   },
   "outputs": [
    {
     "data": {
      "text/plain": [
       "50-element Vector{Int64}:\n",
       " 50\n",
       " 49\n",
       " 48\n",
       " 47\n",
       " 46\n",
       " 45\n",
       " 44\n",
       " 43\n",
       " 42\n",
       " 41\n",
       " 40\n",
       " 39\n",
       " 38\n",
       "  ⋮\n",
       " 12\n",
       " 11\n",
       " 10\n",
       "  9\n",
       "  8\n",
       "  7\n",
       "  6\n",
       "  5\n",
       "  4\n",
       "  3\n",
       "  2\n",
       "  1"
      ]
     },
     "execution_count": 127,
     "metadata": {},
     "output_type": "execute_result"
    }
   ],
   "source": [
    "B32 = [i for i ∈ range(N, 1, step=-1)];\n",
    "C32 = collect(N:-1:1);\n",
    "# Классическим циклом\n",
    "#=D32 = (Int64)[]\n",
    "for i ∈ 1:N\n",
    "    push!(D32, i)\n",
    "end\n",
    "print(D32)=#\n",
    "A32 = [i for i ∈ N:-1:1]"
   ]
  },
  {
   "cell_type": "markdown",
   "id": "04b9564f-081e-486b-82f6-6e7911b24b44",
   "metadata": {},
   "source": [
    "3.3) массив (1, 2, 3, … , 𝑁 − 1, 𝑁, 𝑁 − 1, … , 2, 1), 𝑁 выберите больше 20;"
   ]
  },
  {
   "cell_type": "code",
   "execution_count": 131,
   "id": "8d6c8ed5-00d0-4052-8c90-ea9caafc7158",
   "metadata": {
    "tags": []
   },
   "outputs": [
    {
     "name": "stdout",
     "output_type": "stream",
     "text": [
      "[1, 2, 3, 4, 5, 6, 7, 8, 9, 10, 11, 12, 13, 14, 15, 16, 17, 18, 19, 20, 21, 22, 23, 24, 25, 26, 27, 28, 29, 30, 31, 32, 33, 34, 35, 36, 37, 38, 39, 40, 41, 42, 43, 44, 45, 46, 47, 48, 49, 50, 49, 48, 47, 46, 45, 44, 43, 42, 41, 40, 39, 38, 37, 36, 35, 34, 33, 32, 31, 30, 29, 28, 27, 26, 25, 24, 23, 22, 21, 20, 19, 18, 17, 16, 15, 14, 13, 12, 11, 10, 9, 8, 7, 6, 5, 4, 3, 2, 1]"
     ]
    }
   ],
   "source": [
    "B33_1 = [i for i ∈ range(1, N)];\n",
    "B33_2 = [i for i ∈ range(N-1, 1, step=-1)];\n",
    "B33 = [B33_1; B33_2];\n",
    "C33 = vcat(B33_1, B33_2);\n",
    "#C32 = collect(N:-1:1);\n",
    "# Классическим циклом\n",
    "D33 = (Int64)[]\n",
    "for i ∈ 1:N\n",
    "    push!(D33, i)\n",
    "end\n",
    "for i ∈ N-1:-1:1\n",
    "    push!(D33, i)\n",
    "end\n",
    "print(D33)\n",
    "#A32 = [i for i ∈ N:-1:1]"
   ]
  },
  {
   "cell_type": "markdown",
   "id": "7b5c00ec-0a46-4670-b411-c736e29fb6ab",
   "metadata": {},
   "source": [
    "3.4) массив с именем tmp вида (4, 6, 3);"
   ]
  },
  {
   "cell_type": "code",
   "execution_count": 132,
   "id": "c29f06d6-7b09-44c7-b7c8-9fff55e1ddbc",
   "metadata": {
    "tags": []
   },
   "outputs": [
    {
     "data": {
      "text/plain": [
       "3-element Vector{Int64}:\n",
       " 4\n",
       " 6\n",
       " 3"
      ]
     },
     "execution_count": 132,
     "metadata": {},
     "output_type": "execute_result"
    }
   ],
   "source": [
    "tmp = [4, 6, 3]"
   ]
  },
  {
   "cell_type": "markdown",
   "id": "a072e642-7e58-44c8-be51-180c51edf776",
   "metadata": {},
   "source": [
    "3.5) массив, в котором первый элемент массива tmp повторяется 10 раз;"
   ]
  },
  {
   "cell_type": "code",
   "execution_count": 139,
   "id": "a59ef790-6e56-4f83-9cb7-5517900a059b",
   "metadata": {
    "tags": []
   },
   "outputs": [
    {
     "data": {
      "text/plain": [
       "10-element Vector{Int64}:\n",
       " 4\n",
       " 4\n",
       " 4\n",
       " 4\n",
       " 4\n",
       " 4\n",
       " 4\n",
       " 4\n",
       " 4\n",
       " 4"
      ]
     },
     "execution_count": 139,
     "metadata": {},
     "output_type": "execute_result"
    }
   ],
   "source": [
    "B35 = fill(tmp[1], 10);\n",
    "C35 = repeat([tmp[1]], 10);\n",
    "A35 = [tmp[1] for i in 1:10]"
   ]
  },
  {
   "cell_type": "markdown",
   "id": "8ac0850e-6818-4756-be5c-7b933570a49a",
   "metadata": {},
   "source": [
    "3.6) массив, в котором все элементы массива tmp повторяются 10 раз;"
   ]
  },
  {
   "cell_type": "code",
   "execution_count": 151,
   "id": "9e053f5d-f997-4cbe-a66e-3a64e94afbff",
   "metadata": {
    "tags": []
   },
   "outputs": [],
   "source": [
    "B36 = fill(tmp, 10);\n",
    "C36_1 = repeat(tmp, 10); # В один столбец (30 x 1)"
   ]
  },
  {
   "cell_type": "code",
   "execution_count": 152,
   "id": "f2c22962-29a9-460c-8b13-f865609de657",
   "metadata": {
    "tags": []
   },
   "outputs": [
    {
     "data": {
      "text/plain": [
       "3×10 Matrix{Int64}:\n",
       " 4  4  4  4  4  4  4  4  4  4\n",
       " 6  6  6  6  6  6  6  6  6  6\n",
       " 3  3  3  3  3  3  3  3  3  3"
      ]
     },
     "execution_count": 152,
     "metadata": {},
     "output_type": "execute_result"
    }
   ],
   "source": [
    "C36_2 = repeat(tmp, 1, 10) # В строки (3 x 10)"
   ]
  },
  {
   "cell_type": "code",
   "execution_count": 153,
   "id": "b415bfa7-3124-4fda-812f-31f3854cd4fe",
   "metadata": {
    "tags": []
   },
   "outputs": [
    {
     "data": {
      "text/plain": [
       "10-element Vector{Vector{Int64}}:\n",
       " [4, 6, 3]\n",
       " [4, 6, 3]\n",
       " [4, 6, 3]\n",
       " [4, 6, 3]\n",
       " [4, 6, 3]\n",
       " [4, 6, 3]\n",
       " [4, 6, 3]\n",
       " [4, 6, 3]\n",
       " [4, 6, 3]\n",
       " [4, 6, 3]"
      ]
     },
     "execution_count": 153,
     "metadata": {},
     "output_type": "execute_result"
    }
   ],
   "source": [
    "A36 = [tmp for i in 1:10]"
   ]
  },
  {
   "cell_type": "markdown",
   "id": "cb0d0185-e140-4564-b100-f4cce959ee3b",
   "metadata": {},
   "source": [
    "3.7) массив, в котором первый элемент массива tmp встречается 11 раз, второй элемент — 10 раз, третий элемент — 10 раз;"
   ]
  },
  {
   "cell_type": "code",
   "execution_count": 155,
   "id": "15b5f0be-2eb0-4f53-80d3-29000e41d2eb",
   "metadata": {
    "tags": []
   },
   "outputs": [
    {
     "data": {
      "text/plain": [
       "31-element Vector{Int64}:\n",
       " 4\n",
       " 4\n",
       " 4\n",
       " 4\n",
       " 4\n",
       " 4\n",
       " 4\n",
       " 4\n",
       " 4\n",
       " 4\n",
       " 4\n",
       " 6\n",
       " 6\n",
       " ⋮\n",
       " 6\n",
       " 6\n",
       " 3\n",
       " 3\n",
       " 3\n",
       " 3\n",
       " 3\n",
       " 3\n",
       " 3\n",
       " 3\n",
       " 3\n",
       " 3"
      ]
     },
     "execution_count": 155,
     "metadata": {},
     "output_type": "execute_result"
    }
   ],
   "source": [
    "B37_1 = fill(tmp[1], 11);\n",
    "B37_2 = fill(tmp[2], 10);\n",
    "B37_3 = fill(tmp[3], 10);\n",
    "B37 = [B37_1; B37_2; B37_3]"
   ]
  },
  {
   "cell_type": "code",
   "execution_count": 157,
   "id": "cc6bd86d-f325-4e41-b49b-c6e04115218b",
   "metadata": {
    "tags": []
   },
   "outputs": [
    {
     "data": {
      "text/plain": [
       "31-element Vector{Int64}:\n",
       " 4\n",
       " 6\n",
       " 3\n",
       " 4\n",
       " 6\n",
       " 3\n",
       " 4\n",
       " 6\n",
       " 3\n",
       " 4\n",
       " 6\n",
       " 3\n",
       " 4\n",
       " ⋮\n",
       " 6\n",
       " 3\n",
       " 4\n",
       " 6\n",
       " 3\n",
       " 4\n",
       " 6\n",
       " 3\n",
       " 4\n",
       " 6\n",
       " 3\n",
       " 4"
      ]
     },
     "execution_count": 157,
     "metadata": {},
     "output_type": "execute_result"
    }
   ],
   "source": [
    "A37 = [tmp[i % 3 + 1] for i ∈ 0:30]"
   ]
  },
  {
   "cell_type": "markdown",
   "id": "e674546b-9f36-49b3-a3b2-d2dbc8ae9dc9",
   "metadata": {},
   "source": [
    "3.8) массив, в котором первый элемент массива tmp встречается 10 раз подряд, второй\n",
    "элемент — 20 раз подряд, третий элемент — 30 раз подряд;"
   ]
  },
  {
   "cell_type": "code",
   "execution_count": 158,
   "id": "fe69cd77-c2e4-43e9-9dda-af059e210882",
   "metadata": {
    "tags": []
   },
   "outputs": [
    {
     "data": {
      "text/plain": [
       "60-element Vector{Int64}:\n",
       " 4\n",
       " 4\n",
       " 4\n",
       " 4\n",
       " 4\n",
       " 4\n",
       " 4\n",
       " 4\n",
       " 4\n",
       " 4\n",
       " 6\n",
       " 6\n",
       " 6\n",
       " ⋮\n",
       " 3\n",
       " 3\n",
       " 3\n",
       " 3\n",
       " 3\n",
       " 3\n",
       " 3\n",
       " 3\n",
       " 3\n",
       " 3\n",
       " 3\n",
       " 3"
      ]
     },
     "execution_count": 158,
     "metadata": {},
     "output_type": "execute_result"
    }
   ],
   "source": [
    "B38_1 = fill(tmp[1], 10);\n",
    "B38_2 = fill(tmp[2], 20);\n",
    "B38_3 = fill(tmp[3], 30);\n",
    "B38 = [B38_1; B38_2; B38_3]"
   ]
  },
  {
   "cell_type": "code",
   "execution_count": 169,
   "id": "c2a2ecce-83d1-435c-b553-bd5e2a4ab430",
   "metadata": {
    "tags": []
   },
   "outputs": [
    {
     "data": {
      "text/plain": [
       "60-element Vector{Int64}:\n",
       " 4\n",
       " 4\n",
       " 4\n",
       " 4\n",
       " 4\n",
       " 4\n",
       " 4\n",
       " 4\n",
       " 4\n",
       " 4\n",
       " 6\n",
       " 6\n",
       " 6\n",
       " ⋮\n",
       " 3\n",
       " 3\n",
       " 3\n",
       " 3\n",
       " 3\n",
       " 3\n",
       " 3\n",
       " 3\n",
       " 3\n",
       " 3\n",
       " 3\n",
       " 3"
      ]
     },
     "execution_count": 169,
     "metadata": {},
     "output_type": "execute_result"
    }
   ],
   "source": [
    "A38 = (Int64)[]\n",
    "for i in 1:10\n",
    "    push!(A38, tmp[1])\n",
    "end\n",
    "for i in 1:20\n",
    "    push!(A38, tmp[2])\n",
    "end\n",
    "for i in 1:30\n",
    "    push!(A38, tmp[3])\n",
    "end\n",
    "A38"
   ]
  },
  {
   "cell_type": "markdown",
   "id": "7091d27c-fc08-4502-9209-3a997bf3a34b",
   "metadata": {},
   "source": [
    "3.9) массив из элементов вида $2^{𝑡𝑚𝑝[𝑖]}$, $𝑖 = 1, 2, 3$, где элемент $2^{𝑡𝑚𝑝[3]}$ встречается 4\n",
    "раза; посчитайте в полученном векторе, сколько раз встречается цифра 6, и выведите это значение на экран;"
   ]
  },
  {
   "cell_type": "code",
   "execution_count": 189,
   "id": "03a89299-2964-4174-994b-7e088fb44577",
   "metadata": {
    "tags": []
   },
   "outputs": [
    {
     "data": {
      "text/plain": [
       "12-element Vector{Int64}:\n",
       " 16\n",
       " 64\n",
       "  8\n",
       " 16\n",
       " 64\n",
       "  8\n",
       " 16\n",
       " 64\n",
       "  8\n",
       " 16\n",
       " 64\n",
       "  8"
      ]
     },
     "execution_count": 189,
     "metadata": {},
     "output_type": "execute_result"
    }
   ],
   "source": [
    "A39 = [2^(tmp[i % 3 + 1]) for i ∈ 0:11]"
   ]
  },
  {
   "cell_type": "code",
   "execution_count": 191,
   "id": "0445ec47-c1d8-484b-a75d-4b1910225a24",
   "metadata": {
    "tags": []
   },
   "outputs": [
    {
     "data": {
      "text/plain": [
       "digit_num (generic function with 1 method)"
      ]
     },
     "execution_count": 191,
     "metadata": {},
     "output_type": "execute_result"
    }
   ],
   "source": [
    "function digit_num(d, a)\n",
    "   # Находит число цифр d в числе a\n",
    "    n = 0\n",
    "    while a > 0\n",
    "        if a % 10 == d\n",
    "            n += 1\n",
    "        end\n",
    "        a = a ÷ 10\n",
    "    end\n",
    "    return n\n",
    "end"
   ]
  },
  {
   "cell_type": "code",
   "execution_count": 198,
   "id": "fa9e41d4-2aa0-4b22-98b8-f7e1ccf4a96a",
   "metadata": {
    "tags": []
   },
   "outputs": [
    {
     "data": {
      "text/plain": [
       "8"
      ]
     },
     "execution_count": 198,
     "metadata": {},
     "output_type": "execute_result"
    }
   ],
   "source": [
    "N1 = sum([digit_num(6, a) for a in A39]);\n",
    "N2 = reduce(+, [digit_num(6, a) for a in A39])"
   ]
  },
  {
   "cell_type": "markdown",
   "id": "7f6204c3-f00c-40ba-98c7-a6a2af1ec0ff",
   "metadata": {},
   "source": [
    "3.10) вектор значений $y = e^x \\cos(x)$ в точках $x = 3, 3.1, 3.2, \\dots , 6$, найдите среднее\n",
    "значение $y$;"
   ]
  },
  {
   "cell_type": "code",
   "execution_count": 203,
   "id": "780fbd9a-b4aa-4988-b205-ecf12dbd5c36",
   "metadata": {
    "tags": []
   },
   "outputs": [
    {
     "data": {
      "text/plain": [
       "31-element Vector{Float64}:\n",
       " -19.884530844146987\n",
       " -22.178753389342127\n",
       " -24.490696732801293\n",
       " -26.77318244299338\n",
       " -28.969237768093574\n",
       " -31.011186439374516\n",
       " -32.819774760338504\n",
       " -34.30336011037369\n",
       " -35.35719361853035\n",
       " -35.86283371230767\n",
       " -35.68773248011913\n",
       " -34.68504225166807\n",
       " -32.693695428321746\n",
       "   ⋮\n",
       "  25.046704998273004\n",
       "  42.09920106253839\n",
       "  61.99663027669454\n",
       "  84.92906736250268\n",
       " 111.0615860420258\n",
       " 140.5250750527875\n",
       " 173.40577640857734\n",
       " 209.73349424783467\n",
       " 249.46844055885668\n",
       " 292.4867067371223\n",
       " 338.5643778585117\n",
       " 387.36034029093076"
      ]
     },
     "execution_count": 203,
     "metadata": {},
     "output_type": "execute_result"
    }
   ],
   "source": [
    "A310 = [exp(x)*cos(x) for x ∈ 3:0.1:6]"
   ]
  },
  {
   "cell_type": "code",
   "execution_count": 204,
   "id": "6ccfa90b-b3e9-4363-891a-97a154e4faeb",
   "metadata": {
    "tags": []
   },
   "outputs": [
    {
     "data": {
      "text/plain": [
       "53.11374594642971"
      ]
     },
     "execution_count": 204,
     "metadata": {},
     "output_type": "execute_result"
    }
   ],
   "source": [
    "Avg_310 = sum(A310)/length(A310)"
   ]
  },
  {
   "cell_type": "markdown",
   "id": "8f1adfad-861e-47c6-8d9e-0b1febab8638",
   "metadata": {},
   "source": [
    "3.11) вектор вида $(x^i, y^j)$, $x = 0.1$, $i = 3, 6, 9, \\dots, 36$, $y = 0.2$, $j = 1, 4, 7, \\dots, 34$;"
   ]
  },
  {
   "cell_type": "code",
   "execution_count": 209,
   "id": "3d736a36-cc81-495d-868a-2ec9a0ae7a89",
   "metadata": {
    "tags": []
   },
   "outputs": [
    {
     "data": {
      "text/plain": [
       "144-element Vector{Tuple{Float64, Float64}}:\n",
       " (0.0010000000000000002, 0.2)\n",
       " (0.0010000000000000002, 0.0016000000000000003)\n",
       " (0.0010000000000000002, 1.2800000000000006e-5)\n",
       " (0.0010000000000000002, 1.0240000000000006e-7)\n",
       " (0.0010000000000000002, 8.192000000000005e-10)\n",
       " (0.0010000000000000002, 6.5536000000000055e-12)\n",
       " (0.0010000000000000002, 5.2428800000000056e-14)\n",
       " (0.0010000000000000002, 4.194304000000005e-16)\n",
       " (0.0010000000000000002, 3.3554432000000044e-18)\n",
       " (0.0010000000000000002, 2.684354560000004e-20)\n",
       " (0.0010000000000000002, 2.147483648000004e-22)\n",
       " (0.0010000000000000002, 1.7179869184000035e-24)\n",
       " (1.0000000000000004e-6, 0.2)\n",
       " ⋮\n",
       " (1.000000000000002e-36, 0.2)\n",
       " (1.000000000000002e-36, 0.0016000000000000003)\n",
       " (1.000000000000002e-36, 1.2800000000000006e-5)\n",
       " (1.000000000000002e-36, 1.0240000000000006e-7)\n",
       " (1.000000000000002e-36, 8.192000000000005e-10)\n",
       " (1.000000000000002e-36, 6.5536000000000055e-12)\n",
       " (1.000000000000002e-36, 5.2428800000000056e-14)\n",
       " (1.000000000000002e-36, 4.194304000000005e-16)\n",
       " (1.000000000000002e-36, 3.3554432000000044e-18)\n",
       " (1.000000000000002e-36, 2.684354560000004e-20)\n",
       " (1.000000000000002e-36, 2.147483648000004e-22)\n",
       " (1.000000000000002e-36, 1.7179869184000035e-24)"
      ]
     },
     "execution_count": 209,
     "metadata": {},
     "output_type": "execute_result"
    }
   ],
   "source": [
    "x = 0.1\n",
    "y = 0.2\n",
    "A311 = [(x^i, y^j) for i ∈ 3:3:36 for j ∈ 1:3:34]  # j - внутренний цикл"
   ]
  },
  {
   "cell_type": "markdown",
   "id": "24839ea5-fe12-42ca-943b-c0db357ffadd",
   "metadata": {},
   "source": [
    "3.12) вектор с элементами $\\frac{2^i}{i}$, $i = 1, 2, \\dots, M$, $M = 25$;"
   ]
  },
  {
   "cell_type": "code",
   "execution_count": 210,
   "id": "c473c639-6c54-4f2d-ad88-afd3ba264013",
   "metadata": {
    "tags": []
   },
   "outputs": [
    {
     "data": {
      "text/plain": [
       "25-element Vector{Float64}:\n",
       "      2.0\n",
       "      2.0\n",
       "      2.6666666666666665\n",
       "      4.0\n",
       "      6.4\n",
       "     10.666666666666666\n",
       "     18.285714285714285\n",
       "     32.0\n",
       "     56.888888888888886\n",
       "    102.4\n",
       "    186.1818181818182\n",
       "    341.3333333333333\n",
       "    630.1538461538462\n",
       "   1170.2857142857142\n",
       "   2184.5333333333333\n",
       "   4096.0\n",
       "   7710.117647058823\n",
       "  14563.555555555555\n",
       "  27594.105263157893\n",
       "  52428.8\n",
       "  99864.38095238095\n",
       " 190650.18181818182\n",
       " 364722.0869565217\n",
       " 699050.6666666666\n",
       "      1.34217728e6"
      ]
     },
     "execution_count": 210,
     "metadata": {},
     "output_type": "execute_result"
    }
   ],
   "source": [
    "M = 25\n",
    "A312 = [2^i / i for i in 1:M]"
   ]
  },
  {
   "cell_type": "markdown",
   "id": "c81c8d8b-af66-443a-b3b1-3ecfb77292bd",
   "metadata": {},
   "source": [
    "3.13) вектор вида (”fn1”, ”fn2”, …, ”fnN”), $𝑁 = 30$;"
   ]
  },
  {
   "cell_type": "code",
   "execution_count": 212,
   "id": "61ef5755-79b4-4cca-9949-8fc48c6c2e58",
   "metadata": {
    "tags": []
   },
   "outputs": [
    {
     "data": {
      "text/plain": [
       "30-element Vector{String}:\n",
       " \"fn1\"\n",
       " \"fn2\"\n",
       " \"fn3\"\n",
       " \"fn4\"\n",
       " \"fn5\"\n",
       " \"fn6\"\n",
       " \"fn7\"\n",
       " \"fn8\"\n",
       " \"fn9\"\n",
       " \"fn10\"\n",
       " \"fn11\"\n",
       " \"fn12\"\n",
       " \"fn13\"\n",
       " ⋮\n",
       " \"fn19\"\n",
       " \"fn20\"\n",
       " \"fn21\"\n",
       " \"fn22\"\n",
       " \"fn23\"\n",
       " \"fn24\"\n",
       " \"fn25\"\n",
       " \"fn26\"\n",
       " \"fn27\"\n",
       " \"fn28\"\n",
       " \"fn29\"\n",
       " \"fn30\""
      ]
     },
     "execution_count": 212,
     "metadata": {},
     "output_type": "execute_result"
    }
   ],
   "source": [
    "N = 30\n",
    "A313 = [\"fn$i\" for i in 1:N]"
   ]
  },
  {
   "cell_type": "markdown",
   "id": "95f11ce3-ce49-4df2-877a-70c928823e63",
   "metadata": {},
   "source": [
    "3.14) векторы $𝑥 = (𝑥_1, 𝑥_2, … , 𝑥_𝑛)$ и $𝑦 = (𝑦_1, 𝑦_2, … , 𝑦_𝑛)$ целочисленного типа длины $𝑛 = 250$ как случайные выборки из совокупности $0, 1, … , 999$; \n",
    "на его основе:"
   ]
  },
  {
   "cell_type": "code",
   "execution_count": 223,
   "id": "13b42be9-baca-47c5-a1a5-260bc8dcf8c9",
   "metadata": {
    "tags": []
   },
   "outputs": [
    {
     "data": {
      "text/plain": [
       "250-element Vector{Int64}:\n",
       " 304\n",
       " 903\n",
       " 949\n",
       " 531\n",
       " 245\n",
       " 968\n",
       " 953\n",
       " 414\n",
       " 692\n",
       " 717\n",
       "  46\n",
       " 582\n",
       " 146\n",
       "   ⋮\n",
       " 919\n",
       " 718\n",
       " 407\n",
       " 231\n",
       "  59\n",
       " 246\n",
       " 756\n",
       " 199\n",
       " 322\n",
       " 939\n",
       " 498\n",
       " 297"
      ]
     },
     "execution_count": 223,
     "metadata": {},
     "output_type": "execute_result"
    }
   ],
   "source": [
    "x = [rand(0:999) for i in 1:n]"
   ]
  },
  {
   "cell_type": "code",
   "execution_count": 224,
   "id": "fb249545-9b48-4565-afc2-3b28d69bbbe3",
   "metadata": {
    "tags": []
   },
   "outputs": [
    {
     "data": {
      "text/plain": [
       "250-element Vector{Int64}:\n",
       " 752\n",
       " 859\n",
       "  49\n",
       " 809\n",
       " 904\n",
       " 814\n",
       " 511\n",
       " 168\n",
       "  40\n",
       " 411\n",
       " 447\n",
       "  86\n",
       " 448\n",
       "   ⋮\n",
       " 987\n",
       " 285\n",
       " 804\n",
       " 612\n",
       " 602\n",
       " 410\n",
       "  36\n",
       " 677\n",
       " 887\n",
       " 614\n",
       "  92\n",
       " 391"
      ]
     },
     "execution_count": 224,
     "metadata": {},
     "output_type": "execute_result"
    }
   ],
   "source": [
    "y = [rand(0:999) for i in 1:n]"
   ]
  },
  {
   "cell_type": "markdown",
   "id": "97af1918-cc59-4cf9-b9be-43c134b57bbb",
   "metadata": {},
   "source": [
    "– сформируйте вектор $(𝑦_2 − 𝑥_1, \\dots, 𝑦_𝑛 − 𝑥_{𝑛−1})$;"
   ]
  },
  {
   "cell_type": "code",
   "execution_count": 225,
   "id": "323241b3-640b-4813-b8d5-8b94a4422853",
   "metadata": {
    "tags": []
   },
   "outputs": [
    {
     "data": {
      "text/plain": [
       "249-element Vector{Int64}:\n",
       "  555\n",
       " -854\n",
       " -140\n",
       "  373\n",
       "  569\n",
       " -457\n",
       " -785\n",
       " -374\n",
       " -281\n",
       " -270\n",
       "   40\n",
       " -134\n",
       "  761\n",
       "    ⋮\n",
       "  237\n",
       " -634\n",
       "   86\n",
       "  205\n",
       "  371\n",
       "  351\n",
       " -210\n",
       "  -79\n",
       "  688\n",
       "  292\n",
       " -847\n",
       " -107"
      ]
     },
     "execution_count": 225,
     "metadata": {},
     "output_type": "execute_result"
    }
   ],
   "source": [
    "y_minus_x = [y[i] - x[i-1] for i ∈ 2:n]"
   ]
  },
  {
   "cell_type": "markdown",
   "id": "de5ac964-9b0c-4dc7-b902-a89315eaf5f2",
   "metadata": {},
   "source": [
    "– сформируйте вектор $(𝑥_1 + 2𝑥_2 − 𝑥_3, 𝑥_2 + 2𝑥_3 − 𝑥_4, \\dots, 𝑥_{𝑛−2} + 2𝑥_{𝑛−1} − 𝑥_𝑛)$;"
   ]
  },
  {
   "cell_type": "code",
   "execution_count": 226,
   "id": "a78da39c-2331-4e58-a2e1-da9648c631a3",
   "metadata": {
    "tags": []
   },
   "outputs": [
    {
     "data": {
      "text/plain": [
       "248-element Vector{Int64}:\n",
       " 1161\n",
       " 2270\n",
       " 1766\n",
       "   53\n",
       " 1228\n",
       " 2460\n",
       " 1089\n",
       " 1081\n",
       " 2080\n",
       "  227\n",
       " 1064\n",
       "   28\n",
       " 1026\n",
       "    ⋮\n",
       " 1245\n",
       " 1870\n",
       " 1948\n",
       " 1301\n",
       "  810\n",
       "  103\n",
       " -205\n",
       " 1559\n",
       "  832\n",
       "  -96\n",
       " 1702\n",
       " 1638"
      ]
     },
     "execution_count": 226,
     "metadata": {},
     "output_type": "execute_result"
    }
   ],
   "source": [
    "x1_plus_2x2_minus_x3 = [x[i] + 2*x[i+1] - x[i+2] for i ∈ 1:n-2]"
   ]
  },
  {
   "cell_type": "markdown",
   "id": "2833d9dd-4fd5-4e20-81fe-b806f8ad3928",
   "metadata": {},
   "source": [
    "– сформируйте вектор $(\\frac{\\sin(y_1)}{\\cos(x_2)}, \\frac{\\sin(y_2)}{\\cos(x_3)}, \\dots, \\frac{\\sin(y_{n-1})}{\\cos(x_n)})$"
   ]
  },
  {
   "cell_type": "code",
   "execution_count": 227,
   "id": "fb3f0b11-ee34-4528-9604-2f77edfddb07",
   "metadata": {
    "tags": []
   },
   "outputs": [
    {
     "data": {
      "text/plain": [
       "249-element Vector{Float64}:\n",
       "   4.440762796604472\n",
       "  -1.0031818070105352\n",
       "   0.9561508827440894\n",
       "  -1.000182463515962\n",
       "  -0.7591972657062622\n",
       "   0.7056098258205616\n",
       "   1.1435236257292338\n",
       "  -1.5102475163473301\n",
       "   0.9883937960184693\n",
       "  -1.2067373827245433\n",
       "  -1.1250376112108684\n",
       " -10.998864247308298\n",
       "  -1.5481986411729924\n",
       "   ⋮\n",
       "  11.86408519204383\n",
       "  -3.5315825458429986\n",
       "   4.747080802129639\n",
       "  -2.641994690524218\n",
       "  -0.743544523690401\n",
       "  -1.606294475559757\n",
       "  -2.3130027041569248\n",
       "   2.1028939413502497\n",
       " -75.48444446193533\n",
       "  -0.9296670498176479\n",
       "  17.096364201961297\n",
       "   6.538592779718017"
      ]
     },
     "execution_count": 227,
     "metadata": {},
     "output_type": "execute_result"
    }
   ],
   "source": [
    "siny_divide_cosx = [sin(y[i-1]) / cos(x[i]) for i ∈ 2:n]"
   ]
  },
  {
   "cell_type": "markdown",
   "id": "3f18b97a-073f-441b-80b7-09e835488e27",
   "metadata": {},
   "source": [
    "– вычислите $\\sum\\limits_{i = 1}^{n-1} \\frac{e^{-x_{i+1}}}{x_i + 10}$"
   ]
  },
  {
   "cell_type": "code",
   "execution_count": 228,
   "id": "2861e109-8474-4246-97e5-113e065ae50c",
   "metadata": {
    "tags": []
   },
   "outputs": [
    {
     "data": {
      "text/plain": [
       "249-element Vector{Float64}:\n",
       " 0.0\n",
       " 0.0\n",
       " 2.5574756191608085e-234\n",
       " 7.322420557008654e-110\n",
       " 0.0\n",
       " 0.0\n",
       " 1.6537056299290693e-183\n",
       " 6.931906024237895e-304\n",
       " 5.81459356e-315\n",
       " 1.448503075316893e-23\n",
       " 3.1075884977133967e-255\n",
       " 6.617347406166209e-67\n",
       " 0.0\n",
       " ⋮\n",
       " 0.0\n",
       " 1.616390463e-315\n",
       " 2.3989129343706285e-180\n",
       " 1.1424537443123088e-103\n",
       " 9.876624102466392e-29\n",
       " 2.1120702587699017e-109\n",
       " 0.0\n",
       " 4.910993186809479e-90\n",
       " 6.871167586659815e-143\n",
       " 0.0\n",
       " 5.547301870445639e-220\n",
       " 2.0355190089610133e-132"
      ]
     },
     "execution_count": 228,
     "metadata": {},
     "output_type": "execute_result"
    }
   ],
   "source": [
    "S314_array = [exp(-x[i+1])/(x[i]+10) for i ∈ 1:n-1]"
   ]
  },
  {
   "cell_type": "code",
   "execution_count": 229,
   "id": "f0fa340c-db58-4f14-adfb-53bb6ddd606c",
   "metadata": {
    "tags": []
   },
   "outputs": [
    {
     "data": {
      "text/plain": [
       "0.0029792248348674754"
      ]
     },
     "execution_count": 229,
     "metadata": {},
     "output_type": "execute_result"
    }
   ],
   "source": [
    "S314 = sum(S314_array)"
   ]
  },
  {
   "cell_type": "markdown",
   "id": "b5017029-eb0c-4b9d-9fbf-5e1d5cf069ea",
   "metadata": {},
   "source": [
    "– выберите элементы вектора 𝑦, значения которых больше 600, и выведите на экран; определите индексы этих элементов;"
   ]
  },
  {
   "cell_type": "code",
   "execution_count": 235,
   "id": "1cec1995-a5de-41bd-94ca-27c6f0d4b629",
   "metadata": {
    "tags": []
   },
   "outputs": [
    {
     "data": {
      "text/plain": [
       "113-element Vector{Int64}:\n",
       " 752\n",
       " 859\n",
       " 809\n",
       " 904\n",
       " 814\n",
       " 907\n",
       " 664\n",
       " 629\n",
       " 778\n",
       " 870\n",
       " 690\n",
       " 835\n",
       " 622\n",
       "   ⋮\n",
       " 759\n",
       " 837\n",
       " 852\n",
       " 630\n",
       " 887\n",
       " 987\n",
       " 804\n",
       " 612\n",
       " 602\n",
       " 677\n",
       " 887\n",
       " 614"
      ]
     },
     "execution_count": 235,
     "metadata": {},
     "output_type": "execute_result"
    }
   ],
   "source": [
    "y_bigger_than_600 = [y_ for y_ ∈ y if y_ > 600]"
   ]
  },
  {
   "cell_type": "code",
   "execution_count": 236,
   "id": "4e482f23-2fd4-46b0-b96b-7727ef5d2df6",
   "metadata": {
    "tags": []
   },
   "outputs": [
    {
     "data": {
      "text/plain": [
       "113-element Vector{Int64}:\n",
       "   1\n",
       "   2\n",
       "   4\n",
       "   5\n",
       "   6\n",
       "  14\n",
       "  15\n",
       "  16\n",
       "  17\n",
       "  18\n",
       "  19\n",
       "  20\n",
       "  21\n",
       "   ⋮\n",
       " 227\n",
       " 229\n",
       " 232\n",
       " 233\n",
       " 235\n",
       " 239\n",
       " 241\n",
       " 242\n",
       " 243\n",
       " 246\n",
       " 247\n",
       " 248"
      ]
     },
     "execution_count": 236,
     "metadata": {},
     "output_type": "execute_result"
    }
   ],
   "source": [
    "indexes_y_bigger_than_600 = findall(y .> 600)"
   ]
  },
  {
   "cell_type": "markdown",
   "id": "276c3d1d-1289-4077-9231-5b28ce99f073",
   "metadata": {
    "tags": []
   },
   "source": [
    "– определите значения вектора 𝑥, соответствующие значениям вектора 𝑦, значения которых больше 600 (под соответствием понимается расположение на\n",
    "аналогичных индексных позициях);"
   ]
  },
  {
   "cell_type": "code",
   "execution_count": 238,
   "id": "201d2e5a-0878-4803-ad57-3e5cf147b1c4",
   "metadata": {
    "tags": []
   },
   "outputs": [
    {
     "data": {
      "text/plain": [
       "113-element Vector{Int64}:\n",
       " 304\n",
       " 903\n",
       " 531\n",
       " 245\n",
       " 968\n",
       " 846\n",
       " 812\n",
       " 204\n",
       "  57\n",
       "   7\n",
       " 339\n",
       " 618\n",
       " 913\n",
       "   ⋮\n",
       " 976\n",
       " 239\n",
       " 133\n",
       " 787\n",
       " 274\n",
       " 919\n",
       " 407\n",
       " 231\n",
       "  59\n",
       " 199\n",
       " 322\n",
       " 939"
      ]
     },
     "execution_count": 238,
     "metadata": {},
     "output_type": "execute_result"
    }
   ],
   "source": [
    "x_with_indexes_as_y_bigger_than_600 = [x[i] for i ∈ indexes_y_bigger_than_600]"
   ]
  },
  {
   "cell_type": "markdown",
   "id": "3d11e8c3-034a-46cc-b262-14da67b0c3fc",
   "metadata": {},
   "source": [
    "– сформируйте вектор $(|𝑥_1 − \\overline{x}|, |𝑥_2 − \\overline{x}|, \\dots, |𝑥_n − \\overline{x}|)$, где $\\overline{𝑥}$ обозначает\n",
    "среднее значение вектора $x = (x_1, x_2, \\dots, x_n)$"
   ]
  },
  {
   "cell_type": "code",
   "execution_count": 239,
   "id": "d4e3837f-03fc-4bba-b7fd-a11eeaa561f2",
   "metadata": {
    "tags": []
   },
   "outputs": [
    {
     "data": {
      "text/plain": [
       "500.776"
      ]
     },
     "execution_count": 239,
     "metadata": {},
     "output_type": "execute_result"
    }
   ],
   "source": [
    "avg_x = sum(x)/length(x)"
   ]
  },
  {
   "cell_type": "code",
   "execution_count": 240,
   "id": "a558237e-2ab6-4a38-b79a-48730c874d37",
   "metadata": {
    "tags": []
   },
   "outputs": [
    {
     "data": {
      "text/plain": [
       "250-element Vector{Float64}:\n",
       " 196.776\n",
       " 402.224\n",
       " 448.224\n",
       "  30.22399999999999\n",
       " 255.776\n",
       " 467.224\n",
       " 452.224\n",
       "  86.77600000000001\n",
       " 191.224\n",
       " 216.224\n",
       " 454.776\n",
       "  81.22399999999999\n",
       " 354.776\n",
       "   ⋮\n",
       " 418.224\n",
       " 217.224\n",
       "  93.77600000000001\n",
       " 269.776\n",
       " 441.776\n",
       " 254.776\n",
       " 255.224\n",
       " 301.776\n",
       " 178.776\n",
       " 438.224\n",
       "   2.7760000000000105\n",
       " 203.776"
      ]
     },
     "execution_count": 240,
     "metadata": {},
     "output_type": "execute_result"
    }
   ],
   "source": [
    "abs_x_minus_avgx = [abs(x[i] - avg_x) for i ∈ 1:n]"
   ]
  },
  {
   "cell_type": "markdown",
   "id": "280ec0b5-66ef-45dd-b22f-620808c6cf50",
   "metadata": {},
   "source": [
    "– определите, сколько элементов вектора 𝑦 отстоят от максимального значения не более, чем на 200;"
   ]
  },
  {
   "cell_type": "code",
   "execution_count": 241,
   "id": "6087116f-8ed7-4f24-a104-42a8ca28eabe",
   "metadata": {
    "tags": []
   },
   "outputs": [
    {
     "data": {
      "text/plain": [
       "993"
      ]
     },
     "execution_count": 241,
     "metadata": {},
     "output_type": "execute_result"
    }
   ],
   "source": [
    "y_max = maximum(y)"
   ]
  },
  {
   "cell_type": "code",
   "execution_count": 242,
   "id": "c5633256-732d-4d36-8802-5dec7961dbe2",
   "metadata": {
    "tags": []
   },
   "outputs": [
    {
     "data": {
      "text/plain": [
       "54-element Vector{Int64}:\n",
       " 859\n",
       " 809\n",
       " 904\n",
       " 814\n",
       " 907\n",
       " 870\n",
       " 835\n",
       " 852\n",
       " 803\n",
       " 924\n",
       " 798\n",
       " 881\n",
       " 866\n",
       "   ⋮\n",
       " 952\n",
       " 836\n",
       " 934\n",
       " 978\n",
       " 941\n",
       " 950\n",
       " 837\n",
       " 852\n",
       " 887\n",
       " 987\n",
       " 804\n",
       " 887"
      ]
     },
     "execution_count": 242,
     "metadata": {},
     "output_type": "execute_result"
    }
   ],
   "source": [
    "y_dist_less_than_maxy_by200 = [y_ for y_ in y if abs(y_ - y_max) <= 200]"
   ]
  },
  {
   "cell_type": "code",
   "execution_count": 243,
   "id": "3d35a66e-f9f2-401d-a3cf-36b3b988d475",
   "metadata": {
    "tags": []
   },
   "outputs": [
    {
     "data": {
      "text/plain": [
       "54"
      ]
     },
     "execution_count": 243,
     "metadata": {},
     "output_type": "execute_result"
    }
   ],
   "source": [
    "number_of_y_dist_less_than_maxy_by200 = length(y_dist_less_than_maxy_by200)"
   ]
  },
  {
   "cell_type": "markdown",
   "id": "dcae7d60-5a78-47bc-8378-36c041258870",
   "metadata": {},
   "source": [
    "– определите, сколько чётных и нечётных элементов вектора 𝑥;"
   ]
  },
  {
   "cell_type": "code",
   "execution_count": 246,
   "id": "842aad50-9c27-406e-8bc5-9df8e8fce7b1",
   "metadata": {
    "tags": []
   },
   "outputs": [
    {
     "data": {
      "text/plain": [
       "130"
      ]
     },
     "execution_count": 246,
     "metadata": {},
     "output_type": "execute_result"
    }
   ],
   "source": [
    "number_of_odd_x = count(i->(i % 2 == 1), x)"
   ]
  },
  {
   "cell_type": "code",
   "execution_count": 248,
   "id": "a2610b7f-ee48-4766-9b92-850888378eed",
   "metadata": {
    "tags": []
   },
   "outputs": [
    {
     "data": {
      "text/plain": [
       "120"
      ]
     },
     "execution_count": 248,
     "metadata": {},
     "output_type": "execute_result"
    }
   ],
   "source": [
    "number_of_even_x = length([i for i ∈ x if i % 2 == 0])"
   ]
  },
  {
   "cell_type": "markdown",
   "id": "f89487cf-00a0-4da2-9373-1e2e079bbaf0",
   "metadata": {},
   "source": [
    "– определите, сколько элементов вектора 𝑥 кратны 7;"
   ]
  },
  {
   "cell_type": "code",
   "execution_count": 249,
   "id": "6f5539ea-f0e7-4fa0-b2f1-f9bc217ecd65",
   "metadata": {
    "tags": []
   },
   "outputs": [
    {
     "data": {
      "text/plain": [
       "39"
      ]
     },
     "execution_count": 249,
     "metadata": {},
     "output_type": "execute_result"
    }
   ],
   "source": [
    "number_of_x_divisible_by_7 = length([x_ for x_ ∈ x if x_ % 7 == 0])"
   ]
  },
  {
   "cell_type": "markdown",
   "id": "27d093f6-447d-4a85-ac5d-5677f38fa3d7",
   "metadata": {},
   "source": [
    "– отсортируйте элементы вектора 𝑥 в порядке возрастания элементов вектора 𝑦;"
   ]
  },
  {
   "cell_type": "code",
   "execution_count": 255,
   "id": "65d2f15a-fc21-49cf-bad1-f1179adb282b",
   "metadata": {
    "tags": []
   },
   "outputs": [
    {
     "data": {
      "text/plain": [
       "250-element Vector{Int64}:\n",
       "  53\n",
       " 174\n",
       " 170\n",
       "  29\n",
       " 237\n",
       " 245\n",
       "   9\n",
       " 214\n",
       "  90\n",
       " 130\n",
       " 223\n",
       "  22\n",
       "   3\n",
       "   ⋮\n",
       " 224\n",
       "  57\n",
       " 225\n",
       " 185\n",
       " 189\n",
       " 138\n",
       " 211\n",
       "  78\n",
       " 145\n",
       " 239\n",
       " 102\n",
       " 120"
      ]
     },
     "execution_count": 255,
     "metadata": {},
     "output_type": "execute_result"
    }
   ],
   "source": [
    "y_ascending_order_indexes = sortperm(y) # Индексы отсортированного по возрастанию массива y"
   ]
  },
  {
   "cell_type": "code",
   "execution_count": 262,
   "id": "9db6de31-caba-44b8-ae99-82a89aa36392",
   "metadata": {
    "tags": []
   },
   "outputs": [
    {
     "data": {
      "text/plain": [
       "250-element Vector{Int64}:\n",
       " 307\n",
       "  40\n",
       " 330\n",
       " 285\n",
       " 664\n",
       " 756\n",
       " 692\n",
       " 102\n",
       "  96\n",
       " 710\n",
       " 831\n",
       " 733\n",
       " 949\n",
       "   ⋮\n",
       " 251\n",
       " 704\n",
       " 350\n",
       " 332\n",
       " 739\n",
       " 593\n",
       " 993\n",
       " 700\n",
       " 294\n",
       " 919\n",
       " 769\n",
       " 884"
      ]
     },
     "execution_count": 262,
     "metadata": {},
     "output_type": "execute_result"
    }
   ],
   "source": [
    "#x_sorted_by_indexes_of_y_ascending_order = [x[i] for i ∈ y_ascending_order_indexes]\n",
    "x_sorted_by_indexes_of_y_ascending_order = x[sortperm(y)]"
   ]
  },
  {
   "cell_type": "markdown",
   "id": "f5644161-ed82-45fc-adef-ff670f39067f",
   "metadata": {},
   "source": [
    "– выведите элементы вектора 𝑥, которые входят в десятку наибольших (top-10)"
   ]
  },
  {
   "cell_type": "code",
   "execution_count": 258,
   "id": "c25112c6-9009-4c9b-afa0-0b3eb5a84cff",
   "metadata": {
    "tags": []
   },
   "outputs": [
    {
     "data": {
      "text/plain": [
       "10-element Vector{Int64}:\n",
       " 968\n",
       " 970\n",
       " 976\n",
       " 977\n",
       " 984\n",
       " 985\n",
       " 989\n",
       " 993\n",
       " 994\n",
       " 995"
      ]
     },
     "execution_count": 258,
     "metadata": {},
     "output_type": "execute_result"
    }
   ],
   "source": [
    "top_10_x = sort(x)[end-9:end]"
   ]
  },
  {
   "cell_type": "markdown",
   "id": "6a4c3e82-fbf7-4224-a8d0-83889ddca390",
   "metadata": {},
   "source": [
    "– сформируйте вектор, содержащий только уникальные (неповторяющиеся) элементы вектора $x$"
   ]
  },
  {
   "cell_type": "code",
   "execution_count": 259,
   "id": "f9d65841-ca61-416e-a5e7-5b3f25c5f3e8",
   "metadata": {
    "tags": []
   },
   "outputs": [
    {
     "data": {
      "text/plain": [
       "228-element Vector{Int64}:\n",
       " 304\n",
       " 903\n",
       " 949\n",
       " 531\n",
       " 245\n",
       " 968\n",
       " 953\n",
       " 414\n",
       " 692\n",
       " 717\n",
       "  46\n",
       " 582\n",
       " 146\n",
       "   ⋮\n",
       " 919\n",
       " 718\n",
       " 407\n",
       " 231\n",
       "  59\n",
       " 246\n",
       " 756\n",
       " 199\n",
       " 322\n",
       " 939\n",
       " 498\n",
       " 297"
      ]
     },
     "execution_count": 259,
     "metadata": {},
     "output_type": "execute_result"
    }
   ],
   "source": [
    "x_unique = unique(x)"
   ]
  },
  {
   "cell_type": "markdown",
   "id": "d388167c-7359-4ca3-aa19-779301c412b6",
   "metadata": {},
   "source": [
    "### 4. Создайте массив squares, в котором будут храниться квадраты всех целых чисел от 1 до 100"
   ]
  },
  {
   "cell_type": "code",
   "execution_count": 260,
   "id": "51bc28c9-6391-4ff4-ba63-bad05c137b73",
   "metadata": {
    "tags": []
   },
   "outputs": [
    {
     "data": {
      "text/plain": [
       "100-element Vector{Int64}:\n",
       "     1\n",
       "     4\n",
       "     9\n",
       "    16\n",
       "    25\n",
       "    36\n",
       "    49\n",
       "    64\n",
       "    81\n",
       "   100\n",
       "   121\n",
       "   144\n",
       "   169\n",
       "     ⋮\n",
       "  7921\n",
       "  8100\n",
       "  8281\n",
       "  8464\n",
       "  8649\n",
       "  8836\n",
       "  9025\n",
       "  9216\n",
       "  9409\n",
       "  9604\n",
       "  9801\n",
       " 10000"
      ]
     },
     "execution_count": 260,
     "metadata": {},
     "output_type": "execute_result"
    }
   ],
   "source": [
    "squares = [i^2 for i ∈ 1:100]"
   ]
  },
  {
   "cell_type": "markdown",
   "id": "5d485cf4-115c-4107-a727-ffc8f60cc9e7",
   "metadata": {},
   "source": [
    "### 5. Подключите пакет Primes (функции для вычисления простых чисел)"
   ]
  },
  {
   "cell_type": "markdown",
   "id": "76e98cc6-47fe-4143-8505-d4a9b9227eba",
   "metadata": {},
   "source": [
    "Сгенерируйте\n",
    "массив myprimes, в котором будут храниться первые 168 простых чисел. Определите\n",
    "89-е наименьшее простое число. Получите срез массива с 89-го до 99-го элемента\n",
    "включительно, содержащий наименьшие простые числа."
   ]
  },
  {
   "cell_type": "code",
   "execution_count": 261,
   "id": "913d81eb-ebc9-49ef-980a-b60fdbd1b4d1",
   "metadata": {
    "tags": []
   },
   "outputs": [
    {
     "name": "stderr",
     "output_type": "stream",
     "text": [
      "\u001b[32m\u001b[1m    Updating\u001b[22m\u001b[39m registry at `C:\\Users\\User\\.julia\\registries\\General.toml`\n",
      "\u001b[32m\u001b[1m   Resolving\u001b[22m\u001b[39m package versions...\n",
      "\u001b[32m\u001b[1m   Installed\u001b[22m\u001b[39m Primes ─────────── v0.5.5\n",
      "\u001b[32m\u001b[1m   Installed\u001b[22m\u001b[39m IntegerMathUtils ─ v0.1.2\n",
      "\u001b[32m\u001b[1m    Updating\u001b[22m\u001b[39m `C:\\Users\\User\\.julia\\environments\\v1.8\\Project.toml`\n",
      " \u001b[90m [27ebfcd6] \u001b[39m\u001b[92m+ Primes v0.5.5\u001b[39m\n",
      "\u001b[32m\u001b[1m    Updating\u001b[22m\u001b[39m `C:\\Users\\User\\.julia\\environments\\v1.8\\Manifest.toml`\n",
      " \u001b[90m [18e54dd8] \u001b[39m\u001b[92m+ IntegerMathUtils v0.1.2\u001b[39m\n",
      " \u001b[90m [27ebfcd6] \u001b[39m\u001b[92m+ Primes v0.5.5\u001b[39m\n",
      "\u001b[32m\u001b[1mPrecompiling\u001b[22m\u001b[39m project...\n",
      "\u001b[32m  ✓ \u001b[39m\u001b[90mIntegerMathUtils\u001b[39m\n",
      "\u001b[32m  ✓ \u001b[39mPrimes\n",
      "  2 dependencies successfully precompiled in 31 seconds. 285 already precompiled.\n"
     ]
    }
   ],
   "source": [
    "import Pkg\n",
    "Pkg.add(\"Primes\")\n",
    "using Primes"
   ]
  },
  {
   "cell_type": "code",
   "execution_count": 264,
   "id": "c046989e-6abe-45f4-80df-b03dace8c12d",
   "metadata": {
    "tags": []
   },
   "outputs": [
    {
     "data": {
      "text/plain": [
       "168-element Vector{Int64}:\n",
       "   2\n",
       "   3\n",
       "   5\n",
       "   7\n",
       "  11\n",
       "  13\n",
       "  17\n",
       "  19\n",
       "  23\n",
       "  29\n",
       "  31\n",
       "  37\n",
       "  41\n",
       "   ⋮\n",
       " 919\n",
       " 929\n",
       " 937\n",
       " 941\n",
       " 947\n",
       " 953\n",
       " 967\n",
       " 971\n",
       " 977\n",
       " 983\n",
       " 991\n",
       " 997"
      ]
     },
     "execution_count": 264,
     "metadata": {},
     "output_type": "execute_result"
    }
   ],
   "source": [
    "myprimes = primes(1000)"
   ]
  },
  {
   "cell_type": "code",
   "execution_count": 265,
   "id": "071d9496-88ea-410b-a327-7641d122a2ad",
   "metadata": {
    "tags": []
   },
   "outputs": [
    {
     "data": {
      "text/plain": [
       "461"
      ]
     },
     "execution_count": 265,
     "metadata": {},
     "output_type": "execute_result"
    }
   ],
   "source": [
    "myprimes[89]"
   ]
  },
  {
   "cell_type": "code",
   "execution_count": 266,
   "id": "61b80c75-b0e9-469e-9fe1-c60ab88a435b",
   "metadata": {
    "tags": []
   },
   "outputs": [
    {
     "data": {
      "text/plain": [
       "11-element Vector{Int64}:\n",
       " 461\n",
       " 463\n",
       " 467\n",
       " 479\n",
       " 487\n",
       " 491\n",
       " 499\n",
       " 503\n",
       " 509\n",
       " 521\n",
       " 523"
      ]
     },
     "execution_count": 266,
     "metadata": {},
     "output_type": "execute_result"
    }
   ],
   "source": [
    "myprimes[89:99]"
   ]
  },
  {
   "cell_type": "markdown",
   "id": "7d3c125b-f57a-464c-a25e-59ff5d95fee6",
   "metadata": {},
   "source": [
    "### 6. Вычислите следующие выражения:"
   ]
  },
  {
   "cell_type": "markdown",
   "id": "b122602a-39ff-46a8-a5c4-0df3c7a8752d",
   "metadata": {},
   "source": [
    "6.1) $\\sum\\limits_{i=10}^{100} (i^3 + 4i^2)$"
   ]
  },
  {
   "cell_type": "code",
   "execution_count": 267,
   "id": "4edee76a-3ea5-4cd0-8023-455e55581e81",
   "metadata": {
    "tags": []
   },
   "outputs": [
    {
     "data": {
      "text/plain": [
       "26852735"
      ]
     },
     "execution_count": 267,
     "metadata": {},
     "output_type": "execute_result"
    }
   ],
   "source": [
    "S61 = sum([i^3 + 4*i^2 for i ∈ 10:100])"
   ]
  },
  {
   "cell_type": "markdown",
   "id": "e47ccabc-6e59-4b41-a34d-b421e4e1e200",
   "metadata": {},
   "source": [
    "6.2) $\\sum\\limits_{i=1}^{M} (\\frac{2^i}{i} + \\frac{3^i}{i^2})$, где $M = 25$"
   ]
  },
  {
   "cell_type": "code",
   "execution_count": 270,
   "id": "71819464-4067-4cac-af2f-143ffb0bdc10",
   "metadata": {
    "tags": []
   },
   "outputs": [
    {
     "data": {
      "text/plain": [
       "2.1291704368143802e9"
      ]
     },
     "execution_count": 270,
     "metadata": {},
     "output_type": "execute_result"
    }
   ],
   "source": [
    "S62 = reduce(+, [2^i / i + 3^i / i^2 for i ∈ 1:M])"
   ]
  },
  {
   "cell_type": "markdown",
   "id": "0215cd13-7254-456a-bfde-88b55af9b2e1",
   "metadata": {},
   "source": [
    "6.3) $1 + \\frac{2}{3} + (\\frac{2}{3}\\frac{4}{5}) + (\\frac{2}{3}\\frac{4}{5}\\frac{6}{7}) + \\cdots + (\\frac{2}{3}\\frac{4}{5} \\cdots \\frac{38}{39})$"
   ]
  },
  {
   "cell_type": "code",
   "execution_count": 279,
   "id": "83b06dc9-ac06-4152-b400-715f17f53448",
   "metadata": {
    "tags": []
   },
   "outputs": [
    {
     "data": {
      "text/plain": [
       "19-element Vector{Rational{Int64}}:\n",
       "  2//3\n",
       "  4//5\n",
       "  6//7\n",
       "  8//9\n",
       " 10//11\n",
       " 12//13\n",
       " 14//15\n",
       " 16//17\n",
       " 18//19\n",
       " 20//21\n",
       " 22//23\n",
       " 24//25\n",
       " 26//27\n",
       " 28//29\n",
       " 30//31\n",
       " 32//33\n",
       " 34//35\n",
       " 36//37\n",
       " 38//39"
      ]
     },
     "execution_count": 279,
     "metadata": {},
     "output_type": "execute_result"
    }
   ],
   "source": [
    "[1 - 1//i for i ∈ 3:2:39]"
   ]
  },
  {
   "cell_type": "code",
   "execution_count": 280,
   "id": "b821ac75-0fe1-4e35-bc75-3c7ae27ef91b",
   "metadata": {
    "tags": []
   },
   "outputs": [
    {
     "data": {
      "text/plain": [
       "19-element Vector{Rational{Int64}}:\n",
       "           2//3\n",
       "           8//15\n",
       "          16//35\n",
       "         128//315\n",
       "         256//693\n",
       "        1024//3003\n",
       "        2048//6435\n",
       "       32768//109395\n",
       "       65536//230945\n",
       "      262144//969969\n",
       "      524288//2028117\n",
       "     4194304//16900975\n",
       "     8388608//35102025\n",
       "    33554432//145422675\n",
       "    67108864//300540195\n",
       "  2147483648//9917826435\n",
       "  4294967296//20419054425\n",
       " 17179869184//83945001525\n",
       " 34359738368//172308161025"
      ]
     },
     "execution_count": 280,
     "metadata": {},
     "output_type": "execute_result"
    }
   ],
   "source": [
    "cumprod([1 - 1//i for i ∈ 3:2:39])"
   ]
  },
  {
   "cell_type": "code",
   "execution_count": 288,
   "id": "c2f1ca1f-9447-476c-ae33-4ff6cfe8986d",
   "metadata": {
    "tags": []
   },
   "outputs": [
    {
     "data": {
      "text/plain": [
       "6.976346137897621"
      ]
     },
     "execution_count": 288,
     "metadata": {},
     "output_type": "execute_result"
    }
   ],
   "source": [
    "S63 = 1 + reduce(+, cumprod([1 - 1/i for i ∈ 3:2:39]))"
   ]
  },
  {
   "cell_type": "code",
   "execution_count": null,
   "id": "652c851c-2ac8-4336-857a-ea99712d61f9",
   "metadata": {},
   "outputs": [],
   "source": []
  }
 ],
 "metadata": {
  "kernelspec": {
   "display_name": "Julia 1.8.5",
   "language": "julia",
   "name": "julia-1.8"
  },
  "language_info": {
   "file_extension": ".jl",
   "mimetype": "application/julia",
   "name": "julia",
   "version": "1.8.5"
  }
 },
 "nbformat": 4,
 "nbformat_minor": 5
}
