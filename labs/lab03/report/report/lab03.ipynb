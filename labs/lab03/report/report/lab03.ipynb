{
 "cells": [
  {
   "cell_type": "markdown",
   "id": "a772639f-2868-47a9-9d43-47199feee939",
   "metadata": {},
   "source": [
    "# Лабораторная работа № 3. Управляющие структуры"
   ]
  },
  {
   "cell_type": "markdown",
   "id": "01399200-fb16-4432-b2ba-ace91ffbbcfc",
   "metadata": {},
   "source": [
    "## Повторение примеров"
   ]
  },
  {
   "cell_type": "markdown",
   "id": "98466c54-3572-4eba-b931-842cc3c76582",
   "metadata": {},
   "source": [
    "### Циклы while и for"
   ]
  },
  {
   "cell_type": "code",
   "execution_count": 4,
   "id": "19fffcd2-c5b4-4350-8635-4b9fdab7988c",
   "metadata": {
    "tags": []
   },
   "outputs": [
    {
     "name": "stdout",
     "output_type": "stream",
     "text": [
      "1\n",
      "2\n",
      "3\n",
      "4\n",
      "5\n",
      "6\n",
      "7\n",
      "8\n",
      "9\n",
      "10\n"
     ]
    }
   ],
   "source": [
    "# пока n<10 прибавить к n единицу и распечатать значение:\n",
    "n = 0\n",
    "while n < 10\n",
    "    n += 1\n",
    "    println(n)\n",
    "end"
   ]
  },
  {
   "cell_type": "code",
   "execution_count": 6,
   "id": "679579c2-5826-4234-910b-2b34330d8701",
   "metadata": {
    "tags": []
   },
   "outputs": [
    {
     "name": "stdout",
     "output_type": "stream",
     "text": [
      "Hi Ted, it's great to see you!\n",
      "Hi Robyn, it's great to see you!\n",
      "Hi Barney, it's great to see you!\n",
      "Hi Lily, it's great to see you!\n",
      "Hi Marshall, it's great to see you!\n"
     ]
    }
   ],
   "source": [
    "myfriends = [\"Ted\", \"Robyn\", \"Barney\", \"Lily\", \"Marshall\"]\n",
    "i = 1\n",
    "while i <= length(myfriends)\n",
    "    friend = myfriends[i]\n",
    "    println(\"Hi $friend, it's great to see you!\")\n",
    "    i += 1\n",
    "end"
   ]
  },
  {
   "cell_type": "code",
   "execution_count": 7,
   "id": "7887bfb9-e42c-4644-a6aa-7095cc83c2e9",
   "metadata": {
    "tags": []
   },
   "outputs": [
    {
     "name": "stdout",
     "output_type": "stream",
     "text": [
      "1\n",
      "3\n",
      "5\n",
      "7\n",
      "9\n"
     ]
    }
   ],
   "source": [
    "for n in 1:2:10\n",
    "    println(n)\n",
    "end"
   ]
  },
  {
   "cell_type": "code",
   "execution_count": 8,
   "id": "02b7a009-91ed-458b-b2ed-c72983c40e2d",
   "metadata": {
    "tags": []
   },
   "outputs": [
    {
     "name": "stdout",
     "output_type": "stream",
     "text": [
      "Hi Ted, it's great to see you!\n",
      "Hi Robyn, it's great to see you!\n",
      "Hi Barney, it's great to see you!\n",
      "Hi Lily, it's great to see you!\n",
      "Hi Marshall, it's great to see you!\n"
     ]
    }
   ],
   "source": [
    "myfriends = [\"Ted\", \"Robyn\", \"Barney\", \"Lily\", \"Marshall\"]\n",
    "for friend in myfriends\n",
    "    println(\"Hi $friend, it's great to see you!\")\n",
    "end"
   ]
  },
  {
   "cell_type": "code",
   "execution_count": 9,
   "id": "cd45b0e3-2937-4cd5-910e-5bd0fef1ab57",
   "metadata": {
    "tags": []
   },
   "outputs": [
    {
     "data": {
      "text/plain": [
       "5×5 Matrix{Int64}:\n",
       " 2  3  4  5   6\n",
       " 3  4  5  6   7\n",
       " 4  5  6  7   8\n",
       " 5  6  7  8   9\n",
       " 6  7  8  9  10"
      ]
     },
     "execution_count": 9,
     "metadata": {},
     "output_type": "execute_result"
    }
   ],
   "source": [
    "# инициализация массива m x n из нулей:\n",
    "m, n = 5, 5\n",
    "A = fill(0, (m, n))\n",
    "# формирование массива, в котором значение каждой записи\n",
    "# является суммой индексов строки и столбца:\n",
    "for i in 1:m\n",
    "    for j in 1:n\n",
    "        A[i, j] = i + j\n",
    "    end\n",
    "end\n",
    "A"
   ]
  },
  {
   "cell_type": "markdown",
   "id": "0b446ed3-64b3-49b2-b6df-41a4afdc8b50",
   "metadata": {},
   "source": [
    "Другая реализация этого же примера:"
   ]
  },
  {
   "cell_type": "code",
   "execution_count": 10,
   "id": "03b424b6-faac-463e-abfe-6c78586f42ba",
   "metadata": {
    "tags": []
   },
   "outputs": [
    {
     "data": {
      "text/plain": [
       "5×5 Matrix{Int64}:\n",
       " 2  3  4  5   6\n",
       " 3  4  5  6   7\n",
       " 4  5  6  7   8\n",
       " 5  6  7  8   9\n",
       " 6  7  8  9  10"
      ]
     },
     "execution_count": 10,
     "metadata": {},
     "output_type": "execute_result"
    }
   ],
   "source": [
    "# инициализация массива m x n из нулей:\n",
    "B = fill(0, (m, n))\n",
    "for i in 1:m, j in 1:n\n",
    "    B[i, j] = i + j\n",
    "end\n",
    "B"
   ]
  },
  {
   "cell_type": "markdown",
   "id": "0aa16544-cd8b-4d8e-b662-7f1263d68bb6",
   "metadata": {},
   "source": [
    "Ещё одна реализация этого же примера:"
   ]
  },
  {
   "cell_type": "code",
   "execution_count": 11,
   "id": "24aa8fb5-bca4-4f0f-adb1-c12a685b5dcb",
   "metadata": {
    "tags": []
   },
   "outputs": [
    {
     "data": {
      "text/plain": [
       "5×5 Matrix{Int64}:\n",
       " 2  3  4  5   6\n",
       " 3  4  5  6   7\n",
       " 4  5  6  7   8\n",
       " 5  6  7  8   9\n",
       " 6  7  8  9  10"
      ]
     },
     "execution_count": 11,
     "metadata": {},
     "output_type": "execute_result"
    }
   ],
   "source": [
    "C = [i + j for i in 1:m, j in 1:n]\n",
    "C"
   ]
  },
  {
   "cell_type": "markdown",
   "id": "8a9fe1a4-bd8c-4ab9-b4a3-076eec141af5",
   "metadata": {},
   "source": [
    "### Условные выражения"
   ]
  },
  {
   "cell_type": "code",
   "execution_count": 13,
   "id": "f73c6ba4-4466-41f8-9d47-ce0c14e87a79",
   "metadata": {
    "tags": []
   },
   "outputs": [
    {
     "name": "stdout",
     "output_type": "stream",
     "text": [
      "Buzz\n"
     ]
    }
   ],
   "source": [
    "# используем `&&` для реализации операции \"AND\"\n",
    "# операция % вычисляет остаток от деления\n",
    "N = 5\n",
    "if (N % 3 == 0) && (N % 5 == 0)\n",
    "    println(\"FizzBuzz\")\n",
    "elseif N % 3 == 0\n",
    "    println(\"Fizz\")\n",
    "elseif N % 5 == 0\n",
    "    println(\"Buzz\")\n",
    "else\n",
    "    println(N)\n",
    "end"
   ]
  },
  {
   "cell_type": "code",
   "execution_count": 14,
   "id": "855bf8e6-5e77-4b1a-82e3-5aa4a1f60dce",
   "metadata": {
    "tags": []
   },
   "outputs": [
    {
     "data": {
      "text/plain": [
       "10"
      ]
     },
     "execution_count": 14,
     "metadata": {},
     "output_type": "execute_result"
    }
   ],
   "source": [
    "x = 5\n",
    "y = 10\n",
    "(x > y) ? x : y"
   ]
  },
  {
   "cell_type": "markdown",
   "id": "8d40176f-0d10-4703-b2e3-f52352b4d817",
   "metadata": {},
   "source": [
    "### Функции"
   ]
  },
  {
   "cell_type": "code",
   "execution_count": 15,
   "id": "2e0e18b2-b641-42d5-9eb3-206cbb9ccd6d",
   "metadata": {
    "tags": []
   },
   "outputs": [
    {
     "data": {
      "text/plain": [
       "f (generic function with 1 method)"
      ]
     },
     "execution_count": 15,
     "metadata": {},
     "output_type": "execute_result"
    }
   ],
   "source": [
    "function sayhi(name)\n",
    "    println(\"Hi $name, it's great to see you!\")\n",
    "end\n",
    "# функция возведения в квадрат:\n",
    "function f(x)\n",
    "    x^2\n",
    "end"
   ]
  },
  {
   "cell_type": "markdown",
   "id": "8727fc55-6abe-457c-9483-073a28115364",
   "metadata": {},
   "source": [
    "Вызов функции осуществляется по её имени с указанием аргументов, например:"
   ]
  },
  {
   "cell_type": "code",
   "execution_count": 16,
   "id": "02258aa2-62ee-4195-9684-254903dfc6e9",
   "metadata": {
    "tags": []
   },
   "outputs": [
    {
     "name": "stdout",
     "output_type": "stream",
     "text": [
      "Hi C-3PO, it's great to see you!\n"
     ]
    },
    {
     "data": {
      "text/plain": [
       "1764"
      ]
     },
     "execution_count": 16,
     "metadata": {},
     "output_type": "execute_result"
    }
   ],
   "source": [
    "sayhi(\"C-3PO\")\n",
    "f(42)"
   ]
  },
  {
   "cell_type": "code",
   "execution_count": 17,
   "id": "70dd4785-a725-470a-ad1c-7fbf4b012333",
   "metadata": {
    "tags": []
   },
   "outputs": [
    {
     "data": {
      "text/plain": [
       "f2 (generic function with 1 method)"
      ]
     },
     "execution_count": 17,
     "metadata": {},
     "output_type": "execute_result"
    }
   ],
   "source": [
    "sayhi2(name) = println(\"Hi $name, it's great to see you!\")\n",
    "f2(x) = x^2"
   ]
  },
  {
   "cell_type": "markdown",
   "id": "d81114b9-2aa0-46cd-a2cb-37a11772c1e6",
   "metadata": {},
   "source": [
    "Наконец, можно объявить выше определённые функции как «анонимные»:"
   ]
  },
  {
   "cell_type": "code",
   "execution_count": 18,
   "id": "84fedd0a-55e5-4d98-b011-0e11c7f9a424",
   "metadata": {
    "tags": []
   },
   "outputs": [
    {
     "data": {
      "text/plain": [
       "#5 (generic function with 1 method)"
      ]
     },
     "execution_count": 18,
     "metadata": {},
     "output_type": "execute_result"
    }
   ],
   "source": [
    "sayhi3 = name -> println(\"Hi $name, it's great to see you!\")\n",
    "f3 = x -> x^2"
   ]
  },
  {
   "cell_type": "code",
   "execution_count": 20,
   "id": "33cbb0a6-7b8e-4b16-a732-eb03d3bd1e60",
   "metadata": {
    "tags": []
   },
   "outputs": [
    {
     "data": {
      "text/plain": [
       "3-element Vector{Int64}:\n",
       " 2\n",
       " 3\n",
       " 5"
      ]
     },
     "execution_count": 20,
     "metadata": {},
     "output_type": "execute_result"
    }
   ],
   "source": [
    "# задаём массив v:\n",
    "v = [3, 5, 2]\n",
    "sort(v)"
   ]
  },
  {
   "cell_type": "code",
   "execution_count": 21,
   "id": "773346fd-e5bb-4ad3-97d2-20322b9e5842",
   "metadata": {
    "tags": []
   },
   "outputs": [
    {
     "data": {
      "text/plain": [
       "3-element Vector{Int64}:\n",
       " 3\n",
       " 5\n",
       " 2"
      ]
     },
     "execution_count": 21,
     "metadata": {},
     "output_type": "execute_result"
    }
   ],
   "source": [
    "v"
   ]
  },
  {
   "cell_type": "code",
   "execution_count": 22,
   "id": "de8d780b-8e9f-4419-baa6-eccd24399906",
   "metadata": {
    "tags": []
   },
   "outputs": [
    {
     "data": {
      "text/plain": [
       "3-element Vector{Int64}:\n",
       " 2\n",
       " 3\n",
       " 5"
      ]
     },
     "execution_count": 22,
     "metadata": {},
     "output_type": "execute_result"
    }
   ],
   "source": [
    "sort!(v)"
   ]
  },
  {
   "cell_type": "code",
   "execution_count": 23,
   "id": "b8f76194-5a93-4889-8ce6-9d28bf3ded58",
   "metadata": {
    "tags": []
   },
   "outputs": [
    {
     "data": {
      "text/plain": [
       "3-element Vector{Int64}:\n",
       " 2\n",
       " 3\n",
       " 5"
      ]
     },
     "execution_count": 23,
     "metadata": {},
     "output_type": "execute_result"
    }
   ],
   "source": [
    "v"
   ]
  },
  {
   "cell_type": "code",
   "execution_count": 24,
   "id": "5b2aeaa9-60dc-4230-9f9a-ae36c59881dd",
   "metadata": {
    "tags": []
   },
   "outputs": [
    {
     "data": {
      "text/plain": [
       "3-element Vector{Int64}:\n",
       " 1\n",
       " 4\n",
       " 9"
      ]
     },
     "execution_count": 24,
     "metadata": {},
     "output_type": "execute_result"
    }
   ],
   "source": [
    "f(x) = x^2\n",
    "map(f, [1, 2, 3])"
   ]
  },
  {
   "cell_type": "code",
   "execution_count": 25,
   "id": "0dbaff8e-f4f0-46ac-87ef-b2d435bd24d1",
   "metadata": {
    "tags": []
   },
   "outputs": [
    {
     "data": {
      "text/plain": [
       "3-element Vector{Int64}:\n",
       "  1\n",
       "  8\n",
       " 27"
      ]
     },
     "execution_count": 25,
     "metadata": {},
     "output_type": "execute_result"
    }
   ],
   "source": [
    "x -> x^3\n",
    "map(x -> x^3, [1, 2, 3])"
   ]
  },
  {
   "cell_type": "code",
   "execution_count": 26,
   "id": "812f2b92-767b-4c98-93ea-1530504aa71c",
   "metadata": {
    "tags": []
   },
   "outputs": [
    {
     "data": {
      "text/plain": [
       "3-element Vector{Int64}:\n",
       " 1\n",
       " 4\n",
       " 9"
      ]
     },
     "execution_count": 26,
     "metadata": {},
     "output_type": "execute_result"
    }
   ],
   "source": [
    "f(x) = x^2\n",
    "broadcast(f, [1, 2, 3])"
   ]
  },
  {
   "cell_type": "code",
   "execution_count": 27,
   "id": "50ee38a4-6cbd-4699-868c-50c7e2cd60e8",
   "metadata": {
    "tags": []
   },
   "outputs": [
    {
     "data": {
      "text/plain": [
       "3-element Vector{Int64}:\n",
       " 1\n",
       " 4\n",
       " 9"
      ]
     },
     "execution_count": 27,
     "metadata": {},
     "output_type": "execute_result"
    }
   ],
   "source": [
    "f.([1, 2, 3])"
   ]
  },
  {
   "cell_type": "code",
   "execution_count": 28,
   "id": "eec47d71-0568-4d8f-8f77-e10063ef37d4",
   "metadata": {
    "tags": []
   },
   "outputs": [
    {
     "data": {
      "text/plain": [
       "3×3 Matrix{Int64}:\n",
       " 1  2  3\n",
       " 4  5  6\n",
       " 7  8  9"
      ]
     },
     "execution_count": 28,
     "metadata": {},
     "output_type": "execute_result"
    }
   ],
   "source": [
    "# Задаём матрицу A:\n",
    "A = [i + 3*j for j in 0:2, i in 1:3]"
   ]
  },
  {
   "cell_type": "code",
   "execution_count": 29,
   "id": "8fdf5412-f825-43ea-9e11-0c543e7b4e17",
   "metadata": {
    "tags": []
   },
   "outputs": [
    {
     "data": {
      "text/plain": [
       "3×3 Matrix{Int64}:\n",
       "  30   36   42\n",
       "  66   81   96\n",
       " 102  126  150"
      ]
     },
     "execution_count": 29,
     "metadata": {},
     "output_type": "execute_result"
    }
   ],
   "source": [
    "# Вызываем функцию f возведения в квадрат\n",
    "f(A)"
   ]
  },
  {
   "cell_type": "code",
   "execution_count": 30,
   "id": "dd42d11c-ec1b-4bb1-a08a-2000a5cb0d67",
   "metadata": {
    "tags": []
   },
   "outputs": [
    {
     "data": {
      "text/plain": [
       "3×3 Matrix{Int64}:\n",
       "  1   4   9\n",
       " 16  25  36\n",
       " 49  64  81"
      ]
     },
     "execution_count": 30,
     "metadata": {},
     "output_type": "execute_result"
    }
   ],
   "source": [
    "B = f.(A)"
   ]
  },
  {
   "cell_type": "code",
   "execution_count": 31,
   "id": "ae2bccc8-9c56-404a-9581-f5b5c2fc5859",
   "metadata": {
    "tags": []
   },
   "outputs": [
    {
     "data": {
      "text/plain": [
       "3×3 Matrix{Float64}:\n",
       "  3.0   6.0   9.0\n",
       " 12.0  15.0  18.0\n",
       " 21.0  24.0  27.0"
      ]
     },
     "execution_count": 31,
     "metadata": {},
     "output_type": "execute_result"
    }
   ],
   "source": [
    "A .+ 2 .* f.(A) ./ A"
   ]
  },
  {
   "cell_type": "code",
   "execution_count": 32,
   "id": "51d58535-bf84-46b3-93bb-4d25fff5c76e",
   "metadata": {
    "tags": []
   },
   "outputs": [
    {
     "data": {
      "text/plain": [
       "3×3 Matrix{Float64}:\n",
       "  3.0   6.0   9.0\n",
       " 12.0  15.0  18.0\n",
       " 21.0  24.0  27.0"
      ]
     },
     "execution_count": 32,
     "metadata": {},
     "output_type": "execute_result"
    }
   ],
   "source": [
    "@. A + 2 * f(A) / A"
   ]
  },
  {
   "cell_type": "code",
   "execution_count": 33,
   "id": "5dd7f46d-90f9-47e4-b5ba-6bdce2f754e3",
   "metadata": {
    "tags": []
   },
   "outputs": [
    {
     "data": {
      "text/plain": [
       "3×3 Matrix{Float64}:\n",
       "  3.0   6.0   9.0\n",
       " 12.0  15.0  18.0\n",
       " 21.0  24.0  27.0"
      ]
     },
     "execution_count": 33,
     "metadata": {},
     "output_type": "execute_result"
    }
   ],
   "source": [
    "broadcast(x -> x + 2 * f(x) / x, A)"
   ]
  },
  {
   "cell_type": "markdown",
   "id": "09256105-e1cc-4977-abb0-f46fd2c768e9",
   "metadata": {},
   "source": [
    "### Сторонние библиотеки (пакеты) в Julia"
   ]
  },
  {
   "cell_type": "code",
   "execution_count": 34,
   "id": "3c3b0cb6-e463-42e5-81a9-29af7ca0aeb3",
   "metadata": {
    "tags": []
   },
   "outputs": [
    {
     "name": "stderr",
     "output_type": "stream",
     "text": [
      "\u001b[32m\u001b[1m    Updating\u001b[22m\u001b[39m registry at `C:\\Users\\User\\.julia\\registries\\General.toml`\n",
      "\u001b[32m\u001b[1m   Resolving\u001b[22m\u001b[39m package versions...\n",
      "\u001b[32m\u001b[1m   Installed\u001b[22m\u001b[39m Example ─ v0.5.3\n",
      "\u001b[32m\u001b[1m    Updating\u001b[22m\u001b[39m `C:\\Users\\User\\.julia\\environments\\v1.8\\Project.toml`\n",
      " \u001b[90m [7876af07] \u001b[39m\u001b[92m+ Example v0.5.3\u001b[39m\n",
      "\u001b[32m\u001b[1m    Updating\u001b[22m\u001b[39m `C:\\Users\\User\\.julia\\environments\\v1.8\\Manifest.toml`\n",
      " \u001b[90m [7876af07] \u001b[39m\u001b[92m+ Example v0.5.3\u001b[39m\n",
      "\u001b[32m\u001b[1mPrecompiling\u001b[22m\u001b[39m project...\n",
      "\u001b[32m  ✓ \u001b[39mExample\n",
      "  1 dependency successfully precompiled in 7 seconds. 287 already precompiled.\n"
     ]
    }
   ],
   "source": [
    "import Pkg\n",
    "Pkg.add(\"Example\")"
   ]
  },
  {
   "cell_type": "code",
   "execution_count": 35,
   "id": "f5831559-d3d7-40d6-b932-d29c91a89133",
   "metadata": {
    "tags": []
   },
   "outputs": [
    {
     "name": "stderr",
     "output_type": "stream",
     "text": [
      "\u001b[32m\u001b[1m   Resolving\u001b[22m\u001b[39m package versions...\n",
      "\u001b[32m\u001b[1m    Updating\u001b[22m\u001b[39m `C:\\Users\\User\\.julia\\environments\\v1.8\\Project.toml`\n",
      " \u001b[90m [5ae59095] \u001b[39m\u001b[92m+ Colors v0.12.10\u001b[39m\n",
      "\u001b[32m\u001b[1m  No Changes\u001b[22m\u001b[39m to `C:\\Users\\User\\.julia\\environments\\v1.8\\Manifest.toml`\n"
     ]
    }
   ],
   "source": [
    "Pkg.add(\"Colors\")\n",
    "using Colors"
   ]
  },
  {
   "cell_type": "code",
   "execution_count": 36,
   "id": "78e5ff8e-a8cf-4a5d-9e4b-45e71a86659e",
   "metadata": {
    "tags": []
   },
   "outputs": [
    {
     "data": {
      "image/svg+xml": [
       "<?xml version=\"1.0\" encoding=\"UTF-8\"?>\n",
       "<!DOCTYPE svg PUBLIC \"-//W3C//DTD SVG 1.1//EN\"\n",
       " \"http://www.w3.org/Graphics/SVG/1.1/DTD/svg11.dtd\">\n",
       "<svg xmlns=\"http://www.w3.org/2000/svg\" version=\"1.1\"\n",
       "     width=\"180mm\" height=\"25mm\"\n",
       "     viewBox=\"0 0 100 1\" preserveAspectRatio=\"none\"\n",
       "     shape-rendering=\"crispEdges\" stroke=\"none\">\n",
       "<rect width=\"1\" height=\".96\" x=\"0\" y=\"0\" fill=\"#000000\" />\n",
       "<rect width=\"1\" height=\".96\" x=\"1\" y=\"0\" fill=\"#FFFF74\" />\n",
       "<rect width=\"1\" height=\".96\" x=\"2\" y=\"0\" fill=\"#FF9BFF\" />\n",
       "<rect width=\"1\" height=\".96\" x=\"3\" y=\"0\" fill=\"#00D3FF\" />\n",
       "<rect width=\"1\" height=\".96\" x=\"4\" y=\"0\" fill=\"#E2630D\" />\n",
       "<rect width=\"1\" height=\".96\" x=\"5\" y=\"0\" fill=\"#007E00\" />\n",
       "<rect width=\"1\" height=\".96\" x=\"6\" y=\"0\" fill=\"#0050E6\" />\n",
       "<rect width=\"1\" height=\".96\" x=\"7\" y=\"0\" fill=\"#AC0047\" />\n",
       "<rect width=\"1\" height=\".96\" x=\"8\" y=\"0\" fill=\"#00FFC8\" />\n",
       "<rect width=\"1\" height=\".96\" x=\"9\" y=\"0\" fill=\"#006468\" />\n",
       "<rect width=\"1\" height=\".96\" x=\"10\" y=\"0\" fill=\"#FFD5C4\" />\n",
       "<rect width=\"1\" height=\".96\" x=\"11\" y=\"0\" fill=\"#6C5200\" />\n",
       "<rect width=\"1\" height=\".96\" x=\"12\" y=\"0\" fill=\"#7A7581\" />\n",
       "<rect width=\"1\" height=\".96\" x=\"13\" y=\"0\" fill=\"#44005C\" />\n",
       "<rect width=\"1\" height=\".96\" x=\"14\" y=\"0\" fill=\"#9E9E77\" />\n",
       "<rect width=\"1\" height=\".96\" x=\"15\" y=\"0\" fill=\"#FF5C78\" />\n",
       "<rect width=\"1\" height=\".96\" x=\"16\" y=\"0\" fill=\"#8197F1\" />\n",
       "<rect width=\"1\" height=\".96\" x=\"17\" y=\"0\" fill=\"#003200\" />\n",
       "<rect width=\"1\" height=\".96\" x=\"18\" y=\"0\" fill=\"#C721DD\" />\n",
       "<rect width=\"1\" height=\".96\" x=\"19\" y=\"0\" fill=\"#FFAD07\" />\n",
       "<rect width=\"1\" height=\".96\" x=\"20\" y=\"0\" fill=\"#611C00\" />\n",
       "<rect width=\"1\" height=\".96\" x=\"21\" y=\"0\" fill=\"#F3FFFA\" />\n",
       "<rect width=\"1\" height=\".96\" x=\"22\" y=\"0\" fill=\"#009E88\" />\n",
       "<rect width=\"1\" height=\".96\" x=\"23\" y=\"0\" fill=\"#5EC700\" />\n",
       "<rect width=\"1\" height=\".96\" x=\"24\" y=\"0\" fill=\"#002D54\" />\n",
       "<rect width=\"1\" height=\".96\" x=\"25\" y=\"0\" fill=\"#553C4A\" />\n",
       "<rect width=\"1\" height=\".96\" x=\"26\" y=\"0\" fill=\"#444439\" />\n",
       "<rect width=\"1\" height=\".96\" x=\"27\" y=\"0\" fill=\"#008FB6\" />\n",
       "<rect width=\"1\" height=\".96\" x=\"28\" y=\"0\" fill=\"#CFD4FD\" />\n",
       "<rect width=\"1\" height=\".96\" x=\"29\" y=\"0\" fill=\"#C40000\" />\n",
       "<rect width=\"1\" height=\".96\" x=\"30\" y=\"0\" fill=\"#A4675C\" />\n",
       "<rect width=\"1\" height=\".96\" x=\"31\" y=\"0\" fill=\"#BB8FA8\" />\n",
       "<rect width=\"1\" height=\".96\" x=\"32\" y=\"0\" fill=\"#290001\" />\n",
       "<rect width=\"1\" height=\".96\" x=\"33\" y=\"0\" fill=\"#A78600\" />\n",
       "<rect width=\"1\" height=\".96\" x=\"34\" y=\"0\" fill=\"#002D30\" />\n",
       "<rect width=\"1\" height=\".96\" x=\"35\" y=\"0\" fill=\"#C7DEAA\" />\n",
       "<rect width=\"1\" height=\".96\" x=\"36\" y=\"0\" fill=\"#8D9FA3\" />\n",
       "<rect width=\"1\" height=\".96\" x=\"37\" y=\"0\" fill=\"#6F5B95\" />\n",
       "<rect width=\"1\" height=\".96\" x=\"38\" y=\"0\" fill=\"#A1FFFF\" />\n",
       "<rect width=\"1\" height=\".96\" x=\"39\" y=\"0\" fill=\"#B39688\" />\n",
       "<rect width=\"1\" height=\".96\" x=\"40\" y=\"0\" fill=\"#4E6D50\" />\n",
       "<rect width=\"1\" height=\".96\" x=\"41\" y=\"0\" fill=\"#FF977B\" />\n",
       "<rect width=\"1\" height=\".96\" x=\"42\" y=\"0\" fill=\"#FFD1EC\" />\n",
       "<rect width=\"1\" height=\".96\" x=\"43\" y=\"0\" fill=\"#9E5100\" />\n",
       "<rect width=\"1\" height=\".96\" x=\"44\" y=\"0\" fill=\"#AE5B8E\" />\n",
       "<rect width=\"1\" height=\".96\" x=\"45\" y=\"0\" fill=\"#799400\" />\n",
       "<rect width=\"1\" height=\".96\" x=\"46\" y=\"0\" fill=\"#362200\" />\n",
       "<rect width=\"1\" height=\".96\" x=\"47\" y=\"0\" fill=\"#0E0026\" />\n",
       "<rect width=\"1\" height=\".96\" x=\"48\" y=\"0\" fill=\"#80765F\" />\n",
       "<rect width=\"1\" height=\".96\" x=\"49\" y=\"0\" fill=\"#485C00\" />\n",
       "<rect width=\"1\" height=\".96\" x=\"50\" y=\"0\" fill=\"#C8C2B5\" />\n",
       "<rect width=\"1\" height=\".96\" x=\"51\" y=\"0\" fill=\"#8800A1\" />\n",
       "<rect width=\"1\" height=\".96\" x=\"52\" y=\"0\" fill=\"#00A853\" />\n",
       "<rect width=\"1\" height=\".96\" x=\"53\" y=\"0\" fill=\"#FFE1AA\" />\n",
       "<rect width=\"1\" height=\".96\" x=\"54\" y=\"0\" fill=\"#674F42\" />\n",
       "<rect width=\"1\" height=\".96\" x=\"55\" y=\"0\" fill=\"#FF342D\" />\n",
       "<rect width=\"1\" height=\".96\" x=\"56\" y=\"0\" fill=\"#6B0041\" />\n",
       "<rect width=\"1\" height=\".96\" x=\"57\" y=\"0\" fill=\"#0806B1\" />\n",
       "<rect width=\"1\" height=\".96\" x=\"58\" y=\"0\" fill=\"#986DFF\" />\n",
       "<rect width=\"1\" height=\".96\" x=\"59\" y=\"0\" fill=\"#FF4EC7\" />\n",
       "<rect width=\"1\" height=\".96\" x=\"60\" y=\"0\" fill=\"#8AB9A2\" />\n",
       "<rect width=\"1\" height=\".96\" x=\"61\" y=\"0\" fill=\"#2EFF71\" />\n",
       "<rect width=\"1\" height=\".96\" x=\"62\" y=\"0\" fill=\"#005577\" />\n",
       "<rect width=\"1\" height=\".96\" x=\"63\" y=\"0\" fill=\"#0078E3\" />\n",
       "<rect width=\"1\" height=\".96\" x=\"64\" y=\"0\" fill=\"#B2ADB9\" />\n",
       "<rect width=\"1\" height=\".96\" x=\"65\" y=\"0\" fill=\"#00C3C6\" />\n",
       "<rect width=\"1\" height=\".96\" x=\"66\" y=\"0\" fill=\"#00AEFF\" />\n",
       "<rect width=\"1\" height=\".96\" x=\"67\" y=\"0\" fill=\"#4E545F\" />\n",
       "<rect width=\"1\" height=\".96\" x=\"68\" y=\"0\" fill=\"#FF9BB0\" />\n",
       "<rect width=\"1\" height=\".96\" x=\"69\" y=\"0\" fill=\"#FED206\" />\n",
       "<rect width=\"1\" height=\".96\" x=\"70\" y=\"0\" fill=\"#687B7A\" />\n",
       "<rect width=\"1\" height=\".96\" x=\"71\" y=\"0\" fill=\"#B1DCFC\" />\n",
       "<rect width=\"1\" height=\".96\" x=\"72\" y=\"0\" fill=\"#FFF6FF\" />\n",
       "<rect width=\"1\" height=\".96\" x=\"73\" y=\"0\" fill=\"#620019\" />\n",
       "<rect width=\"1\" height=\".96\" x=\"74\" y=\"0\" fill=\"#C79253\" />\n",
       "<rect width=\"1\" height=\".96\" x=\"75\" y=\"0\" fill=\"#A891CF\" />\n",
       "<rect width=\"1\" height=\".96\" x=\"76\" y=\"0\" fill=\"#EF007A\" />\n",
       "<rect width=\"1\" height=\".96\" x=\"77\" y=\"0\" fill=\"#B8CE00\" />\n",
       "<rect width=\"1\" height=\".96\" x=\"78\" y=\"0\" fill=\"#001700\" />\n",
       "<rect width=\"1\" height=\".96\" x=\"79\" y=\"0\" fill=\"#204B39\" />\n",
       "<rect width=\"1\" height=\".96\" x=\"80\" y=\"0\" fill=\"#875866\" />\n",
       "<rect width=\"1\" height=\".96\" x=\"81\" y=\"0\" fill=\"#B5FF4E\" />\n",
       "<rect width=\"1\" height=\".96\" x=\"82\" y=\"0\" fill=\"#B40080\" />\n",
       "<rect width=\"1\" height=\".96\" x=\"83\" y=\"0\" fill=\"#853F34\" />\n",
       "<rect width=\"1\" height=\".96\" x=\"84\" y=\"0\" fill=\"#69936B\" />\n",
       "<rect width=\"1\" height=\".96\" x=\"85\" y=\"0\" fill=\"#FFBC80\" />\n",
       "<rect width=\"1\" height=\".96\" x=\"86\" y=\"0\" fill=\"#4C3779\" />\n",
       "<rect width=\"1\" height=\".96\" x=\"87\" y=\"0\" fill=\"#323606\" />\n",
       "<rect width=\"1\" height=\".96\" x=\"88\" y=\"0\" fill=\"#008E94\" />\n",
       "<rect width=\"1\" height=\".96\" x=\"89\" y=\"0\" fill=\"#CAAC51\" />\n",
       "<rect width=\"1\" height=\".96\" x=\"90\" y=\"0\" fill=\"#787B3B\" />\n",
       "<rect width=\"1\" height=\".96\" x=\"91\" y=\"0\" fill=\"#B6F9D9\" />\n",
       "<rect width=\"1\" height=\".96\" x=\"92\" y=\"0\" fill=\"#DA003F\" />\n",
       "<rect width=\"1\" height=\".96\" x=\"93\" y=\"0\" fill=\"#2E2124\" />\n",
       "<rect width=\"1\" height=\".96\" x=\"94\" y=\"0\" fill=\"#005815\" />\n",
       "<rect width=\"1\" height=\".96\" x=\"95\" y=\"0\" fill=\"#FF8E1D\" />\n",
       "<rect width=\"1\" height=\".96\" x=\"96\" y=\"0\" fill=\"#6674B1\" />\n",
       "<rect width=\"1\" height=\".96\" x=\"97\" y=\"0\" fill=\"#00CDAD\" />\n",
       "<rect width=\"1\" height=\".96\" x=\"98\" y=\"0\" fill=\"#007F63\" />\n",
       "<rect width=\"1\" height=\".96\" x=\"99\" y=\"0\" fill=\"#996F3D\" />\n",
       "</svg>"
      ],
      "text/plain": [
       "100-element Array{RGB{N0f8},1} with eltype RGB{FixedPointNumbers.N0f8}:\n",
       " RGB{N0f8}(0.0,0.0,0.0)\n",
       " RGB{N0f8}(1.0,1.0,0.455)\n",
       " RGB{N0f8}(1.0,0.608,1.0)\n",
       " RGB{N0f8}(0.0,0.827,1.0)\n",
       " RGB{N0f8}(0.886,0.388,0.051)\n",
       " RGB{N0f8}(0.0,0.494,0.0)\n",
       " RGB{N0f8}(0.0,0.314,0.902)\n",
       " RGB{N0f8}(0.675,0.0,0.278)\n",
       " RGB{N0f8}(0.0,1.0,0.784)\n",
       " RGB{N0f8}(0.0,0.392,0.408)\n",
       " RGB{N0f8}(1.0,0.835,0.769)\n",
       " RGB{N0f8}(0.424,0.322,0.0)\n",
       " RGB{N0f8}(0.478,0.459,0.506)\n",
       " ⋮\n",
       " RGB{N0f8}(0.0,0.557,0.58)\n",
       " RGB{N0f8}(0.792,0.675,0.318)\n",
       " RGB{N0f8}(0.471,0.482,0.231)\n",
       " RGB{N0f8}(0.714,0.976,0.851)\n",
       " RGB{N0f8}(0.855,0.0,0.247)\n",
       " RGB{N0f8}(0.18,0.129,0.141)\n",
       " RGB{N0f8}(0.0,0.345,0.082)\n",
       " RGB{N0f8}(1.0,0.557,0.114)\n",
       " RGB{N0f8}(0.4,0.455,0.694)\n",
       " RGB{N0f8}(0.0,0.804,0.678)\n",
       " RGB{N0f8}(0.0,0.498,0.388)\n",
       " RGB{N0f8}(0.6,0.435,0.239)"
      ]
     },
     "execution_count": 36,
     "metadata": {},
     "output_type": "execute_result"
    }
   ],
   "source": [
    "palette = distinguishable_colors(100)"
   ]
  },
  {
   "cell_type": "code",
   "execution_count": 54,
   "id": "60dbb1da-da80-427b-b367-251f3b410d97",
   "metadata": {
    "tags": []
   },
   "outputs": [
    {
     "data": {
      "image/svg+xml": [
       "<?xml version=\"1.0\" encoding=\"UTF-8\"?>\n",
       "<!DOCTYPE svg PUBLIC \"-//W3C//DTD SVG 1.1//EN\"\n",
       " \"http://www.w3.org/Graphics/SVG/1.1/DTD/svg11.dtd\">\n",
       "<svg xmlns=\"http://www.w3.org/2000/svg\" version=\"1.1\"\n",
       "     width=\"75mm\" height=\"75mm\"\n",
       "     viewBox=\"0 0 3 3\" preserveAspectRatio=\"none\"\n",
       "     shape-rendering=\"crispEdges\" stroke=\"none\">\n",
       "<rect width=\".96\" height=\".96\" x=\"0\" y=\"0\" fill=\"#00FFC8\" />\n",
       "<rect width=\".96\" height=\".96\" x=\"1\" y=\"0\" fill=\"#323606\" />\n",
       "<rect width=\".96\" height=\".96\" x=\"2\" y=\"0\" fill=\"#9E9E77\" />\n",
       "<rect width=\".96\" height=\".96\" x=\"0\" y=\"1\" fill=\"#00AEFF\" />\n",
       "<rect width=\".96\" height=\".96\" x=\"1\" y=\"1\" fill=\"#A891CF\" />\n",
       "<rect width=\".96\" height=\".96\" x=\"2\" y=\"1\" fill=\"#6B0041\" />\n",
       "<rect width=\".96\" height=\".96\" x=\"0\" y=\"2\" fill=\"#0078E3\" />\n",
       "<rect width=\".96\" height=\".96\" x=\"1\" y=\"2\" fill=\"#FF5C78\" />\n",
       "<rect width=\".96\" height=\".96\" x=\"2\" y=\"2\" fill=\"#C79253\" />\n",
       "</svg>"
      ],
      "text/plain": [
       "3×3 Array{RGB{N0f8},2} with eltype RGB{FixedPointNumbers.N0f8}:\n",
       " RGB{N0f8}(0.0,1.0,0.784)   …  RGB{N0f8}(0.62,0.62,0.467)\n",
       " RGB{N0f8}(0.0,0.682,1.0)      RGB{N0f8}(0.42,0.0,0.255)\n",
       " RGB{N0f8}(0.0,0.471,0.89)     RGB{N0f8}(0.78,0.573,0.325)"
      ]
     },
     "execution_count": 54,
     "metadata": {},
     "output_type": "execute_result"
    }
   ],
   "source": [
    "rand(palette, 3, 3)"
   ]
  },
  {
   "cell_type": "markdown",
   "id": "c5b08211-98f8-484b-bdee-6129dab93292",
   "metadata": {},
   "source": [
    "## Самостоятельное задание"
   ]
  },
  {
   "cell_type": "markdown",
   "id": "807cea99-2fce-4830-89cd-65b08f654e1c",
   "metadata": {},
   "source": [
    "### 1. Используя циклы while и for:"
   ]
  },
  {
   "cell_type": "markdown",
   "id": "8e56dec4-71ee-49e9-9eb1-702db9146b70",
   "metadata": {},
   "source": [
    "выведите на экран целые числа от 1 до 100 и напечатайте их квадраты;"
   ]
  },
  {
   "cell_type": "code",
   "execution_count": 59,
   "id": "fe1d1a4f-217e-4fe2-9067-f82cec8ce0e5",
   "metadata": {
    "tags": []
   },
   "outputs": [
    {
     "name": "stdout",
     "output_type": "stream",
     "text": [
      "1 --> 1; 2 --> 4; 3 --> 9; 4 --> 16; 5 --> 25; 6 --> 36; 7 --> 49; 8 --> 64; 9 --> 81; 10 --> 100; 11 --> 121; 12 --> 144; 13 --> 169; 14 --> 196; 15 --> 225; 16 --> 256; 17 --> 289; 18 --> 324; 19 --> 361; 20 --> 400; 21 --> 441; 22 --> 484; 23 --> 529; 24 --> 576; 25 --> 625; 26 --> 676; 27 --> 729; 28 --> 784; 29 --> 841; 30 --> 900; 31 --> 961; 32 --> 1024; 33 --> 1089; 34 --> 1156; 35 --> 1225; 36 --> 1296; 37 --> 1369; 38 --> 1444; 39 --> 1521; 40 --> 1600; 41 --> 1681; 42 --> 1764; 43 --> 1849; 44 --> 1936; 45 --> 2025; 46 --> 2116; 47 --> 2209; 48 --> 2304; 49 --> 2401; 50 --> 2500; 51 --> 2601; 52 --> 2704; 53 --> 2809; 54 --> 2916; 55 --> 3025; 56 --> 3136; 57 --> 3249; 58 --> 3364; 59 --> 3481; 60 --> 3600; 61 --> 3721; 62 --> 3844; 63 --> 3969; 64 --> 4096; 65 --> 4225; 66 --> 4356; 67 --> 4489; 68 --> 4624; 69 --> 4761; 70 --> 4900; 71 --> 5041; 72 --> 5184; 73 --> 5329; 74 --> 5476; 75 --> 5625; 76 --> 5776; 77 --> 5929; 78 --> 6084; 79 --> 6241; 80 --> 6400; 81 --> 6561; 82 --> 6724; 83 --> 6889; 84 --> 7056; 85 --> 7225; 86 --> 7396; 87 --> 7569; 88 --> 7744; 89 --> 7921; 90 --> 8100; 91 --> 8281; 92 --> 8464; 93 --> 8649; 94 --> 8836; 95 --> 9025; 96 --> 9216; 97 --> 9409; 98 --> 9604; 99 --> 9801; 100 --> 10000; "
     ]
    }
   ],
   "source": [
    "n = 0\n",
    "while n < 100\n",
    "    n += 1\n",
    "    print(\"$n --> $(n^2); \")\n",
    "end\n",
    "n = 0;"
   ]
  },
  {
   "cell_type": "code",
   "execution_count": 60,
   "id": "694e4ec1-9aa4-4c47-92ef-84e5f848745b",
   "metadata": {
    "tags": []
   },
   "outputs": [
    {
     "name": "stdout",
     "output_type": "stream",
     "text": [
      "1 --> 1; 2 --> 4; 3 --> 9; 4 --> 16; 5 --> 25; 6 --> 36; 7 --> 49; 8 --> 64; 9 --> 81; 10 --> 100; 11 --> 121; 12 --> 144; 13 --> 169; 14 --> 196; 15 --> 225; 16 --> 256; 17 --> 289; 18 --> 324; 19 --> 361; 20 --> 400; 21 --> 441; 22 --> 484; 23 --> 529; 24 --> 576; 25 --> 625; 26 --> 676; 27 --> 729; 28 --> 784; 29 --> 841; 30 --> 900; 31 --> 961; 32 --> 1024; 33 --> 1089; 34 --> 1156; 35 --> 1225; 36 --> 1296; 37 --> 1369; 38 --> 1444; 39 --> 1521; 40 --> 1600; 41 --> 1681; 42 --> 1764; 43 --> 1849; 44 --> 1936; 45 --> 2025; 46 --> 2116; 47 --> 2209; 48 --> 2304; 49 --> 2401; 50 --> 2500; 51 --> 2601; 52 --> 2704; 53 --> 2809; 54 --> 2916; 55 --> 3025; 56 --> 3136; 57 --> 3249; 58 --> 3364; 59 --> 3481; 60 --> 3600; 61 --> 3721; 62 --> 3844; 63 --> 3969; 64 --> 4096; 65 --> 4225; 66 --> 4356; 67 --> 4489; 68 --> 4624; 69 --> 4761; 70 --> 4900; 71 --> 5041; 72 --> 5184; 73 --> 5329; 74 --> 5476; 75 --> 5625; 76 --> 5776; 77 --> 5929; 78 --> 6084; 79 --> 6241; 80 --> 6400; 81 --> 6561; 82 --> 6724; 83 --> 6889; 84 --> 7056; 85 --> 7225; 86 --> 7396; 87 --> 7569; 88 --> 7744; 89 --> 7921; 90 --> 8100; 91 --> 8281; 92 --> 8464; 93 --> 8649; 94 --> 8836; 95 --> 9025; 96 --> 9216; 97 --> 9409; 98 --> 9604; 99 --> 9801; 100 --> 10000; "
     ]
    }
   ],
   "source": [
    "for i ∈ 1:100\n",
    "    print(\"$i --> $(i^2); \")\n",
    "end"
   ]
  },
  {
   "cell_type": "markdown",
   "id": "d6de11d4-474f-4fab-9751-9fd03a24b54b",
   "metadata": {},
   "source": [
    "– создайте словарь squares, который будет содержать целые числа в качестве ключей и квадраты в качестве их пар-значений;"
   ]
  },
  {
   "cell_type": "code",
   "execution_count": 71,
   "id": "20412275-3649-4a33-a73f-1c40982495cc",
   "metadata": {
    "tags": []
   },
   "outputs": [
    {
     "data": {
      "text/plain": [
       "Dict{Any, Any} with 100 entries:\n",
       "  5  => 25\n",
       "  56 => 3136\n",
       "  35 => 1225\n",
       "  55 => 3025\n",
       "  60 => 3600\n",
       "  30 => 900\n",
       "  32 => 1024\n",
       "  6  => 36\n",
       "  67 => 4489\n",
       "  45 => 2025\n",
       "  73 => 5329\n",
       "  64 => 4096\n",
       "  90 => 8100\n",
       "  4  => 16\n",
       "  13 => 169\n",
       "  54 => 2916\n",
       "  63 => 3969\n",
       "  86 => 7396\n",
       "  91 => 8281\n",
       "  62 => 3844\n",
       "  58 => 3364\n",
       "  52 => 2704\n",
       "  12 => 144\n",
       "  28 => 784\n",
       "  75 => 5625\n",
       "  ⋮  => ⋮"
      ]
     },
     "execution_count": 71,
     "metadata": {},
     "output_type": "execute_result"
    }
   ],
   "source": [
    "squares_1 = Dict()\n",
    "while n < 100\n",
    "    n += 1\n",
    "    squares_1[n] = n^2\n",
    "end\n",
    "n = 0;\n",
    "pairs(squares_1)"
   ]
  },
  {
   "cell_type": "code",
   "execution_count": 72,
   "id": "896ecdc5-b2fd-4176-8a1e-4ad5962195fd",
   "metadata": {
    "tags": []
   },
   "outputs": [
    {
     "data": {
      "text/plain": [
       "Dict{Any, Any} with 100 entries:\n",
       "  5  => 25\n",
       "  56 => 3136\n",
       "  35 => 1225\n",
       "  55 => 3025\n",
       "  60 => 3600\n",
       "  30 => 900\n",
       "  32 => 1024\n",
       "  6  => 36\n",
       "  67 => 4489\n",
       "  45 => 2025\n",
       "  73 => 5329\n",
       "  64 => 4096\n",
       "  90 => 8100\n",
       "  4  => 16\n",
       "  13 => 169\n",
       "  54 => 2916\n",
       "  63 => 3969\n",
       "  86 => 7396\n",
       "  91 => 8281\n",
       "  62 => 3844\n",
       "  58 => 3364\n",
       "  52 => 2704\n",
       "  12 => 144\n",
       "  28 => 784\n",
       "  75 => 5625\n",
       "  ⋮  => ⋮"
      ]
     },
     "execution_count": 72,
     "metadata": {},
     "output_type": "execute_result"
    }
   ],
   "source": [
    "squares_2 = Dict()\n",
    "for i ∈ 1:100\n",
    "    squares_2[i] = i^2\n",
    "end\n",
    "squares_2"
   ]
  },
  {
   "cell_type": "markdown",
   "id": "cd730351-0644-4c82-8116-3c24c64ccb09",
   "metadata": {},
   "source": [
    "– создайте массив squares_arr, содержащий квадраты всех чисел от 1 до 100."
   ]
  },
  {
   "cell_type": "code",
   "execution_count": 73,
   "id": "123db724-fee0-42dc-9af4-1d5be5948aaa",
   "metadata": {
    "tags": []
   },
   "outputs": [
    {
     "data": {
      "text/plain": [
       "100-element Vector{Int64}:\n",
       "     1\n",
       "     4\n",
       "     9\n",
       "    16\n",
       "    25\n",
       "    36\n",
       "    49\n",
       "    64\n",
       "    81\n",
       "   100\n",
       "   121\n",
       "   144\n",
       "   169\n",
       "     ⋮\n",
       "  7921\n",
       "  8100\n",
       "  8281\n",
       "  8464\n",
       "  8649\n",
       "  8836\n",
       "  9025\n",
       "  9216\n",
       "  9409\n",
       "  9604\n",
       "  9801\n",
       " 10000"
      ]
     },
     "execution_count": 73,
     "metadata": {},
     "output_type": "execute_result"
    }
   ],
   "source": [
    "squares_arr_1 = (Int64)[]\n",
    "while n < 100\n",
    "    n += 1\n",
    "    push!(squares_arr_1, n^2)\n",
    "end\n",
    "n = 0;\n",
    "squares_arr_1"
   ]
  },
  {
   "cell_type": "code",
   "execution_count": 75,
   "id": "cb977b25-4101-46d7-b569-9e0a089dabd1",
   "metadata": {
    "tags": []
   },
   "outputs": [
    {
     "data": {
      "text/plain": [
       "100-element Vector{Int64}:\n",
       "     1\n",
       "     4\n",
       "     9\n",
       "    16\n",
       "    25\n",
       "    36\n",
       "    49\n",
       "    64\n",
       "    81\n",
       "   100\n",
       "   121\n",
       "   144\n",
       "   169\n",
       "     ⋮\n",
       "  7921\n",
       "  8100\n",
       "  8281\n",
       "  8464\n",
       "  8649\n",
       "  8836\n",
       "  9025\n",
       "  9216\n",
       "  9409\n",
       "  9604\n",
       "  9801\n",
       " 10000"
      ]
     },
     "execution_count": 75,
     "metadata": {},
     "output_type": "execute_result"
    }
   ],
   "source": [
    "squares_arr_2 = (Int64)[]\n",
    "for i ∈ 1:100\n",
    "    push!(squares_arr_2, i^2)\n",
    "end\n",
    "squares_arr_2"
   ]
  },
  {
   "cell_type": "markdown",
   "id": "45b1faac-08e3-4e23-9abe-2ee8a709cb79",
   "metadata": {},
   "source": [
    "### 2. Напишите условный оператор, который печатает число, если число чётное, и строку «нечётное», если число нечётное. Перепишите код, используя тернарный оператор"
   ]
  },
  {
   "cell_type": "code",
   "execution_count": 80,
   "id": "5ea9f410-9319-4e2b-9ca8-313375bf376f",
   "metadata": {
    "tags": []
   },
   "outputs": [],
   "source": [
    "x = 5; y = 6;"
   ]
  },
  {
   "cell_type": "code",
   "execution_count": 81,
   "id": "a63f74fb-7fe9-4778-90e3-77aa8943d465",
   "metadata": {
    "tags": []
   },
   "outputs": [
    {
     "name": "stdout",
     "output_type": "stream",
     "text": [
      "Нечётное\n",
      "6\n"
     ]
    }
   ],
   "source": [
    "iseven(x) ? println(x) : println(\"Нечётное\")\n",
    "iseven(y) ? println(y) : println(\"Нечётное\")"
   ]
  },
  {
   "cell_type": "markdown",
   "id": "abcdce8f-0349-48cd-843e-50d968079703",
   "metadata": {},
   "source": [
    "### 3. Напишите функцию add_one, которая добавляет 1 к своему входу."
   ]
  },
  {
   "cell_type": "code",
   "execution_count": 85,
   "id": "a4f632de-4107-43ff-b6db-82888309ba02",
   "metadata": {
    "tags": []
   },
   "outputs": [
    {
     "data": {
      "text/plain": [
       "add_one (generic function with 1 method)"
      ]
     },
     "execution_count": 85,
     "metadata": {},
     "output_type": "execute_result"
    }
   ],
   "source": [
    "add_one(x) = x + 1"
   ]
  },
  {
   "cell_type": "code",
   "execution_count": 86,
   "id": "6decfbc8-40a7-4644-9e86-5f9d4ed5c6fc",
   "metadata": {
    "tags": []
   },
   "outputs": [
    {
     "data": {
      "text/plain": [
       "2"
      ]
     },
     "execution_count": 86,
     "metadata": {},
     "output_type": "execute_result"
    }
   ],
   "source": [
    "add_one(1)"
   ]
  },
  {
   "cell_type": "markdown",
   "id": "32363755-72dd-4d3a-850f-afba0750af59",
   "metadata": {},
   "source": [
    "### 4. Используйте map() или broadcast() для задания матрицы 𝐴, каждый элемент которой увеличивается на единицу по сравнению с предыдущим."
   ]
  },
  {
   "cell_type": "code",
   "execution_count": 87,
   "id": "7542d423-c4c4-4402-a8a5-1034c5b65df4",
   "metadata": {
    "tags": []
   },
   "outputs": [
    {
     "data": {
      "text/plain": [
       "3×3 Matrix{Float64}:\n",
       " 0.0  0.0  0.0\n",
       " 0.0  0.0  0.0\n",
       " 0.0  0.0  0.0"
      ]
     },
     "execution_count": 87,
     "metadata": {},
     "output_type": "execute_result"
    }
   ],
   "source": [
    "A = zeros(3, 3)"
   ]
  },
  {
   "cell_type": "code",
   "execution_count": 92,
   "id": "9cc33859-4958-491a-b1e4-3b8507fdc18d",
   "metadata": {
    "tags": []
   },
   "outputs": [
    {
     "data": {
      "text/plain": [
       "3×3 Matrix{Float64}:\n",
       " 1.0  1.0  1.0\n",
       " 1.0  1.0  1.0\n",
       " 1.0  1.0  1.0"
      ]
     },
     "execution_count": 92,
     "metadata": {},
     "output_type": "execute_result"
    }
   ],
   "source": [
    "add_one.(A)"
   ]
  },
  {
   "cell_type": "code",
   "execution_count": 93,
   "id": "3b8a466b-baa6-4a2b-a319-9f992ece21d6",
   "metadata": {
    "tags": []
   },
   "outputs": [
    {
     "data": {
      "text/plain": [
       "3×3 Matrix{Float64}:\n",
       " 1.0  1.0  1.0\n",
       " 1.0  1.0  1.0\n",
       " 1.0  1.0  1.0"
      ]
     },
     "execution_count": 93,
     "metadata": {},
     "output_type": "execute_result"
    }
   ],
   "source": [
    "map(add_one, A)"
   ]
  },
  {
   "cell_type": "code",
   "execution_count": 98,
   "id": "51c42aaf-994c-43ab-aa0c-0bf3196bda75",
   "metadata": {
    "tags": []
   },
   "outputs": [
    {
     "data": {
      "text/plain": [
       "3×3 Matrix{Float64}:\n",
       " 1.0  2.0  3.0\n",
       " 4.0  5.0  6.0\n",
       " 7.0  8.0  9.0"
      ]
     },
     "execution_count": 98,
     "metadata": {},
     "output_type": "execute_result"
    }
   ],
   "source": [
    "x = 0\n",
    "for i ∈ 1:3, j ∈ 1:3\n",
    "    A[i, j] = add_one(x)\n",
    "    x += 1 \n",
    "end\n",
    "A"
   ]
  },
  {
   "cell_type": "markdown",
   "id": "7157bbd2-9ea2-4905-bdb7-cd20f70e6e00",
   "metadata": {},
   "source": [
    "### 5. Задайте матрицу 𝐴 следующего вида: \n",
    "$A = \n",
    "\\begin{pmatrix} \n",
    "1 & 1 & 3 \\\\ \n",
    "5 & 2 & 6 \\\\ \n",
    "-2 & -1 & -3 \n",
    "\\end{pmatrix}$"
   ]
  },
  {
   "cell_type": "code",
   "execution_count": 99,
   "id": "e0b466b5-75ec-4c27-9850-72126e12f6f2",
   "metadata": {
    "tags": []
   },
   "outputs": [
    {
     "data": {
      "text/plain": [
       "3×3 Matrix{Int64}:\n",
       "  1   1   3\n",
       "  5   2   6\n",
       " -2  -1  -3"
      ]
     },
     "execution_count": 99,
     "metadata": {},
     "output_type": "execute_result"
    }
   ],
   "source": [
    "A = [[1 1 3]; [5 2 6]; [-2 -1 -3]]"
   ]
  },
  {
   "cell_type": "markdown",
   "id": "7dd0a762-a1a5-48d0-9370-c63998de74a4",
   "metadata": {},
   "source": [
    "– Найдите $𝐴^3$."
   ]
  },
  {
   "cell_type": "code",
   "execution_count": 100,
   "id": "f947adf9-a092-4089-805f-96e1b92a6c6b",
   "metadata": {
    "tags": []
   },
   "outputs": [
    {
     "data": {
      "text/plain": [
       "g (generic function with 1 method)"
      ]
     },
     "execution_count": 100,
     "metadata": {},
     "output_type": "execute_result"
    }
   ],
   "source": [
    "g(x) = x^3"
   ]
  },
  {
   "cell_type": "code",
   "execution_count": 105,
   "id": "b914a5bc-d939-4565-9c6e-21ebbf86edc2",
   "metadata": {
    "tags": []
   },
   "outputs": [
    {
     "data": {
      "text/plain": [
       "3×3 Matrix{Int64}:\n",
       " 0  0  0\n",
       " 0  0  0\n",
       " 0  0  0"
      ]
     },
     "execution_count": 105,
     "metadata": {},
     "output_type": "execute_result"
    }
   ],
   "source": [
    "g(A)"
   ]
  },
  {
   "cell_type": "markdown",
   "id": "26e0461d-d344-423d-b77b-b5f4b80e889c",
   "metadata": {},
   "source": [
    "– Замените третий столбец матрицы 𝐴 на сумму второго и третьего столбцов."
   ]
  },
  {
   "cell_type": "code",
   "execution_count": 106,
   "id": "bdb02e25-b88d-4d9b-beeb-a0fb9fd8a784",
   "metadata": {
    "tags": []
   },
   "outputs": [
    {
     "data": {
      "text/plain": [
       "3×3 Matrix{Int64}:\n",
       "  1   1   2\n",
       "  5   2   7\n",
       " -2  -1  -3"
      ]
     },
     "execution_count": 106,
     "metadata": {},
     "output_type": "execute_result"
    }
   ],
   "source": [
    "for i ∈ 1:3\n",
    "   A[i, 3] = A[i, 1] + A[i, 2] \n",
    "end\n",
    "A"
   ]
  },
  {
   "cell_type": "markdown",
   "id": "89d919b4-301f-4250-9838-4b84b2269eb9",
   "metadata": {},
   "source": [
    "### 6. Создайте матрицу $𝐵$ с элементами $𝐵_{𝑖1} = 10$, $𝐵_{𝑖2} = −10$, $𝐵_{𝑖3} = 10$, $𝑖 = 1, 2, \\dots, 15$. Вычислите матрицу $𝐶 = 𝐵^𝑇𝐵$."
   ]
  },
  {
   "cell_type": "code",
   "execution_count": 118,
   "id": "3bb2a1a4-07d9-446e-bebb-9c204cc18152",
   "metadata": {
    "tags": []
   },
   "outputs": [
    {
     "data": {
      "text/plain": [
       "15×15 Matrix{Float64}:\n",
       " 10.0  -10.0  10.0  -10.0  10.0  -10.0  …  10.0  -10.0  10.0  -10.0  10.0\n",
       " 10.0  -10.0  10.0  -10.0  10.0  -10.0     10.0  -10.0  10.0  -10.0  10.0\n",
       " 10.0  -10.0  10.0  -10.0  10.0  -10.0     10.0  -10.0  10.0  -10.0  10.0\n",
       " 10.0  -10.0  10.0  -10.0  10.0  -10.0     10.0  -10.0  10.0  -10.0  10.0\n",
       " 10.0  -10.0  10.0  -10.0  10.0  -10.0     10.0  -10.0  10.0  -10.0  10.0\n",
       " 10.0  -10.0  10.0  -10.0  10.0  -10.0  …  10.0  -10.0  10.0  -10.0  10.0\n",
       " 10.0  -10.0  10.0  -10.0  10.0  -10.0     10.0  -10.0  10.0  -10.0  10.0\n",
       " 10.0  -10.0  10.0  -10.0  10.0  -10.0     10.0  -10.0  10.0  -10.0  10.0\n",
       " 10.0  -10.0  10.0  -10.0  10.0  -10.0     10.0  -10.0  10.0  -10.0  10.0\n",
       " 10.0  -10.0  10.0  -10.0  10.0  -10.0     10.0  -10.0  10.0  -10.0  10.0\n",
       " 10.0  -10.0  10.0  -10.0  10.0  -10.0  …  10.0  -10.0  10.0  -10.0  10.0\n",
       " 10.0  -10.0  10.0  -10.0  10.0  -10.0     10.0  -10.0  10.0  -10.0  10.0\n",
       " 10.0  -10.0  10.0  -10.0  10.0  -10.0     10.0  -10.0  10.0  -10.0  10.0\n",
       " 10.0  -10.0  10.0  -10.0  10.0  -10.0     10.0  -10.0  10.0  -10.0  10.0\n",
       " 10.0  -10.0  10.0  -10.0  10.0  -10.0     10.0  -10.0  10.0  -10.0  10.0"
      ]
     },
     "execution_count": 118,
     "metadata": {},
     "output_type": "execute_result"
    }
   ],
   "source": [
    "N = 15\n",
    "B = zeros(15, 15)\n",
    "#B = [(-1)^n*10*ones(N) for n ∈ 1:N]\n",
    "for i ∈ 1:N, j ∈ 1:N\n",
    "   if isodd(j)\n",
    "        B[i, j] = 10\n",
    "   else\n",
    "        B[i, j] = -10\n",
    "   end\n",
    "end\n",
    "B"
   ]
  },
  {
   "cell_type": "code",
   "execution_count": 120,
   "id": "886206e0-33a6-41c2-a4be-f89067e33a31",
   "metadata": {
    "tags": []
   },
   "outputs": [
    {
     "data": {
      "text/plain": [
       "15×15 Matrix{Float64}:\n",
       "  1500.0  -1500.0   1500.0  -1500.0  …  -1500.0   1500.0  -1500.0   1500.0\n",
       " -1500.0   1500.0  -1500.0   1500.0      1500.0  -1500.0   1500.0  -1500.0\n",
       "  1500.0  -1500.0   1500.0  -1500.0     -1500.0   1500.0  -1500.0   1500.0\n",
       " -1500.0   1500.0  -1500.0   1500.0      1500.0  -1500.0   1500.0  -1500.0\n",
       "  1500.0  -1500.0   1500.0  -1500.0     -1500.0   1500.0  -1500.0   1500.0\n",
       " -1500.0   1500.0  -1500.0   1500.0  …   1500.0  -1500.0   1500.0  -1500.0\n",
       "  1500.0  -1500.0   1500.0  -1500.0     -1500.0   1500.0  -1500.0   1500.0\n",
       " -1500.0   1500.0  -1500.0   1500.0      1500.0  -1500.0   1500.0  -1500.0\n",
       "  1500.0  -1500.0   1500.0  -1500.0     -1500.0   1500.0  -1500.0   1500.0\n",
       " -1500.0   1500.0  -1500.0   1500.0      1500.0  -1500.0   1500.0  -1500.0\n",
       "  1500.0  -1500.0   1500.0  -1500.0  …  -1500.0   1500.0  -1500.0   1500.0\n",
       " -1500.0   1500.0  -1500.0   1500.0      1500.0  -1500.0   1500.0  -1500.0\n",
       "  1500.0  -1500.0   1500.0  -1500.0     -1500.0   1500.0  -1500.0   1500.0\n",
       " -1500.0   1500.0  -1500.0   1500.0      1500.0  -1500.0   1500.0  -1500.0\n",
       "  1500.0  -1500.0   1500.0  -1500.0     -1500.0   1500.0  -1500.0   1500.0"
      ]
     },
     "execution_count": 120,
     "metadata": {},
     "output_type": "execute_result"
    }
   ],
   "source": [
    "C = B'*B"
   ]
  },
  {
   "cell_type": "markdown",
   "id": "c781e9ef-db51-440c-97dd-710702b8fbf8",
   "metadata": {},
   "source": [
    "### 7. Создайте матрицу 𝑍 размерности 6 × 6, все элементы которой равны нулю, и матрицу 𝐸, все элементы которой равны 1. Используя цикл while или for и закономерности расположения элементов, создайте следующие матрицы размерности 6 × 6:"
   ]
  },
  {
   "cell_type": "markdown",
   "id": "37ce4b49-3ea9-4778-888d-e1a8fba31835",
   "metadata": {},
   "source": [
    "$Z_1 = \n",
    "\\begin{pmatrix} \n",
    "0 & 1 & 0 & 0 & 0 & 0 \\\\ \n",
    "1 & 0 & 1 & 0 & 0 & 0 \\\\ \n",
    "0 & 1 & 0 & 1 & 0 & 0 \\\\ \n",
    "0 & 0 & 1 & 0 & 1 & 0 \\\\ \n",
    "0 & 0 & 0 & 1 & 0 & 1 \\\\ \n",
    "0 & 0 & 0 & 0 & 1 & 0 \\\\ \n",
    "\\end{pmatrix}$, $Z_2 = \n",
    "\\begin{pmatrix} \n",
    "1 & 0 & 1 & 0 & 0 & 0 \\\\ \n",
    "0 & 1 & 0 & 1 & 0 & 0 \\\\ \n",
    "1 & 0 & 1 & 0 & 1 & 0 \\\\ \n",
    "0 & 1 & 0 & 1 & 0 & 1 \\\\ \n",
    "0 & 0 & 1 & 0 & 1 & 0 \\\\ \n",
    "0 & 0 & 0 & 1 & 0 & 1 \\\\ \n",
    "\\end{pmatrix}$, $Z_3 = \n",
    "\\begin{pmatrix} \n",
    "0 & 0 & 0 & 1 & 0 & 1 \\\\ \n",
    "0 & 0 & 1 & 0 & 1 & 0 \\\\ \n",
    "0 & 1 & 0 & 1 & 0 & 1 \\\\ \n",
    "1 & 0 & 1 & 0 & 1 & 0 \\\\ \n",
    "0 & 1 & 0 & 1 & 0 & 0 \\\\ \n",
    "1 & 0 & 1 & 0 & 0 & 0 \\\\ \n",
    "\\end{pmatrix}$, $Z_4 = \n",
    "\\begin{pmatrix} \n",
    "1 & 0 & 1 & 0 & 1 & 0 \\\\ \n",
    "0 & 1 & 0 & 1 & 0 & 1 \\\\ \n",
    "1 & 0 & 1 & 0 & 1 & 0 \\\\ \n",
    "0 & 1 & 0 & 1 & 0 & 1 \\\\ \n",
    "1 & 0 & 1 & 0 & 1 & 0 \\\\ \n",
    "0 & 1 & 0 & 1 & 0 & 1 \\\\ \n",
    "\\end{pmatrix}$"
   ]
  },
  {
   "cell_type": "code",
   "execution_count": 129,
   "id": "4aa5bf48-b655-4757-8cac-c52cf08ffb19",
   "metadata": {
    "tags": []
   },
   "outputs": [
    {
     "data": {
      "text/plain": [
       "6×6 Matrix{Int64}:\n",
       " 1  1  1  1  1  1\n",
       " 1  1  1  1  1  1\n",
       " 1  1  1  1  1  1\n",
       " 1  1  1  1  1  1\n",
       " 1  1  1  1  1  1\n",
       " 1  1  1  1  1  1"
      ]
     },
     "execution_count": 129,
     "metadata": {},
     "output_type": "execute_result"
    }
   ],
   "source": [
    "E = [1 for i ∈ 1:6, j ∈ 1:6]"
   ]
  },
  {
   "cell_type": "code",
   "execution_count": 133,
   "id": "15fe0195-ded6-4ccf-a831-4a446ec733ea",
   "metadata": {
    "tags": []
   },
   "outputs": [
    {
     "data": {
      "text/plain": [
       "6×6 Matrix{Int64}:\n",
       " 0  0  0  0  0  0\n",
       " 0  0  0  0  0  0\n",
       " 0  0  0  0  0  0\n",
       " 0  0  0  0  0  0\n",
       " 0  0  0  0  0  0\n",
       " 0  0  0  0  0  0"
      ]
     },
     "execution_count": 133,
     "metadata": {},
     "output_type": "execute_result"
    }
   ],
   "source": [
    "Z = [0 for i ∈ 1:6, j ∈ 1:6]"
   ]
  },
  {
   "cell_type": "code",
   "execution_count": 135,
   "id": "03fbc10e-7d70-400a-a3cd-4e8819fd5384",
   "metadata": {
    "tags": []
   },
   "outputs": [
    {
     "data": {
      "text/plain": [
       "6×6 Matrix{Int64}:\n",
       " 0  0  0  0  0  0\n",
       " 0  0  0  0  0  0\n",
       " 0  0  0  0  0  0\n",
       " 0  0  0  0  0  0\n",
       " 0  0  0  0  0  0\n",
       " 0  0  0  0  0  0"
      ]
     },
     "execution_count": 135,
     "metadata": {},
     "output_type": "execute_result"
    }
   ],
   "source": [
    "Z_1 = Int.(zeros(6, 6))\n",
    "Z_2 = Int.(zeros(6, 6))\n",
    "Z_3 = Int.(zeros(6, 6))\n",
    "Z_4 = Int.(zeros(6, 6))"
   ]
  },
  {
   "cell_type": "code",
   "execution_count": 141,
   "id": "bb7e9e9c-2479-4525-8db0-f6628774bfd5",
   "metadata": {
    "tags": []
   },
   "outputs": [
    {
     "data": {
      "text/plain": [
       "6×6 Matrix{Int64}:\n",
       " 0  1  0  0  0  0\n",
       " 1  0  1  0  0  0\n",
       " 0  1  0  1  0  0\n",
       " 0  0  1  0  1  0\n",
       " 0  0  0  1  0  1\n",
       " 0  0  0  0  1  0"
      ]
     },
     "execution_count": 141,
     "metadata": {},
     "output_type": "execute_result"
    }
   ],
   "source": [
    "for i ∈ 1:6, j ∈ 1:6\n",
    "   if (j == i +1) || (j == i - 1)\n",
    "        Z_1[i, j] = E[i, j]\n",
    "    else\n",
    "        Z_1[i, j] = Z[i, j]\n",
    "    end\n",
    "end\n",
    "Z_1"
   ]
  },
  {
   "cell_type": "code",
   "execution_count": 142,
   "id": "e06e3981-51af-4230-b658-28fdf303d2ea",
   "metadata": {
    "tags": []
   },
   "outputs": [
    {
     "data": {
      "text/plain": [
       "6×6 Matrix{Int64}:\n",
       " 1  0  1  0  0  0\n",
       " 0  1  0  1  0  0\n",
       " 1  0  1  0  1  0\n",
       " 0  1  0  1  0  1\n",
       " 0  0  1  0  1  0\n",
       " 0  0  0  1  0  1"
      ]
     },
     "execution_count": 142,
     "metadata": {},
     "output_type": "execute_result"
    }
   ],
   "source": [
    "for i ∈ 1:6, j ∈ 1:6\n",
    "   if (j == i + 2) || (j == i - 2) || (j == i)\n",
    "        Z_2[i, j] = E[i, j]\n",
    "    else\n",
    "        Z_2[i, j] = Z[i, j]\n",
    "    end\n",
    "end\n",
    "Z_2"
   ]
  },
  {
   "cell_type": "code",
   "execution_count": 144,
   "id": "354d7129-82f7-4c2b-8739-630362cc8269",
   "metadata": {
    "tags": []
   },
   "outputs": [
    {
     "data": {
      "text/plain": [
       "6×6 Matrix{Int64}:\n",
       " 0  0  0  1  0  1\n",
       " 0  0  1  0  1  0\n",
       " 0  1  0  1  0  1\n",
       " 1  0  1  0  1  0\n",
       " 0  1  0  1  0  0\n",
       " 1  0  1  0  0  0"
      ]
     },
     "execution_count": 144,
     "metadata": {},
     "output_type": "execute_result"
    }
   ],
   "source": [
    "for i ∈ 1:6, j ∈ 1:6\n",
    "   if (j == 7 - i) || (j == 5 - i) || (j == 9 - i)\n",
    "        Z_3[i, j] = E[i, j]\n",
    "    else\n",
    "        Z_3[i, j] = Z[i, j]\n",
    "    end\n",
    "end\n",
    "Z_3"
   ]
  },
  {
   "cell_type": "code",
   "execution_count": 146,
   "id": "161caac4-8a7e-41d2-bb06-ffb8cf3387e9",
   "metadata": {
    "tags": []
   },
   "outputs": [
    {
     "data": {
      "text/plain": [
       "6×6 Matrix{Int64}:\n",
       " 1  0  1  0  1  0\n",
       " 0  1  0  1  0  1\n",
       " 1  0  1  0  1  0\n",
       " 0  1  0  1  0  1\n",
       " 1  0  1  0  1  0\n",
       " 0  1  0  1  0  1"
      ]
     },
     "execution_count": 146,
     "metadata": {},
     "output_type": "execute_result"
    }
   ],
   "source": [
    "for i ∈ 1:6, j ∈ 1:6\n",
    "   if abs(i - j) == 0 || abs(i - j) == 2 || abs(i - j) == 4   #(j == i + 2) || (j == i - 2) || (j == i) || (j == i + 4) || (j == i - 4)\n",
    "        Z_4[i, j] = E[i, j]\n",
    "    else\n",
    "        Z_4[i, j] = Z[i, j]\n",
    "    end\n",
    "end\n",
    "Z_4"
   ]
  },
  {
   "cell_type": "markdown",
   "id": "d1926bd0-682b-4615-903a-5a7d66ff00bd",
   "metadata": {},
   "source": [
    "### 8. В языке R есть функция outer(). Фактически, это матричное умножение с возможностью изменить применяемую операцию (например, заменить произведение на сложение или возведение в степень).\n"
   ]
  },
  {
   "cell_type": "markdown",
   "id": "b0d5b08e-59db-4213-b78f-8d49dd92543f",
   "metadata": {},
   "source": [
    "– Напишите свою функцию, аналогичную функции outer() языка R. Функция должна иметь следующий интерфейс: outer(x,y,operation). Таким образом,\n",
    "функция вида outer(A,B,*) должна быть эквивалентна произведению матриц 𝐴 и 𝐵 размерностями $𝐿 × 𝑀$ и $𝑀 × 𝑁$ соответственно, где элементы результирующей матрицы 𝐶 имеют вид\n",
    "$C_{ij} = \\sum\\limits_{k=1}^{M} A_{ik}B_{kj}$ (или в тензорном виде $C^j_i = \\sum\\limits_{k=1}^{M} A^i_k B^k_j$)."
   ]
  },
  {
   "cell_type": "code",
   "execution_count": 168,
   "id": "7bd35417-7aab-4bd0-8cc6-13c884bcee8a",
   "metadata": {
    "tags": []
   },
   "outputs": [
    {
     "data": {
      "text/plain": [
       "outer (generic function with 1 method)"
      ]
     },
     "execution_count": 168,
     "metadata": {},
     "output_type": "execute_result"
    }
   ],
   "source": [
    "function outer(x, y, operation)\n",
    "    Res = zeros(length(x), length(y))\n",
    "    for i ∈ 1:length(x), j ∈ 1:length(y)\n",
    "       Res[i, j] = operation(x[i], y[j]) \n",
    "    end\n",
    "    return Res\n",
    "end"
   ]
  },
  {
   "cell_type": "code",
   "execution_count": 178,
   "id": "466f8d38-0db8-41f5-8af8-eb4e76a45685",
   "metadata": {
    "tags": []
   },
   "outputs": [
    {
     "data": {
      "text/plain": [
       "3×3 Matrix{Float64}:\n",
       " 5.0  6.0  7.0\n",
       " 6.0  7.0  8.0\n",
       " 7.0  8.0  9.0"
      ]
     },
     "execution_count": 178,
     "metadata": {},
     "output_type": "execute_result"
    }
   ],
   "source": [
    "x = [1, 2, 3];\n",
    "y = [4, 5, 6];\n",
    "outer(x, y, +)"
   ]
  },
  {
   "cell_type": "markdown",
   "id": "553e8ed9-19b3-46fe-b89d-6e5d2d46c452",
   "metadata": {},
   "source": [
    "– Используя написанную вами функцию outer(), создайте матрицы следующей структуры:\n",
    "$A_1 = \n",
    "\\begin{pmatrix} \n",
    "0 & 1 & 2 & 3 & 4\\\\ \n",
    "1 & 2 & 3 & 4 & 5\\\\ \n",
    "2 & 3 & 4 & 5 & 6\\\\ \n",
    "3 & 4 & 5 & 6 & 7\\\\ \n",
    "4 & 5 & 6 & 7 & 8\\\\ \n",
    "\\end{pmatrix}$, $A_2 = \n",
    "\\begin{pmatrix} \n",
    "0 & 0 & 0 & 0 & 0\\\\ \n",
    "1 & 1 & 1 & 1 & 1\\\\ \n",
    "2 & 4 & 8 & 16 & 32\\\\ \n",
    "3 & 9 & 27 & 81 & 243\\\\ \n",
    "4 & 16 & 64 & 256 & 1024\\\\ \n",
    "\\end{pmatrix}$, $A_3 = \n",
    "\\begin{pmatrix} \n",
    "0 & 1 & 2 & 3 & 4\\\\ \n",
    "1 & 2 & 3 & 4 & 0\\\\ \n",
    "2 & 3 & 4 & 0 & 1\\\\ \n",
    "3 & 4 & 0 & 1 & 2\\\\ \n",
    "4 & 0 & 1 & 2 & 3\\\\ \n",
    "\\end{pmatrix}$, $A_4 = \n",
    "\\begin{pmatrix} \n",
    "0 & 1 & 2 & 3 & 4 & 5 & 6 & 7 & 8 & 9\\\\ \n",
    "1 & 2 & 3 & 4 & 5 & 6 & 7 & 8 & 9 & 0\\\\ \n",
    "\\vdots & \\vdots & \\vdots & \\vdots & \\vdots & \\vdots & \\vdots & \\vdots & \\vdots & \\vdots\\\\ \n",
    "8 & 9 & 0 & 1 & 2 & 3 & 4 & 5 & 6 & 7\\\\ \n",
    "9 & 0 & 1 & 2 & 3 & 4 & 5 & 6 & 7 & 8\\\\ \n",
    "\\end{pmatrix}$, $A_5 = \n",
    "\\begin{pmatrix} \n",
    "0 & 8 & 7 & 6 & 5 & 4 & 3 & 2 & 1\\\\ \n",
    "1 & 0 & 8 & 7 & 6 & 5 & 4 & 3 & 2\\\\\n",
    "2 & 1 & 0 & 8 & 7 & 6 & 5 & 4 & 3\\\\\n",
    "3 & 2 & 1 & 0 & 8 & 7 & 6 & 5 & 4\\\\\n",
    "4 & 3 & 2 & 1 & 0 & 8 & 7 & 6 & 5\\\\\n",
    "5 & 4 & 3 & 2 & 1 & 0 & 8 & 7 & 6\\\\\n",
    "6 & 5 & 4 & 3 & 2 & 1 & 0 & 8 & 7\\\\\n",
    "7 & 6 & 5 & 4 & 3 & 2 & 1 & 0 & 8\\\\\n",
    "8 & 7 & 6 & 5 & 4 & 3 & 2 & 1 & 0\\\\\n",
    "\\end{pmatrix}$"
   ]
  },
  {
   "cell_type": "code",
   "execution_count": 176,
   "id": "3e6a14b2-d26a-4742-bca9-49c2601464e1",
   "metadata": {
    "tags": []
   },
   "outputs": [
    {
     "data": {
      "text/plain": [
       "5×5 Matrix{Float64}:\n",
       " 0.0  1.0  2.0  3.0  4.0\n",
       " 1.0  2.0  3.0  4.0  5.0\n",
       " 2.0  3.0  4.0  5.0  6.0\n",
       " 3.0  4.0  5.0  6.0  7.0\n",
       " 4.0  5.0  6.0  7.0  8.0"
      ]
     },
     "execution_count": 176,
     "metadata": {},
     "output_type": "execute_result"
    }
   ],
   "source": [
    "a_1 = [0, 1, 2, 3, 4]\n",
    "b_1 = [0, 1, 2, 3, 4]\n",
    "A_1 = outer(a_1, b_1, +)"
   ]
  },
  {
   "cell_type": "code",
   "execution_count": 179,
   "id": "14af0caf-af22-4aa8-9cb8-e3fb73c676be",
   "metadata": {
    "tags": []
   },
   "outputs": [
    {
     "data": {
      "text/plain": [
       "5×5 Matrix{Float64}:\n",
       " 0.0   0.0   0.0    0.0     0.0\n",
       " 1.0   1.0   1.0    1.0     1.0\n",
       " 2.0   4.0   8.0   16.0    32.0\n",
       " 3.0   9.0  27.0   81.0   243.0\n",
       " 4.0  16.0  64.0  256.0  1024.0"
      ]
     },
     "execution_count": 179,
     "metadata": {},
     "output_type": "execute_result"
    }
   ],
   "source": [
    "a_2 = a_1\n",
    "b_2 = [1, 2, 3, 4, 5]\n",
    "A_2 = outer(a_2, b_2, ^)"
   ]
  },
  {
   "cell_type": "code",
   "execution_count": 190,
   "id": "2b49712f-fa1b-4631-87a4-dbf89674dbc7",
   "metadata": {
    "tags": []
   },
   "outputs": [
    {
     "data": {
      "text/plain": [
       "5×5 Matrix{Float64}:\n",
       " 0.0  1.0  2.0  3.0  4.0\n",
       " 1.0  2.0  3.0  4.0  0.0\n",
       " 2.0  3.0  4.0  0.0  1.0\n",
       " 3.0  4.0  0.0  1.0  2.0\n",
       " 4.0  0.0  1.0  2.0  3.0"
      ]
     },
     "execution_count": 190,
     "metadata": {},
     "output_type": "execute_result"
    }
   ],
   "source": [
    "a_3 = [0, 1, 2, 3, 4]\n",
    "b_3 = [0, 1, 2, 3, 4]\n",
    "A_3 = outer(a_3, b_3, +) .%5"
   ]
  },
  {
   "cell_type": "code",
   "execution_count": 192,
   "id": "4033cb9e-10ea-4f33-ac35-c5bc8bfdfe95",
   "metadata": {
    "tags": []
   },
   "outputs": [
    {
     "data": {
      "text/plain": [
       "10×10 Matrix{Float64}:\n",
       " 0.0  1.0  2.0  3.0  4.0  5.0  6.0  7.0  8.0  9.0\n",
       " 1.0  2.0  3.0  4.0  5.0  6.0  7.0  8.0  9.0  0.0\n",
       " 2.0  3.0  4.0  5.0  6.0  7.0  8.0  9.0  0.0  1.0\n",
       " 3.0  4.0  5.0  6.0  7.0  8.0  9.0  0.0  1.0  2.0\n",
       " 4.0  5.0  6.0  7.0  8.0  9.0  0.0  1.0  2.0  3.0\n",
       " 5.0  6.0  7.0  8.0  9.0  0.0  1.0  2.0  3.0  4.0\n",
       " 6.0  7.0  8.0  9.0  0.0  1.0  2.0  3.0  4.0  5.0\n",
       " 7.0  8.0  9.0  0.0  1.0  2.0  3.0  4.0  5.0  6.0\n",
       " 8.0  9.0  0.0  1.0  2.0  3.0  4.0  5.0  6.0  7.0\n",
       " 9.0  0.0  1.0  2.0  3.0  4.0  5.0  6.0  7.0  8.0"
      ]
     },
     "execution_count": 192,
     "metadata": {},
     "output_type": "execute_result"
    }
   ],
   "source": [
    "a_4 = [i for i ∈ 0:9]\n",
    "b_4 = [i for i ∈ 0:9]\n",
    "A_4 = outer(a_4, b_4, +) .%10"
   ]
  },
  {
   "cell_type": "code",
   "execution_count": 199,
   "id": "8b0233f1-657f-4cfa-a80e-fb67cfacae7c",
   "metadata": {
    "tags": []
   },
   "outputs": [
    {
     "data": {
      "text/plain": [
       "9×9 Matrix{Float64}:\n",
       " 0.0  8.0  7.0  6.0  5.0  4.0  3.0  2.0  1.0\n",
       " 1.0  0.0  8.0  7.0  6.0  5.0  4.0  3.0  2.0\n",
       " 2.0  1.0  0.0  8.0  7.0  6.0  5.0  4.0  3.0\n",
       " 3.0  2.0  1.0  0.0  8.0  7.0  6.0  5.0  4.0\n",
       " 4.0  3.0  2.0  1.0  0.0  8.0  7.0  6.0  5.0\n",
       " 5.0  4.0  3.0  2.0  1.0  0.0  8.0  7.0  6.0\n",
       " 6.0  5.0  4.0  3.0  2.0  1.0  0.0  8.0  7.0\n",
       " 7.0  6.0  5.0  4.0  3.0  2.0  1.0  0.0  8.0\n",
       " 8.0  7.0  6.0  5.0  4.0  3.0  2.0  1.0  0.0"
      ]
     },
     "execution_count": 199,
     "metadata": {},
     "output_type": "execute_result"
    }
   ],
   "source": [
    "a_5 = [i for i ∈ 0:8]\n",
    "b_5 = [i for i ∈ 9:-1:1]\n",
    "A_5 = (outer(a_5, b_5, +) .%9)"
   ]
  },
  {
   "cell_type": "markdown",
   "id": "ad1ff479-ef17-4c22-bb53-d8c279b6c563",
   "metadata": {},
   "source": [
    "### 9. Решите следующую систему линейных уравнений с 5 неизвестными:"
   ]
  },
  {
   "cell_type": "markdown",
   "id": "80ee510f-ac04-4734-b332-f3e623e1391f",
   "metadata": {},
   "source": [
    "$$\n",
    "\\begin{align}\n",
    "𝑥_1 + 2𝑥_2 + 3𝑥_3 + 4𝑥_4 + 5𝑥_5 = 7, \\\\\n",
    "2𝑥_1 + 𝑥_2 + 2𝑥_3 + 3𝑥_4 + 4𝑥_5 = −1, \\\\\n",
    "3𝑥_1 + 2𝑥_2 + 𝑥_3 + 2𝑥_4 + 3𝑥_5 = −3, \\\\\n",
    "4𝑥_1 + 3𝑥_2 + 2𝑥_3 + 𝑥_4 + 2𝑥_5 = 5, \\\\\n",
    "5𝑥_1 + 4𝑥_2 + 3𝑥_3 + 2𝑥_4 + 𝑥_5 = 17,\n",
    "\\end{align}\n",
    "$$\n",
    "рассмотрев соответствующее матричное уравнение Ax = 𝑦. Обратите внимание на\n",
    "особый вид матрицы 𝐴. Метод, используемый для решения данной системы уравнений, должен быть легко обобщаем на случай большего числа уравнений, где матрица\n",
    "𝐴 будет иметь такую же структуру."
   ]
  },
  {
   "cell_type": "code",
   "execution_count": 349,
   "id": "0161ec73-6b42-48e3-bc6d-31c571635d98",
   "metadata": {
    "tags": []
   },
   "outputs": [
    {
     "data": {
      "text/plain": [
       "5×5 Matrix{Float64}:\n",
       " 1.0  2.0  3.0  4.0  5.0\n",
       " 2.0  1.0  2.0  3.0  4.0\n",
       " 3.0  2.0  1.0  2.0  3.0\n",
       " 4.0  3.0  2.0  1.0  2.0\n",
       " 5.0  4.0  3.0  2.0  1.0"
      ]
     },
     "execution_count": 349,
     "metadata": {},
     "output_type": "execute_result"
    }
   ],
   "source": [
    "M = 5\n",
    "A = zeros(M, M)\n",
    "for k ∈ 1:M\n",
    "    for i ∈ k:M\n",
    "        A[k, i] = i - k + 1\n",
    "        A[i, k] = i - k + 1\n",
    "    end\n",
    "end\n",
    "A "
   ]
  },
  {
   "cell_type": "code",
   "execution_count": 350,
   "id": "034d7ed3-8030-4310-b1fa-6b8d2a9b2233",
   "metadata": {
    "tags": []
   },
   "outputs": [
    {
     "data": {
      "text/plain": [
       "5-element Vector{Int64}:\n",
       "  7\n",
       " -1\n",
       " -3\n",
       "  5\n",
       " 17"
      ]
     },
     "execution_count": 350,
     "metadata": {},
     "output_type": "execute_result"
    }
   ],
   "source": [
    "b = [7, -1, -3, 5, 17]"
   ]
  },
  {
   "cell_type": "code",
   "execution_count": 351,
   "id": "0c23f0c7-f2a7-48d7-9ccb-47e854d59a15",
   "metadata": {
    "tags": []
   },
   "outputs": [
    {
     "data": {
      "text/plain": [
       "Gauss (generic function with 2 methods)"
      ]
     },
     "execution_count": 351,
     "metadata": {},
     "output_type": "execute_result"
    }
   ],
   "source": [
    "function Gauss_Straight(A)\n",
    "    for i ∈ 1:(size(A)[1])\n",
    "        for k ∈ (i+1):(size(A)[2]-1)\n",
    "            A[k, :] = A[k, :] - A[i, :]*(A[k, i] / A[i, i])\n",
    "        end\n",
    "    end\n",
    "    return A\n",
    "end\n",
    "\n",
    "function Gauss_Reverse(_A_)\n",
    "    x = zeros(size(_A_)[1])\n",
    "    for i ∈ (size(_A_)[1]):-1:1\n",
    "        b = _A_[i, size(_A_)[2]]\n",
    "        for j ∈ (size(_A_)[1]):-1:i\n",
    "            if j != i\n",
    "                b -= x[j]*_A_[i, j]\n",
    "            end\n",
    "        end\n",
    "        x[i] = b / _A_[i, i]\n",
    "    end\n",
    "    return x\n",
    "end\n",
    "\n",
    "function Gauss(A, b)\n",
    "    A_ = hcat(A, b)\n",
    "    _A_ = Gauss_Straight(A_)\n",
    "    X = Gauss_Reverse(_A_)\n",
    "    return X\n",
    "end"
   ]
  },
  {
   "cell_type": "code",
   "execution_count": 352,
   "id": "de592027-6abe-4782-aeee-4db8da23b4f0",
   "metadata": {
    "tags": []
   },
   "outputs": [
    {
     "data": {
      "text/plain": [
       "5×6 Matrix{Float64}:\n",
       " 1.0   2.0   3.0       4.0       5.0    7.0\n",
       " 0.0  -3.0  -4.0      -5.0      -6.0  -15.0\n",
       " 0.0   0.0  -2.66667  -3.33333  -4.0   -4.0\n",
       " 0.0   0.0   0.0      -2.5      -3.0    7.0\n",
       " 0.0   0.0   0.0       0.0      -2.4    9.6"
      ]
     },
     "execution_count": 352,
     "metadata": {},
     "output_type": "execute_result"
    }
   ],
   "source": [
    "_A_ = hcat(A, b)\n",
    "#print(size(_A_))\n",
    "A__ = Gauss_Straight(_A_)"
   ]
  },
  {
   "cell_type": "code",
   "execution_count": 353,
   "id": "3f4f2bb2-ec94-4cbc-ac58-788fc4471ec2",
   "metadata": {
    "tags": []
   },
   "outputs": [
    {
     "data": {
      "text/plain": [
       "5-element Vector{Float64}:\n",
       " -2.0000000000000044\n",
       "  3.000000000000002\n",
       "  4.9999999999999964\n",
       "  2.0000000000000044\n",
       " -4.000000000000002"
      ]
     },
     "execution_count": 353,
     "metadata": {},
     "output_type": "execute_result"
    }
   ],
   "source": [
    "X = Gauss_Reverse(A__)"
   ]
  },
  {
   "cell_type": "code",
   "execution_count": 354,
   "id": "b3b87864-e5f8-4f66-ba50-0d6500d3be41",
   "metadata": {
    "tags": []
   },
   "outputs": [
    {
     "data": {
      "text/plain": [
       "5-element Vector{Float64}:\n",
       " -2.0\n",
       "  3.0\n",
       "  5.0\n",
       "  2.0\n",
       " -4.0"
      ]
     },
     "execution_count": 354,
     "metadata": {},
     "output_type": "execute_result"
    }
   ],
   "source": [
    "x = round.(X)"
   ]
  },
  {
   "cell_type": "code",
   "execution_count": 355,
   "id": "3d70d919-f153-4383-b778-d37419776f3b",
   "metadata": {
    "tags": []
   },
   "outputs": [
    {
     "data": {
      "text/plain": [
       "5-element Vector{Float64}:\n",
       " -2.0\n",
       "  3.0\n",
       "  5.0\n",
       "  2.0\n",
       " -4.0"
      ]
     },
     "execution_count": 355,
     "metadata": {},
     "output_type": "execute_result"
    }
   ],
   "source": [
    "x2 = round.(Gauss(A, b))"
   ]
  },
  {
   "cell_type": "markdown",
   "id": "15e4b28e-15d5-4b42-b30e-ac0a474198e6",
   "metadata": {},
   "source": [
    "### 10. Создайте матрицу 𝑀 размерности $6 × 10$, элементами которой являются целые числа, выбранные случайным образом с повторениями из совокупности $1, 2, \\dots, 10$."
   ]
  },
  {
   "cell_type": "code",
   "execution_count": 260,
   "id": "d37a9726-e651-464f-bd46-5b11b0f89a2e",
   "metadata": {
    "tags": []
   },
   "outputs": [
    {
     "data": {
      "text/plain": [
       "6×10 Matrix{Int64}:\n",
       "  7  10  1  1   7  4  1  6  2  1\n",
       "  7   4  6  6   6  8  5  5  3  3\n",
       "  6   8  9  8   7  4  2  8  4  2\n",
       " 10  10  7  7  10  7  4  3  5  5\n",
       "  6   1  7  3   3  2  5  3  5  3\n",
       "  8   6  8  3  10  6  3  5  6  1"
      ]
     },
     "execution_count": 260,
     "metadata": {},
     "output_type": "execute_result"
    }
   ],
   "source": [
    "M = rand(1:10, (6, 10))"
   ]
  },
  {
   "cell_type": "markdown",
   "id": "e2c34b0e-72db-4067-ae47-abcd2585e6e4",
   "metadata": {},
   "source": [
    "– Найдите число элементов в каждой строке матрицы 𝑀, которые больше числа $𝑁_1$ (например, $𝑁_1 = 4$)."
   ]
  },
  {
   "cell_type": "code",
   "execution_count": 261,
   "id": "25d5b4af-ec21-4437-a622-3d08f7fc95a9",
   "metadata": {
    "tags": []
   },
   "outputs": [
    {
     "data": {
      "text/plain": [
       "6-element Vector{Int64}:\n",
       " 4\n",
       " 7\n",
       " 6\n",
       " 8\n",
       " 4\n",
       " 7"
      ]
     },
     "execution_count": 261,
     "metadata": {},
     "output_type": "execute_result"
    }
   ],
   "source": [
    "N1 = 4\n",
    "Numbers_1 = Int.(zeros(6))\n",
    "for i ∈ 1:6\n",
    "    for j ∈ 1:10\n",
    "        if (M[i, j] > N1)\n",
    "            Numbers_1[i] += 1\n",
    "        end\n",
    "    end\n",
    "end\n",
    "Numbers_1"
   ]
  },
  {
   "cell_type": "markdown",
   "id": "f16ddadd-29be-46d9-92cf-208a7c39d15b",
   "metadata": {},
   "source": [
    "– Определите, в каких строках матрицы 𝑀 число $N_2$ (например,$N_2 = 7$) встречается ровно 2 раза?"
   ]
  },
  {
   "cell_type": "code",
   "execution_count": 264,
   "id": "8ef13eb2-4475-4d4c-ae09-2f8632d54912",
   "metadata": {
    "tags": []
   },
   "outputs": [
    {
     "name": "stdout",
     "output_type": "stream",
     "text": [
      "[2, 1, 1, 3, 1, 0]"
     ]
    },
    {
     "data": {
      "text/plain": [
       "1-element Vector{Int64}:\n",
       " 1"
      ]
     },
     "execution_count": 264,
     "metadata": {},
     "output_type": "execute_result"
    }
   ],
   "source": [
    "N2 = 7\n",
    "Numbers_2 = Int.(zeros(6))\n",
    "for i ∈ 1:6\n",
    "    for j ∈ 1:10\n",
    "        if (M[i, j] == N2)\n",
    "            Numbers_2[i] += 1\n",
    "        end\n",
    "    end\n",
    "end\n",
    "print(Numbers_2)\n",
    "findall(x -> x == 2, Numbers_2)"
   ]
  },
  {
   "cell_type": "markdown",
   "id": "3ca08537-00c4-48b2-a3a7-bef6aac6373b",
   "metadata": {},
   "source": [
    "– Определите все пары столбцов матрицы 𝑀, сумма элементов которых больше $𝐾$ (например, $𝐾 = 75$)."
   ]
  },
  {
   "cell_type": "code",
   "execution_count": 263,
   "id": "386c3dc2-70d2-49b6-a535-ef38c3c33efc",
   "metadata": {
    "tags": []
   },
   "outputs": [
    {
     "data": {
      "text/plain": [
       "6-element Vector{Any}:\n",
       " (1, 2)\n",
       " (1, 3)\n",
       " (1, 5)\n",
       " (2, 3)\n",
       " (2, 5)\n",
       " (3, 5)"
      ]
     },
     "execution_count": 263,
     "metadata": {},
     "output_type": "execute_result"
    }
   ],
   "source": [
    "K = 75\n",
    "Numbers_3 = []\n",
    "for i ∈ 1:9\n",
    "    for j ∈ (i+1):10\n",
    "        if (sum(M[:, i]) + sum(M[:, j]) > K)\n",
    "            push!(Numbers_3, (i, j))\n",
    "        end\n",
    "    end\n",
    "end\n",
    "Numbers_3"
   ]
  },
  {
   "cell_type": "markdown",
   "id": "b7d553f7-7dbf-4b10-aaaf-c0f52b1ce58c",
   "metadata": {},
   "source": [
    "### 11. Вычислите:"
   ]
  },
  {
   "cell_type": "markdown",
   "id": "770a0c65-7988-4742-879f-dabf92973d2b",
   "metadata": {},
   "source": [
    "$\\sum\\limits_{i=1}^{20} \\sum\\limits_{j=1}^{5} \\frac{i^4}{(3+j)}$"
   ]
  },
  {
   "cell_type": "code",
   "execution_count": 265,
   "id": "df670ebe-b21a-4746-89e1-519c50d04d69",
   "metadata": {
    "tags": []
   },
   "outputs": [
    {
     "data": {
      "text/plain": [
       "639215.2833333334"
      ]
     },
     "execution_count": 265,
     "metadata": {},
     "output_type": "execute_result"
    }
   ],
   "source": [
    "S_1 = 0\n",
    "for i ∈ 1:20\n",
    "    for j ∈ 1:5\n",
    "        S_1 += i^4 / (3 + j)\n",
    "    end\n",
    "end\n",
    "S_1"
   ]
  },
  {
   "cell_type": "markdown",
   "id": "41b42569-60bc-4fab-9cce-ddc35a79bd36",
   "metadata": {},
   "source": [
    "$\\sum\\limits_{i=1}^{20} \\sum\\limits_{j=1}^{5} \\frac{i^4}{(3+ij)}$"
   ]
  },
  {
   "cell_type": "code",
   "execution_count": 266,
   "id": "bcae496d-e89c-46c8-9ea6-7fd1bd966dca",
   "metadata": {
    "tags": []
   },
   "outputs": [
    {
     "data": {
      "text/plain": [
       "89912.02146097136"
      ]
     },
     "execution_count": 266,
     "metadata": {},
     "output_type": "execute_result"
    }
   ],
   "source": [
    "S_2 = 0\n",
    "for i ∈ 1:20\n",
    "    for j ∈ 1:5\n",
    "        S_2 += i^4 / (3 + i*j)\n",
    "    end\n",
    "end\n",
    "S_2"
   ]
  },
  {
   "cell_type": "code",
   "execution_count": null,
   "id": "8c4591a2-4308-44f7-b5c5-f70b23c43f5d",
   "metadata": {},
   "outputs": [],
   "source": []
  },
  {
   "cell_type": "code",
   "execution_count": null,
   "id": "f78dbc29-198f-4572-a7c5-8833a00a18c0",
   "metadata": {},
   "outputs": [],
   "source": []
  }
 ],
 "metadata": {
  "kernelspec": {
   "display_name": "Julia 1.8.5",
   "language": "julia",
   "name": "julia-1.8"
  },
  "language_info": {
   "file_extension": ".jl",
   "mimetype": "application/julia",
   "name": "julia",
   "version": "1.8.5"
  }
 },
 "nbformat": 4,
 "nbformat_minor": 5
}
